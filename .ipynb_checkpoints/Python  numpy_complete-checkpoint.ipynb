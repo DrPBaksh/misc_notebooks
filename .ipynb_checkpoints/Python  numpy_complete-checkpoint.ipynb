{
 "cells": [
  {
   "cell_type": "markdown",
   "id": "fbe2725f",
   "metadata": {
    "cell_id": "00000-1e8d310b-b3b2-45cc-8e2d-a5e0cfc139e2",
    "deepnote_cell_type": "markdown"
   },
   "source": [
    "<img src='https://raw.githubusercontent.com/CorndelDataAnalyticsDiploma/workshop/master/Corndel%20Digital%20Logo%20Centre.png' width =\"301.5\" height=216>"
   ]
  },
  {
   "cell_type": "markdown",
   "id": "878a2b5e",
   "metadata": {
    "cell_id": "00001-3b97d3ed-6de1-4d6d-b20d-4b990376e01e",
    "deepnote_cell_type": "markdown"
   },
   "source": [
    "# Python Numpy for numerical data\n"
   ]
  },
  {
   "cell_type": "markdown",
   "id": "02afa4ba",
   "metadata": {
    "cell_id": "00002-785872b7-d47c-4b15-9c99-4122598982d1",
    "deepnote_cell_type": "markdown"
   },
   "source": [
    "<a id='Contents'></a>\n",
    "## Contents\n",
    "<b>\n",
    "\n",
    "- [1 Numpy Data Types and Create Arrays](#1) \n",
    "- [2 Inspect Arrays](#2) \n",
    "- [3 Sampling](#3) \n",
    "- [4 Math Functions](#4) \n",
    "- [5 Slicing and Indexing](#5) \n",
    "- [6 Sorting an Array](#6) \n",
    "- [7 Manipulate an array](#7) \n",
    "- [8 Combine and split array](#8)\n",
    "- [9 Set operations](#9)\n",
    "- [10 Linear algebra](#10) \n",
    "\n",
    "</b>"
   ]
  },
  {
   "cell_type": "markdown",
   "id": "654146fc",
   "metadata": {},
   "source": [
    "---\n",
    "<a id=\"guides\"></a>\n",
    "# 1 Good Numpy guides\n",
    "[Back to Contents](#Contents)\n",
    "\n",
    "**You are not expected to memorise what we cover today!!!** Instead, let us briefly review together these great resources.\n",
    "\n",
    "## Numpy docs\n",
    "- Start with Numpy User Guide:https://numpy.org/doc/stable/numpy-user.pdf (or google Numpy ...)\n",
    "- Numpy for beginners : https://numpy.org/doc/stable/user/absolute_beginners.html\n",
    "- Numpy quickstart : https://numpy.org/doc/stable/user/quickstart.html\n",
    "\n",
    "## I know what I want to do in MATLAB, how do I do it in numpy?\n",
    "\n",
    "- Numpy comparision with MATLAB:https://numpy.org/doc/stable/user/numpy-for-matlab-users.html\n",
    "\n",
    "\n",
    "## External\n",
    "- W3 schools Numpy: https://www.w3schools.com/python/numpy/numpy_intro.asp\n",
    "- Effective Python for Data Scientist : Numpy : https://khuyentran1401.github.io/Efficient_Python_tricks_and_tools_for_data_scientists/Chapter4/Numpy.html\n",
    "\n"
   ]
  },
  {
   "cell_type": "markdown",
   "id": "e373b34b",
   "metadata": {
    "cell_id": "00005-c9213ef8-ce9a-4173-bd21-e01b98551b87",
    "deepnote_cell_type": "markdown"
   },
   "source": [
    "<a id=\"import\"></a>\n",
    "# Import packages and Check the version \n",
    "[Back to Contents](#Contents)\n",
    "\n",
    "First, we will import the packages that we will need later.\n",
    "\n",
    "Numpy manages arrays and gives us a suite of optimised functions to transform these arrays\n",
    "\n",
    "Remeber the syntax for importing a package is:\n",
    "> <span style=\"color:blue\">\\# *Import the xxx package*</span><br>\n",
    "<span style=\"color:green;font-weight:bold\">import</span> xxx <span style=\"color:green;font-weight:bold\">as</span> x \n",
    "\n",
    "\n",
    "In this example, *xxx* is the name of the package and *x* is the alias we give it to make it easier to refer to later.\n",
    "\n"
   ]
  },
  {
   "cell_type": "markdown",
   "id": "8ef1237b-ab26-488b-a8b4-2776e4ea54e1",
   "metadata": {},
   "source": [
    "<div class=\"alert alert-block alert-warning\">\n",
    "<b>Task:</b> Given we imported pandas package as <span style=\"color:green;font-weight:bold\">import</span> pandas <span style=\"color:green;font-weight:bold\">as</span> pd , now import the numpy package in using the alias np \n",
    "</div>\n"
   ]
  },
  {
   "cell_type": "code",
   "execution_count": 1,
   "id": "cf6d22b4",
   "metadata": {
    "cell_id": "00006-14f92798-3237-4c2a-9843-f662cbef56a9",
    "deepnote_cell_type": "code",
    "deepnote_to_be_reexecuted": false,
    "execution_millis": 16,
    "execution_start": 1627296716032,
    "source_hash": "7957de76"
   },
   "outputs": [],
   "source": [
    "# Import the numpy package as np\n",
    "import numpy as np"
   ]
  },
  {
   "cell_type": "markdown",
   "id": "99c4149b",
   "metadata": {},
   "source": [
    "It can be useful to check the version of the package that you are using. This is often useful when using numpy because a *pip install* of other packages can change the version you are using."
   ]
  },
  {
   "cell_type": "code",
   "execution_count": 2,
   "id": "405c9d16",
   "metadata": {},
   "outputs": [
    {
     "name": "stdout",
     "output_type": "stream",
     "text": [
      "Numpy version: 1.22.4\n"
     ]
    }
   ],
   "source": [
    "print('Numpy version: ' + np.__version__)"
   ]
  },
  {
   "cell_type": "markdown",
   "id": "cb468a05-7835-47dd-a8d3-d890653d2491",
   "metadata": {},
   "source": [
    "<a id=\"1\"></a>\n",
    "\n",
    "# 1 Numpy Data Types and Creating Arrays \n",
    "[Back to Contents](#Contents)\n",
    "\n",
    "Numpy support many data types that can be especially useful in mathmatical analysis. \n",
    "\n",
    "When a numpy object is created numpy infers a data type however this may not be the most appropriate, however it often is suitable. For instance if a numpy array (1D vector) is created from a list of integers numpy will assign that a datatype of *int32* which is a 32 bit integer.\n",
    "\n",
    "Below is a list of data types that numpy supports with their type codes. Often the types codes is given as a response when exploring the data type or when an error message is displayed so we may want to translate it back to understand what it means\n",
    "\n",
    "\n"
   ]
  },
  {
   "cell_type": "code",
   "execution_count": 3,
   "id": "d75ac767-debf-4e34-ada4-2d04bc91b902",
   "metadata": {},
   "outputs": [
    {
     "data": {
      "text/html": [
       "<div>\n",
       "<style scoped>\n",
       "    .dataframe tbody tr th:only-of-type {\n",
       "        vertical-align: middle;\n",
       "    }\n",
       "\n",
       "    .dataframe tbody tr th {\n",
       "        vertical-align: top;\n",
       "    }\n",
       "\n",
       "    .dataframe thead th {\n",
       "        text-align: right;\n",
       "    }\n",
       "</style>\n",
       "<table border=\"1\" class=\"dataframe\">\n",
       "  <thead>\n",
       "    <tr style=\"text-align: right;\">\n",
       "      <th></th>\n",
       "      <th>Type</th>\n",
       "      <th>Type Code</th>\n",
       "    </tr>\n",
       "  </thead>\n",
       "  <tbody>\n",
       "    <tr>\n",
       "      <th>0</th>\n",
       "      <td>int8</td>\n",
       "      <td>i1</td>\n",
       "    </tr>\n",
       "    <tr>\n",
       "      <th>1</th>\n",
       "      <td>uint8</td>\n",
       "      <td>u1</td>\n",
       "    </tr>\n",
       "    <tr>\n",
       "      <th>2</th>\n",
       "      <td>int16</td>\n",
       "      <td>i2</td>\n",
       "    </tr>\n",
       "    <tr>\n",
       "      <th>3</th>\n",
       "      <td>uint16</td>\n",
       "      <td>u2</td>\n",
       "    </tr>\n",
       "    <tr>\n",
       "      <th>4</th>\n",
       "      <td>int32</td>\n",
       "      <td>i4</td>\n",
       "    </tr>\n",
       "    <tr>\n",
       "      <th>5</th>\n",
       "      <td>uint32</td>\n",
       "      <td>u4</td>\n",
       "    </tr>\n",
       "    <tr>\n",
       "      <th>6</th>\n",
       "      <td>int64</td>\n",
       "      <td>i8</td>\n",
       "    </tr>\n",
       "    <tr>\n",
       "      <th>7</th>\n",
       "      <td>uint64</td>\n",
       "      <td>u8</td>\n",
       "    </tr>\n",
       "    <tr>\n",
       "      <th>8</th>\n",
       "      <td>float16</td>\n",
       "      <td>f2</td>\n",
       "    </tr>\n",
       "    <tr>\n",
       "      <th>9</th>\n",
       "      <td>float32</td>\n",
       "      <td>f4 or f</td>\n",
       "    </tr>\n",
       "    <tr>\n",
       "      <th>10</th>\n",
       "      <td>float64</td>\n",
       "      <td>f8 or d</td>\n",
       "    </tr>\n",
       "    <tr>\n",
       "      <th>11</th>\n",
       "      <td>float128</td>\n",
       "      <td>f16 or g</td>\n",
       "    </tr>\n",
       "    <tr>\n",
       "      <th>12</th>\n",
       "      <td>complex64</td>\n",
       "      <td>c8</td>\n",
       "    </tr>\n",
       "    <tr>\n",
       "      <th>13</th>\n",
       "      <td>complex128</td>\n",
       "      <td>c16</td>\n",
       "    </tr>\n",
       "    <tr>\n",
       "      <th>14</th>\n",
       "      <td>bool</td>\n",
       "      <td></td>\n",
       "    </tr>\n",
       "    <tr>\n",
       "      <th>15</th>\n",
       "      <td>object</td>\n",
       "      <td>O</td>\n",
       "    </tr>\n",
       "    <tr>\n",
       "      <th>16</th>\n",
       "      <td>string_</td>\n",
       "      <td>S</td>\n",
       "    </tr>\n",
       "    <tr>\n",
       "      <th>17</th>\n",
       "      <td>unicode_</td>\n",
       "      <td>U</td>\n",
       "    </tr>\n",
       "  </tbody>\n",
       "</table>\n",
       "</div>"
      ],
      "text/plain": [
       "          Type Type Code\n",
       "0         int8        i1\n",
       "1        uint8        u1\n",
       "2        int16        i2\n",
       "3       uint16        u2\n",
       "4        int32        i4\n",
       "5       uint32        u4\n",
       "6        int64        i8\n",
       "7       uint64        u8\n",
       "8      float16        f2\n",
       "9      float32   f4 or f\n",
       "10     float64   f8 or d\n",
       "11    float128  f16 or g\n",
       "12   complex64        c8\n",
       "13  complex128       c16\n",
       "14        bool          \n",
       "15      object         O\n",
       "16     string_         S\n",
       "17    unicode_         U"
      ]
     },
     "execution_count": 3,
     "metadata": {},
     "output_type": "execute_result"
    }
   ],
   "source": [
    "import pandas as pd\n",
    "dtypes = pd.DataFrame(\n",
    "    {\n",
    "        'Type': ['int8', 'uint8', 'int16', 'uint16', 'int32', 'uint32', 'int64', 'uint64', 'float16', 'float32', 'float64', 'float128', 'complex64', 'complex128', 'bool', 'object', 'string_', 'unicode_'],\n",
    "        'Type Code': ['i1', 'u1', 'i2', 'u2', 'i4', 'u4', 'i8', 'u8', 'f2', 'f4 or f', 'f8 or d', 'f16 or g', 'c8', 'c16', '', 'O', 'S', 'U']\n",
    "    }\n",
    ")\n",
    "\n",
    "dtypes"
   ]
  },
  {
   "cell_type": "markdown",
   "id": "7402e30f-64ba-41a8-b838-6267d01af68a",
   "metadata": {},
   "source": [
    "The following guide helps explain numpy data types https://www.w3schools.com/python/numpy/numpy_data_types.asp\n",
    "\n",
    "We can see a more detailed description of these data types in the following link. https://www.tutorialspoint.com/numpy/numpy_data_types.htm\n",
    "\n",
    "As a summary the main data types you will work with  \n",
    "- **int __* : this is an integer data type where the number at the end represents the size of number the data type can support\n",
    "- **unit__* : this is known as a unsigned integer. This means it only stores the modules value and ignores an positive or negetive assosiated with the number\n",
    "- **float__* : this is used to store decimal numbers of different degrees of precision (decimal places). \n",
    "- **Complex number* : this will store both the real and imaginary component if you are working with complex numbers. \n",
    "- **bool* : Takes true false values"
   ]
  },
  {
   "cell_type": "markdown",
   "id": "d73c66cb-c7e3-4781-bd81-da40a239e777",
   "metadata": {},
   "source": [
    "A numpy array can be considered a grid or n dimensional store of values that can only contain one value.\n",
    "\n",
    "Often you may wish to create a numpy array rather than a list if you are likely to be perfomring mathmatical functions on the grid or collection of items \n",
    "\n",
    "The syntax for creating an array is :\n",
    "> <span style=\"color:blue\">\\# *creating a numpy array*</span><br>\n",
    "<span style=\"color:black\"> new_array = np.</span> <span style=\"color:blue\">numpy</span> (<span style=\"color:green\">[values... \n",
    "]</span>, dtype = \"specify datatype\")\n"
   ]
  },
  {
   "cell_type": "code",
   "execution_count": 4,
   "id": "3c490de9-4e96-47fc-af75-f435ceaa7cb4",
   "metadata": {},
   "outputs": [
    {
     "name": "stdout",
     "output_type": "stream",
     "text": [
      "[1. 2. 3.]\n",
      "float32\n"
     ]
    }
   ],
   "source": [
    "# create an array with a specified data type\n",
    "arr = np.array([1,2,3], dtype='f4')\n",
    "print(arr)\n",
    "print(arr.dtype)\n"
   ]
  },
  {
   "cell_type": "markdown",
   "id": "3e0c3451-69d2-4d89-b89c-186bd3e17cc4",
   "metadata": {},
   "source": [
    "<div class=\"alert alert-block alert-warning\">\n",
    "<b>Task:</b> In the cell below write in the data type as np.complex64. You will have the pass it in a string, or use the code and enter that as a string"
   ]
  },
  {
   "cell_type": "code",
   "execution_count": 5,
   "id": "de0b5837-ea35-4603-9c08-fcb1a12cfdb3",
   "metadata": {},
   "outputs": [
    {
     "name": "stdout",
     "output_type": "stream",
     "text": [
      "[1.+2.j 3.-4.j]\n",
      "complex64\n"
     ]
    }
   ],
   "source": [
    "arr = np.array([1+2j, 3-4j], dtype=\"c8\")\n",
    "print(arr)\n",
    "print(arr.dtype)"
   ]
  },
  {
   "cell_type": "markdown",
   "id": "b4e5574d-e705-4343-b6df-ab107a88c095",
   "metadata": {},
   "source": [
    "<div class=\"alert alert-block alert-warning\">\n",
    "<b>Task:</b> In the cell below write in the data type as bool. You will have the pass it in a string, or use the code and enter that as a string"
   ]
  },
  {
   "cell_type": "code",
   "execution_count": 8,
   "id": "4741e16f-415f-4bef-8f17-d63cf0007ef5",
   "metadata": {},
   "outputs": [
    {
     "name": "stdout",
     "output_type": "stream",
     "text": [
      "[False  True  True]\n",
      "bool\n"
     ]
    }
   ],
   "source": [
    "arr = np.array([0, 1, 1], dtype=\"bool\")\n",
    "print(arr)\n",
    "print(arr.dtype)"
   ]
  },
  {
   "cell_type": "code",
   "execution_count": 19,
   "id": "13e29361-9af4-4e9b-a810-7256e1fc94af",
   "metadata": {},
   "outputs": [
    {
     "name": "stdout",
     "output_type": "stream",
     "text": [
      "['abc' 'def']\n"
     ]
    }
   ],
   "source": [
    "# set the max length of the string using U+ some number, such as 'U3'\n",
    "# any string longer than the max length will be truncated\n",
    "s = np.array(['abc', 'defg'], dtype='U3')\n",
    "print(s)\n",
    "# print(s.dtype)"
   ]
  },
  {
   "cell_type": "markdown",
   "id": "75d81c6e-1753-45d5-a24e-0a5455a9f1e0",
   "metadata": {},
   "source": [
    "<div class=\"alert alert-block alert-warning\">\n",
    "<b>Task:</b> Modify the dtype for the code above so that all of the string with 4 characters is displayed"
   ]
  },
  {
   "cell_type": "code",
   "execution_count": 20,
   "id": "63476621-ae8a-4a2c-b0ea-1ed09fdcef7a",
   "metadata": {},
   "outputs": [
    {
     "name": "stdout",
     "output_type": "stream",
     "text": [
      "['abc' 'defg']\n"
     ]
    }
   ],
   "source": [
    "s = np.array(['abc', 'defg'], dtype=\"U4\")\n",
    "print(s)"
   ]
  },
  {
   "cell_type": "code",
   "execution_count": 21,
   "id": "ba9f0c41-1d4b-49f6-82e9-7499bd5e04e1",
   "metadata": {},
   "outputs": [
    {
     "name": "stdout",
     "output_type": "stream",
     "text": [
      "|S3\n"
     ]
    }
   ],
   "source": [
    "# numpy string and unicode data types are fixed-length\n",
    "# string_ and unicode_ will treat the longest string in the array as the default length when creating an array\n",
    "arr = np.array(['a', 'ab', 'abc'], dtype=np.string_)\n",
    "print(arr.dtype)"
   ]
  },
  {
   "cell_type": "markdown",
   "id": "a41338f3-527f-4252-8071-541eec7d111b",
   "metadata": {},
   "source": [
    "what does \"|\"  mean above?\n",
    "\n",
    "they are the byte order indicators, which is beyond the scope of this tutorial\n",
    "\n",
    "you can check it out here: https://docs.scipy.org/doc/numpy/reference/generated/numpy.dtype.byteorder.html\n",
    "\n",
    "and here: https://en.wikipedia.org/wiki/Endianness"
   ]
  },
  {
   "cell_type": "code",
   "execution_count": 22,
   "id": "95c93090-d811-4705-b3db-b970ae829f8f",
   "metadata": {},
   "outputs": [
    {
     "name": "stdout",
     "output_type": "stream",
     "text": [
      "[1 2 3 4 5]\n"
     ]
    }
   ],
   "source": [
    "# Create a 1D array\n",
    "arr = np.array([1,2,3,4,5])\n",
    "print(arr)"
   ]
  },
  {
   "cell_type": "code",
   "execution_count": 23,
   "id": "c2ee3f35-5c94-4288-9da9-dd52ce6a78f7",
   "metadata": {},
   "outputs": [
    {
     "name": "stdout",
     "output_type": "stream",
     "text": [
      "[[1 2 3]\n",
      " [4 5 6]]\n"
     ]
    }
   ],
   "source": [
    "# Create a 2 D array\n",
    "arr = np.array([[1,2,3], [4,5,6]])\n",
    "print(arr)"
   ]
  },
  {
   "cell_type": "code",
   "execution_count": 24,
   "id": "912a62f1-752c-48cc-b43d-d6ae7af311c2",
   "metadata": {},
   "outputs": [
    {
     "name": "stdout",
     "output_type": "stream",
     "text": [
      "[ 0.          0.52631579  1.05263158  1.57894737  2.10526316  2.63157895\n",
      "  3.15789474  3.68421053  4.21052632  4.73684211  5.26315789  5.78947368\n",
      "  6.31578947  6.84210526  7.36842105  7.89473684  8.42105263  8.94736842\n",
      "  9.47368421 10.        ]\n"
     ]
    }
   ],
   "source": [
    "# Create an array of evenly spaced numbers\n",
    "# np.linspace(start, stop, num_of_elements, endpoint=True, retstep=False) \n",
    "arr = np.linspace(0, 10, 20)\n",
    "print(arr)"
   ]
  },
  {
   "cell_type": "code",
   "execution_count": 35,
   "id": "d394af62-5e5c-409b-a4c9-80b5a72def5e",
   "metadata": {},
   "outputs": [
    {
     "name": "stdout",
     "output_type": "stream",
     "text": [
      "[[0.58865165 0.51041616 0.07230188]\n",
      " [0.01215995 0.82169288 0.15798052]\n",
      " [0.78424011 0.96057457 0.96073106]]\n"
     ]
    }
   ],
   "source": [
    "# Create a 3 by 3 array of random numbers\n",
    "arr = np.random.rand(3, 3)\n",
    "print(arr)"
   ]
  },
  {
   "cell_type": "markdown",
   "id": "bbf36cad-0c15-45a8-bf92-ea9b77534cd9",
   "metadata": {},
   "source": [
    "<div class=\"alert alert-block alert-warning\">\n",
    "<b>Task:</b> Create a random array of numbers of dimensions 4 by 4"
   ]
  },
  {
   "cell_type": "code",
   "execution_count": 26,
   "id": "54eb6c6d-21fb-46f0-8871-19b2aa584f80",
   "metadata": {},
   "outputs": [
    {
     "data": {
      "text/plain": [
       "array([[0.61481123, 0.46537676, 0.97791054, 0.88457033],\n",
       "       [0.71262932, 0.36696412, 0.04652352, 0.65490265],\n",
       "       [0.59710091, 0.69637026, 0.39521938, 0.64360051],\n",
       "       [0.37608074, 0.99568216, 0.08622385, 0.69691354]])"
      ]
     },
     "execution_count": 26,
     "metadata": {},
     "output_type": "execute_result"
    }
   ],
   "source": [
    "np.random.rand(4,4)"
   ]
  },
  {
   "cell_type": "code",
   "execution_count": 27,
   "id": "7d90ce00-bb5a-47d7-99ae-01ec3d24fe77",
   "metadata": {},
   "outputs": [
    {
     "name": "stdout",
     "output_type": "stream",
     "text": [
      "[[0. 0. 0.]\n",
      " [0. 0. 0.]]\n"
     ]
    }
   ],
   "source": [
    "# create an array of zeros \n",
    "zeros = np.zeros((2,3))\n",
    "print(zeros)"
   ]
  },
  {
   "cell_type": "code",
   "execution_count": 28,
   "id": "c9acbd89-59d9-4bb9-977b-2c528f38c7ed",
   "metadata": {},
   "outputs": [
    {
     "name": "stdout",
     "output_type": "stream",
     "text": [
      "[[5 5 5]\n",
      " [5 5 5]]\n"
     ]
    }
   ],
   "source": [
    "# create an array of constant values in a given shape\n",
    "p = np.full((2,3), 5)\n",
    "print(p)\n"
   ]
  },
  {
   "cell_type": "code",
   "execution_count": 29,
   "id": "f66df841-13e1-4612-a7cc-a76cce4c5df4",
   "metadata": {},
   "outputs": [
    {
     "name": "stdout",
     "output_type": "stream",
     "text": [
      "[0 0 0 1 1 1 2 2 2]\n"
     ]
    }
   ],
   "source": [
    "# create an array by repetition\n",
    "# repeat each element of an array by a specified number of times\n",
    "# np.repeat(iterable, reps, axis=None)\n",
    "arr = [0, 1, 2]\n",
    "print(np.repeat(arr, 3))    # or np.repeat(range(3), 3)"
   ]
  },
  {
   "cell_type": "markdown",
   "id": "3425ccba-9268-40ae-9b5a-573e85f75acf",
   "metadata": {},
   "source": [
    "An identify matrix is often used in linear algebra. The identity matrix is a matrix of n by n dimensions that has 1s across its diagonal \n",
    "https://en.wikipedia.org/wiki/Identity_matrix"
   ]
  },
  {
   "cell_type": "code",
   "execution_count": 30,
   "id": "6301a72f-8643-49fd-8885-11cc710ca592",
   "metadata": {},
   "outputs": [
    {
     "name": "stdout",
     "output_type": "stream",
     "text": [
      "[[1. 0. 0.]\n",
      " [0. 1. 0.]\n",
      " [0. 0. 1.]]\n"
     ]
    }
   ],
   "source": [
    "# Create an identity matrix \n",
    "identity_matrix = np.identity(3)\n",
    "print(identity_matrix)\n"
   ]
  },
  {
   "cell_type": "markdown",
   "id": "ef6e71b9-28b7-48c4-9ee2-4d0bca0e98e4",
   "metadata": {},
   "source": [
    "<a id=\"2\"></a>\n",
    "\n",
    "# 1 Inspecting Numpy arrays \n",
    "[Back to Contents](#Contents)\n",
    "\n",
    "This section includes examples of applying the following functions in order to extract properties of your numpy array.\n",
    "\n",
    "These properties include\n",
    "- infomation about the array\n",
    "- dtype of an array\n",
    "- dimensions of the array\n",
    "- length of the array\n",
    "- number of dimensions\n",
    "- Number of elements\n",
    "\n",
    "\n"
   ]
  },
  {
   "cell_type": "code",
   "execution_count": 36,
   "id": "f98c12ba-108b-4f03-ac4c-247cd158ff0e",
   "metadata": {},
   "outputs": [
    {
     "name": "stdout",
     "output_type": "stream",
     "text": [
      "class:  ndarray\n",
      "shape:  (3, 3)\n",
      "strides:  (24, 8)\n",
      "itemsize:  8\n",
      "aligned:  True\n",
      "contiguous:  True\n",
      "fortran:  False\n",
      "data pointer: 0x1cf9ff21480\n",
      "byteorder:  little\n",
      "byteswap:  False\n",
      "type: float64\n"
     ]
    }
   ],
   "source": [
    "np.info(arr) # array info"
   ]
  },
  {
   "cell_type": "code",
   "execution_count": 37,
   "id": "da05281a-8a38-4d8d-ac88-43002cb234ea",
   "metadata": {},
   "outputs": [
    {
     "data": {
      "text/plain": [
       "dtype('float64')"
      ]
     },
     "execution_count": 37,
     "metadata": {},
     "output_type": "execute_result"
    }
   ],
   "source": [
    "# datatype of your array\n",
    "arr.dtype # "
   ]
  },
  {
   "cell_type": "code",
   "execution_count": 38,
   "id": "5b907c2e-dace-4c56-a57d-2e85c16e3f36",
   "metadata": {},
   "outputs": [
    {
     "data": {
      "text/plain": [
       "(3, 3)"
      ]
     },
     "execution_count": 38,
     "metadata": {},
     "output_type": "execute_result"
    }
   ],
   "source": [
    "# shape of your array\n",
    "arr.shape"
   ]
  },
  {
   "cell_type": "code",
   "execution_count": 39,
   "id": "cbea66e0-59d1-47ba-9eb3-6938dc041c8d",
   "metadata": {},
   "outputs": [
    {
     "data": {
      "text/plain": [
       "3"
      ]
     },
     "execution_count": 39,
     "metadata": {},
     "output_type": "execute_result"
    }
   ],
   "source": [
    "# length of your array\n",
    "len(arr)"
   ]
  },
  {
   "cell_type": "code",
   "execution_count": 40,
   "id": "c594e5e6-1a44-4fcf-83a2-b2c6de698bd1",
   "metadata": {},
   "outputs": [
    {
     "data": {
      "text/plain": [
       "2"
      ]
     },
     "execution_count": 40,
     "metadata": {},
     "output_type": "execute_result"
    }
   ],
   "source": [
    "# number of dimensions in the array\n",
    "arr.ndim"
   ]
  },
  {
   "cell_type": "code",
   "execution_count": 51,
   "id": "d79a5e9d-2ad7-4437-a52d-647775168181",
   "metadata": {},
   "outputs": [
    {
     "data": {
      "text/plain": [
       "9"
      ]
     },
     "execution_count": 51,
     "metadata": {},
     "output_type": "execute_result"
    }
   ],
   "source": [
    " # size or number of elements in the array\n",
    "np.size(arr)"
   ]
  },
  {
   "cell_type": "code",
   "execution_count": 41,
   "id": "0635a9b0-da41-49db-b4f7-127d10c50378",
   "metadata": {},
   "outputs": [
    {
     "data": {
      "text/plain": [
       "8"
      ]
     },
     "execution_count": 41,
     "metadata": {},
     "output_type": "execute_result"
    }
   ],
   "source": [
    "# inspect the number of bytes of each element in an array\n",
    "arr.itemsize"
   ]
  },
  {
   "cell_type": "code",
   "execution_count": 42,
   "id": "42fc7ee2-3e3b-49ef-a8da-c6d49fdf681b",
   "metadata": {},
   "outputs": [
    {
     "data": {
      "text/plain": [
       "72"
      ]
     },
     "execution_count": 42,
     "metadata": {},
     "output_type": "execute_result"
    }
   ],
   "source": [
    "# the size of the entire array in bytes . This should be equal to the length of the array multiplied by the item size. Or we can use the command below\n",
    "arr.nbytes"
   ]
  },
  {
   "cell_type": "markdown",
   "id": "be9a4d1b-7b0a-4d54-b6a2-e473c931665a",
   "metadata": {},
   "source": [
    "<div class=\"alert alert-block alert-warning\">\n",
    "<b>Task:</b> - create a an array of random numbers that meet the following criteria. \n",
    "    \n",
    "    - Item size = 8\n",
    "    - length = 4\n",
    "    - dimensions = 2"
   ]
  },
  {
   "cell_type": "code",
   "execution_count": 55,
   "id": "cfad9a7d-b337-47b7-8a52-dcb3e73d34cf",
   "metadata": {},
   "outputs": [
    {
     "name": "stdout",
     "output_type": "stream",
     "text": [
      "4\n",
      "8\n",
      "2\n"
     ]
    }
   ],
   "source": [
    "arr_10 = np.random.rand(4,2)\n",
    "\n",
    "print(len(arr_10))\n",
    "print(np.size(arr_10))\n",
    "print(arr_10.ndim)"
   ]
  },
  {
   "cell_type": "markdown",
   "id": "a8c5a704-a424-4a13-a51a-193906f1a853",
   "metadata": {},
   "source": [
    "<a id=\"3\"></a>\n",
    "\n",
    "# 3 Sampling\n",
    "[Back to Contents](#Contents)\n",
    "\n",
    "In statisitics a sample is a selection of the data that represents a fraction of the total amount. Numpy provides many features that can allow us to sample our arrays according to the problem \n",
    "\n",
    "Numpy provides methods to generate random numbers that can very important for machine learning methods when selecting random samples of data or initating random weights in neural networks for example. \n",
    "\n",
    "Below we look at a series of methods to generate random arrays\n",
    "\n",
    "\n"
   ]
  },
  {
   "cell_type": "code",
   "execution_count": null,
   "id": "1aad16eb-522b-4150-be11-c8581c947a97",
   "metadata": {},
   "outputs": [],
   "source": [
    "# generate a random number between 0 and 1\n",
    "np.random.rand()"
   ]
  },
  {
   "cell_type": "code",
   "execution_count": null,
   "id": "c062a06d-bb59-44ac-96b9-d981141babb5",
   "metadata": {},
   "outputs": [],
   "source": [
    "np.random.rand() #  notice how the numbers will be different"
   ]
  },
  {
   "cell_type": "code",
   "execution_count": null,
   "id": "3455d9e4-71e2-4f9c-86ff-355e9dbff428",
   "metadata": {},
   "outputs": [],
   "source": [
    "# generate an array of random numbers length n\n",
    "print(np.random.rand(3))\n",
    "print(np.random.rand(10))\n",
    "print(np.random.rand(3, 5))"
   ]
  },
  {
   "cell_type": "markdown",
   "id": "cea313aa-b63b-4a45-8c39-006208bc4d94",
   "metadata": {},
   "source": [
    "<div class=\"alert alert-block alert-warning\">\n",
    "<b>Task:</b> -Generate an array of random floating point numbers between 0 and 100\n",
    "    \n"
   ]
  },
  {
   "cell_type": "code",
   "execution_count": 56,
   "id": "358b948a-c5d7-418f-a432-335767715bcc",
   "metadata": {},
   "outputs": [
    {
     "data": {
      "text/plain": [
       "array([0.05437711, 0.15987132, 0.5386427 , 0.69933695, 0.64602033,\n",
       "       0.14622929, 0.94455499, 0.48726419, 0.0095303 , 0.74330141,\n",
       "       0.58359809, 0.12981869, 0.59109814, 0.04154013, 0.15553532,\n",
       "       0.80365136, 0.41715956, 0.30449827, 0.20874844, 0.06543895,\n",
       "       0.36711353, 0.20769336, 0.26265069, 0.28870163, 0.18993169,\n",
       "       0.56327774, 0.7806513 , 0.18852029, 0.14918585, 0.27203973,\n",
       "       0.21588079, 0.65986131, 0.38588963, 0.2046764 , 0.15794373,\n",
       "       0.17977964, 0.14707378, 0.85559672, 0.24284059, 0.82016906,\n",
       "       0.01790619, 0.21114402, 0.76084496, 0.07675532, 0.49719026,\n",
       "       0.98157902, 0.49764219, 0.07672476, 0.77562249, 0.83461107,\n",
       "       0.63148952, 0.04352555, 0.32295731, 0.93812015, 0.82898167,\n",
       "       0.72277859, 0.18581985, 0.74579815, 0.59711291, 0.07176818,\n",
       "       0.84223453, 0.53338709, 0.59244435, 0.07780146, 0.03310577,\n",
       "       0.41511134, 0.3170496 , 0.42902746, 0.33668333, 0.0717533 ,\n",
       "       0.37162526, 0.90942951, 0.67095339, 0.60337813, 0.81017782,\n",
       "       0.54712913, 0.54205567, 0.30817016, 0.80548032, 0.05564878,\n",
       "       0.05344143, 0.69109067, 0.6373186 , 0.88607745, 0.74392488,\n",
       "       0.0108434 , 0.54119751, 0.58012245, 0.06713179, 0.70476234,\n",
       "       0.22920506, 0.22045045, 0.407176  , 0.51978845, 0.85745097,\n",
       "       0.03505907, 0.59521514, 0.11381479, 0.46279155, 0.06054627])"
      ]
     },
     "execution_count": 56,
     "metadata": {},
     "output_type": "execute_result"
    }
   ],
   "source": [
    "np.random.rand(100)"
   ]
  },
  {
   "cell_type": "markdown",
   "id": "841525ae-e148-46d5-adb1-1a4306f8a684",
   "metadata": {},
   "source": [
    "All of the random numbers produced above are generated from a completely random distribution. That is every value has an equal liklihood to be selected as any other value. However often we want to select random numbers from a distrbituion. The most common distribution used in statisitics is the normal distribution. Below we look at how to select random numbers from a normal distribution. The following link explains in more detail random numbers from normal distrbutions \n",
    "\n",
    "https://www.khanacademy.org/computing/computer-programming/programming-natural-simulations/programming-randomness/a/normal-distribution-of-random-numbers"
   ]
  },
  {
   "cell_type": "code",
   "execution_count": null,
   "id": "d484d319-dfb3-4031-b90b-024c5e45d349",
   "metadata": {},
   "outputs": [],
   "source": [
    "# generate an array of random numbers that follow a normal distribution. Note the n on the end of randn\n",
    "print(np.random.randn(3,3))"
   ]
  },
  {
   "cell_type": "code",
   "execution_count": null,
   "id": "be98b687-5878-4ed3-8e5f-d4540da60d36",
   "metadata": {},
   "outputs": [],
   "source": [
    "import matplotlib.pyplot as plt\n",
    "norm_numbers = np.random.randn(1000)\n",
    "rand_numbers = np.random.rand(1000)\n",
    "plt.subplot(1,2,1)\n",
    "plt.title('Normal numbers')\n",
    "plt.ylabel('frequency')\n",
    "plt.hist(norm_numbers)\n",
    "plt.subplot(1,2,2)\n",
    "plt.title('random numbers')\n",
    "plt.ylabel('frequency')\n",
    "plt.hist(rand_numbers)"
   ]
  },
  {
   "cell_type": "markdown",
   "id": "82b4a850-bcd8-4137-8cbd-3ebec62679da",
   "metadata": {},
   "source": [
    "Previously we have only looked at methods of sampling retrieving values between 0 and 1. Using these methods you can sample between any range of numbers by multiplying by a *scaling factor* however numpy does have some methods to simplofy the process"
   ]
  },
  {
   "cell_type": "code",
   "execution_count": null,
   "id": "4ad4f885-16f1-47f9-a676-e607b3cc52f2",
   "metadata": {},
   "outputs": [],
   "source": [
    "# return an integer between a low and a high value of a given size\n",
    "# np.random.randint(low, high, size, dtype)\n",
    "\n",
    "np.random.randint(1, 5, 10, int)"
   ]
  },
  {
   "cell_type": "markdown",
   "id": "cbc737d3-62d5-4222-9283-fd3c67f15231",
   "metadata": {},
   "source": [
    "Numpy has a method that will produce an array of numbers in a random order from a selection of input integers "
   ]
  },
  {
   "cell_type": "code",
   "execution_count": null,
   "id": "c14094d1-8d48-4f89-8bae-4704fb8072fb",
   "metadata": {},
   "outputs": [],
   "source": [
    "# produce an array of random numbers from a selection between 0 and 3 and 10 long\n",
    "np.random.choice(3,10)\n"
   ]
  },
  {
   "cell_type": "code",
   "execution_count": null,
   "id": "81237146-d720-4f4f-9f71-c1ae8a679b3b",
   "metadata": {},
   "outputs": [],
   "source": [
    "# another variation of this is we can select the weights of certain values in our selection. For example if we would like 0 2 to\n",
    "# appear 1/10th of the time and 1 to appear 8/10th of the time then we could add a weighting \n",
    "# np.random.choice(iterable_or_int, size, replace=True, p=weights)\n",
    "np.random.choice(range(3), 20, replace=True, p=[0.1, 0.8, 0.1])"
   ]
  },
  {
   "cell_type": "markdown",
   "id": "90865da1-55f4-4f62-93a1-8cf2920533ea",
   "metadata": {},
   "source": [
    "If you have an existing array of values and would like to randomly shuffle the order of the contents then the following command can be used, random.shuffle(arr)"
   ]
  },
  {
   "cell_type": "code",
   "execution_count": null,
   "id": "733f8856-2511-406a-9d01-771d45dfdffe",
   "metadata": {},
   "outputs": [],
   "source": [
    "arr = np.array(range(10)) # define the array\n",
    "print(arr)\n",
    "np.random.shuffle(arr) # shuffle the order of the contents of the array\n",
    "arr"
   ]
  },
  {
   "cell_type": "markdown",
   "id": "2a68f855-f0e2-4bcd-98c9-582ef4d313bf",
   "metadata": {},
   "source": [
    "Note that random.shuffle automatically overwrites the order of the array. Its similar to having a default as inplace set to True in Pandas. \n",
    "\n",
    "If you wish to have a shuffled copy and keep a copy of the original then you need to use np.random.permutation(arr)"
   ]
  },
  {
   "cell_type": "code",
   "execution_count": null,
   "id": "db661767-1547-4e40-b5af-67a2723a6010",
   "metadata": {},
   "outputs": [],
   "source": [
    "arr = np.array(range(10))\n",
    "print(arr)\n",
    "\n",
    "print(np.random.permutation(arr))\n",
    "\n",
    "print(arr)\n",
    "\n",
    "\n",
    "print('Notice how the arr has maintained its original form')"
   ]
  },
  {
   "cell_type": "markdown",
   "id": "1a565ca1-4ca1-416f-b418-fa0e4f7dbd46",
   "metadata": {},
   "source": [
    "<a id=\"4\"></a>\n",
    "\n",
    "# 4 Math functions \n",
    "[Back to Contents](#Contents)\n",
    "\n",
    "Previously we have learnt that python has inbuilt math functions. These work very well. So why should we bother about numpy math functions. In general you should use numpy math functions when dealing with numpy arrays. Numpy's maths functions are optimised to work on numpy arrays. Generally speaking it should not matter if you use a numpy or a python math function unless you are trying to optimise your code, for speed for example. \n",
    "\n",
    "Note there is also a python module called math that contains many functions suitable for mathmatical calculations. The argument to use numpy instead of math is similar to numpy over Python's math function. If you are using 1D or scalar arrays then math function may be better however as soon as you begin to work witgh higher dimensional data such as arrays numpy's math functions should outperform the other functions"
   ]
  },
  {
   "cell_type": "code",
   "execution_count": null,
   "id": "f21783da-703a-435e-8c53-a704a0402dd0",
   "metadata": {},
   "outputs": [],
   "source": [
    "arr = np.random.rand(2,2)\n",
    "arr"
   ]
  },
  {
   "cell_type": "markdown",
   "id": "0d6c522c-4080-4092-b083-65fdb5e38d1e",
   "metadata": {},
   "source": [
    "We can apply standard mutliplication addition subtraction and division to numpy arrays. In this case it applies the mathmatical operator to each element of the array.Note we are using the python operations for these commands"
   ]
  },
  {
   "cell_type": "code",
   "execution_count": null,
   "id": "acebb12f-ad0c-4099-bb39-f4ddde9999eb",
   "metadata": {},
   "outputs": [],
   "source": [
    "print(arr + 10)\n",
    "print(arr - 10)\n",
    "print(arr * 10)\n",
    "print(arr / 10)"
   ]
  },
  {
   "cell_type": "markdown",
   "id": "42c9ca11-05d1-40a9-b782-5ae61e43d5b9",
   "metadata": {},
   "source": [
    "This approach is fine in most cases however there are some special cases where using a np.add, subtract etc will solve a problem caused by the appraoch above.\n",
    "If you had two lists of numbers that you wished to add them together python add operator would not work how we would like. \n",
    "See below"
   ]
  },
  {
   "cell_type": "code",
   "execution_count": null,
   "id": "e8e29fbe-8ce2-422f-8b36-0bdebd1f0475",
   "metadata": {},
   "outputs": [],
   "source": [
    "[1, 2, 3] + 4 #  this will error because we are adding an integer to a list"
   ]
  },
  {
   "cell_type": "code",
   "execution_count": null,
   "id": "b529f39f-44d8-4b34-a652-498e2f69d565",
   "metadata": {},
   "outputs": [],
   "source": [
    "[1, 2, 3] + [4]"
   ]
  },
  {
   "cell_type": "markdown",
   "id": "c6f260aa-92ed-4693-a3af-a04cf7b81642",
   "metadata": {},
   "source": [
    "We can observe the output in this case just adds the element to the list. We have two ways to approach this problem. One make each elelemnt a numpy array prior to the addition or to use the np.add .. np.subtract function using the lists as arguments. Lets see how this looks below. "
   ]
  },
  {
   "cell_type": "code",
   "execution_count": null,
   "id": "08a32c69-367d-4335-ab0d-77ce442b816a",
   "metadata": {},
   "outputs": [],
   "source": [
    "list_1 = [1, 2, 3]\n",
    "list_2 = [4]\n",
    "\n",
    "print(np.array(list_1) + np.array(list_2))\n",
    "\n",
    "print(np.add(list_1, list_2))"
   ]
  },
  {
   "cell_type": "code",
   "execution_count": null,
   "id": "ce0a492f-1865-4017-ab8d-4d30d30ee73a",
   "metadata": {},
   "outputs": [],
   "source": [
    "np.subtract(list_1, list_2) # subtract the values of list 1 from list 2"
   ]
  },
  {
   "cell_type": "markdown",
   "id": "fc504a0e-e013-426e-8056-fbf286a91651",
   "metadata": {},
   "source": [
    "We can also add and subtract arrays if they are equal dimensions"
   ]
  },
  {
   "cell_type": "code",
   "execution_count": null,
   "id": "ca9a2c4d-4351-4f39-b25f-8f870f201cba",
   "metadata": {},
   "outputs": [],
   "source": [
    "list_3 = [ 3, 4, 9]\n",
    "np.add(list_1, list_3)"
   ]
  },
  {
   "cell_type": "markdown",
   "id": "30260249-b6b5-475f-9e19-c9c761c4a642",
   "metadata": {},
   "source": [
    "And we can multiply using the same notation"
   ]
  },
  {
   "cell_type": "code",
   "execution_count": null,
   "id": "29a45762-4310-4911-8920-03a430ab5e58",
   "metadata": {},
   "outputs": [],
   "source": [
    "np.multiply(list_1, list_3) "
   ]
  },
  {
   "cell_type": "markdown",
   "id": "0f47131b-5df2-4e4c-89fc-0b455ae6111a",
   "metadata": {},
   "source": [
    "It is common in statistics to use the exponential function. Within this course some of the classifications algorithms such as logisitic regression will use the exponential function. Numpy as an element wise exponential function. This means every element of the array has the exponential transform applied to it"
   ]
  },
  {
   "cell_type": "code",
   "execution_count": null,
   "id": "a4f62c23-b989-4633-bf5b-9d5d1d7f99bb",
   "metadata": {},
   "outputs": [],
   "source": [
    "np.exp(arr)"
   ]
  },
  {
   "cell_type": "markdown",
   "id": "3c0afbd7-f75d-4917-ad97-dfe0007d0cf9",
   "metadata": {},
   "source": [
    "Mathmatically the oppoiste of the exponential function is the logorithmic function to the base e. This is also known as the natural log function"
   ]
  },
  {
   "cell_type": "code",
   "execution_count": null,
   "id": "9a03d4fc-61e4-4b1c-bd14-885958176f85",
   "metadata": {},
   "outputs": [],
   "source": [
    "np.log(arr)"
   ]
  },
  {
   "cell_type": "markdown",
   "id": "76cc5f78-a8a2-4704-b69b-2859d020bc4e",
   "metadata": {},
   "source": [
    "<div class=\"alert alert-block alert-warning\">\n",
    "<b>Task:</b> -create an array. Take the exponential of that array and then take the natural log of that array. Check you have the starting array again \n",
    "    "
   ]
  },
  {
   "cell_type": "code",
   "execution_count": 57,
   "id": "d3a0ee13-c658-4ddf-bfaa-3ee3d0f480ea",
   "metadata": {},
   "outputs": [
    {
     "data": {
      "text/plain": [
       "array([1., 2., 3.])"
      ]
     },
     "execution_count": 57,
     "metadata": {},
     "output_type": "execute_result"
    }
   ],
   "source": [
    "arr_10 = np.array([1, 2, 3])\n",
    "np.log(np.exp(arr_10))"
   ]
  },
  {
   "cell_type": "markdown",
   "id": "64f258bc-0f1b-4732-881c-bd6dad3577b7",
   "metadata": {},
   "source": [
    "Other common logoirthmic functions are to the base 2 and the base 10. Numpy supports both of these"
   ]
  },
  {
   "cell_type": "code",
   "execution_count": null,
   "id": "551733aa-0e18-46f8-98a8-c4b39b39ff07",
   "metadata": {},
   "outputs": [],
   "source": [
    "np.log10(arr)"
   ]
  },
  {
   "cell_type": "code",
   "execution_count": null,
   "id": "305bf1c5-5637-4407-91d0-8c57d231d255",
   "metadata": {},
   "outputs": [],
   "source": [
    "np.log2(arr)"
   ]
  },
  {
   "cell_type": "markdown",
   "id": "d95eacf7-a5fc-453b-ac66-bbc5d00e97fc",
   "metadata": {},
   "source": [
    "To apply the square root function in numpy we use the notation np.sqrt(array).\n",
    "\n",
    "As with other functions, when comparing the performance of numpy versus Python and versus math package it is likely that the square root function will perform slower for small arrays using numpy however this should be faster when performing the square root function on larger arrays. We can investigate this using the **%%timeit** function.\n",
    "\n",
    "The following link gives infomaiton on the **%%timeout** function. This will give more infomation on the details on how we are applying this function\n",
    "\n",
    "https://note.nkmk.me/en/python-timeit-measure/"
   ]
  },
  {
   "cell_type": "code",
   "execution_count": null,
   "id": "e526afbb-65e4-4a06-8279-97109f20db26",
   "metadata": {},
   "outputs": [],
   "source": [
    "import math as m\n",
    "\n",
    "small_test_array = np.array([10])"
   ]
  },
  {
   "cell_type": "code",
   "execution_count": null,
   "id": "b6937a1f-4d74-4473-88fc-966d0a9bd05c",
   "metadata": {},
   "outputs": [],
   "source": [
    "%%timeit\n",
    "m.sqrt(small_test_array)"
   ]
  },
  {
   "cell_type": "code",
   "execution_count": null,
   "id": "f5ee511c-783a-40d6-a361-e82570c2e608",
   "metadata": {},
   "outputs": [],
   "source": [
    "%%timeit\n",
    "small_test_array ** 0.5"
   ]
  },
  {
   "cell_type": "code",
   "execution_count": null,
   "id": "26e56f5e-e978-4c6b-b5f4-bde42f910aa8",
   "metadata": {},
   "outputs": [],
   "source": [
    "%%timeit\n",
    "np.sqrt(small_test_array)"
   ]
  },
  {
   "cell_type": "code",
   "execution_count": null,
   "id": "7a0c473c-123e-41d5-b87d-8269896f55b4",
   "metadata": {},
   "outputs": [],
   "source": [
    "large_test_array = np.random.choice(range(10000), (10000,10000))\n",
    "large_test_array.shape"
   ]
  },
  {
   "cell_type": "code",
   "execution_count": null,
   "id": "17d24a20-3ff3-44c8-972e-78d32f4c00ce",
   "metadata": {},
   "outputs": [],
   "source": [
    "%%timeit\n",
    "large_test_array **0.5"
   ]
  },
  {
   "cell_type": "code",
   "execution_count": null,
   "id": "c70e5bad-9f50-426c-a542-8235c5e95d5b",
   "metadata": {},
   "outputs": [],
   "source": [
    "%%timeit\n",
    "np.sqrt(large_test_array)"
   ]
  },
  {
   "cell_type": "markdown",
   "id": "a7032652-41b2-43af-afd3-9eeb579b90fa",
   "metadata": {},
   "source": [
    "We can instantly see that when the array becomes large and multidimensional numpy becomes an order of magnitude quicker. We should also note that if you try to perform math.sqrt on the large array it fails because it has more than one element. "
   ]
  },
  {
   "cell_type": "markdown",
   "id": "500383bc-f5c0-4cf8-ab40-c9c51e72056c",
   "metadata": {},
   "source": [
    "We can apply trigonmentric functions. Below we give an example of apply a trig transform to every element in an array. Remember when performing a trig function or an inverse trig functions it assumes radians as the unit and not degrees. However as you can see below numpy has a method to transform between degrees and radians. \n",
    "\n",
    "For more infomation of the difference between radians and degrees then visit this link \n",
    "https://betterexplained.com/articles/intuitive-guide-to-angles-degrees-and-radians/#:~:text=Degrees%20measure%20angles%20by%20how,measure%20angles%20by%20distance%20traveled.&text=or%20angle%20in%20radians%20(theta,divided%20by%20radius%20(r)."
   ]
  },
  {
   "cell_type": "code",
   "execution_count": null,
   "id": "bfd67aa3-59c0-4dd2-b906-88f5c4c0e468",
   "metadata": {},
   "outputs": [],
   "source": [
    "# apply sine transform to array\n",
    "np.sin(arr)"
   ]
  },
  {
   "cell_type": "code",
   "execution_count": null,
   "id": "1e05eb99-137a-4202-9c52-ee01fcb7a4d8",
   "metadata": {},
   "outputs": [],
   "source": [
    "angle = 90 \n",
    "print(np.sin(90)) # in raidans\n",
    "print(np.sin(np.deg2rad(90))) #  converted to degrees"
   ]
  },
  {
   "cell_type": "markdown",
   "id": "6f921dc5-ccdc-4c48-929d-bcd0963796e1",
   "metadata": {},
   "source": [
    "Note how sin(90) degrees is equal to 1. Where as sin(90) radians is not equal to 1."
   ]
  },
  {
   "cell_type": "markdown",
   "id": "bc2cf3b4-256c-448d-8dd6-7f3e466c412b",
   "metadata": {},
   "source": [
    "As we know that numpy often deals with higher dimensional arrays of data. If we want to sum the data in the array we  may want to sum all of the elements or the array however we may want to sum across a given axis of the data. Below we look at how you can do this"
   ]
  },
  {
   "cell_type": "markdown",
   "id": "61474371-0606-433c-82d4-0bcb6bb686fc",
   "metadata": {},
   "source": [
    "<div class=\"alert alert-block alert-warning\">\n",
    "<b>Task:</b> Create an array. Take the sine of this array called sine_array and take the cosine of the oringal array and call it the cosine array.Divide the sine_array by the cosine array and check this equals the tan of the original array\n",
    "    "
   ]
  },
  {
   "cell_type": "code",
   "execution_count": 59,
   "id": "12c54fa5-d8f6-431d-a881-566856048834",
   "metadata": {},
   "outputs": [
    {
     "data": {
      "text/plain": [
       "(array([ 1.55740772, -2.18503986, -0.14254654]),\n",
       " array([ 1.55740772, -2.18503986, -0.14254654]))"
      ]
     },
     "execution_count": 59,
     "metadata": {},
     "output_type": "execute_result"
    }
   ],
   "source": [
    "arr_10 = np.array([1, 2, 3])\n",
    "sin_arr = np.sin(arr_10)\n",
    "cos_arr = np.cos(arr_10)\n",
    "tan_arr = sin_arr / cos_arr\n",
    "\n",
    "sin_arr / cos_arr , tan_arr"
   ]
  },
  {
   "cell_type": "code",
   "execution_count": 72,
   "id": "7e75530a-9332-4476-b6a5-c22eccc71e7f",
   "metadata": {},
   "outputs": [
    {
     "data": {
      "text/plain": [
       "4.868748775786659"
      ]
     },
     "execution_count": 72,
     "metadata": {},
     "output_type": "execute_result"
    }
   ],
   "source": [
    "np.sum(arr) #  this sums all of the elements of the array"
   ]
  },
  {
   "cell_type": "code",
   "execution_count": 73,
   "id": "3f0ea504-a735-4784-8369-fd113fb15b0b",
   "metadata": {},
   "outputs": [
    {
     "name": "stdout",
     "output_type": "stream",
     "text": [
      "[[0.58865165 0.51041616 0.07230188]\n",
      " [0.01215995 0.82169288 0.15798052]\n",
      " [0.78424011 0.96057457 0.96073106]]\n"
     ]
    },
    {
     "data": {
      "text/plain": [
       "array([1.38505171, 2.2926836 , 1.19101346])"
      ]
     },
     "execution_count": 73,
     "metadata": {},
     "output_type": "execute_result"
    }
   ],
   "source": [
    "print(arr)\n",
    "np.sum(arr, axis = 0) #  sums down the 0th axis"
   ]
  },
  {
   "cell_type": "code",
   "execution_count": 74,
   "id": "f0f2093f-b805-4c0c-a5fc-6270413d950e",
   "metadata": {},
   "outputs": [
    {
     "name": "stdout",
     "output_type": "stream",
     "text": [
      "[[0.58865165 0.51041616 0.07230188]\n",
      " [0.01215995 0.82169288 0.15798052]\n",
      " [0.78424011 0.96057457 0.96073106]]\n"
     ]
    },
    {
     "data": {
      "text/plain": [
       "array([1.17136969, 0.99183335, 2.70554574])"
      ]
     },
     "execution_count": 74,
     "metadata": {},
     "output_type": "execute_result"
    }
   ],
   "source": [
    "print(arr)\n",
    "np.sum(arr, axis = 1) #  sums down the 1th axis"
   ]
  },
  {
   "cell_type": "markdown",
   "id": "04ebe7e6-3eab-4880-a6d7-a6a7ea49b9c4",
   "metadata": {},
   "source": [
    "The same logic is applied when dealing with other aggegate functions. There are the otpions to calculate the aggregate function over the entire array or to compute the aggregate function over a specific axis. Lets have a look at the min function as an example. "
   ]
  },
  {
   "cell_type": "code",
   "execution_count": 75,
   "id": "089f64ae-801a-4307-a4ba-c0a9168d7f62",
   "metadata": {},
   "outputs": [
    {
     "name": "stdout",
     "output_type": "stream",
     "text": [
      "[[0.58865165 0.51041616 0.07230188]\n",
      " [0.01215995 0.82169288 0.15798052]\n",
      " [0.78424011 0.96057457 0.96073106]]\n"
     ]
    },
    {
     "data": {
      "text/plain": [
       "0.012159949403706571"
      ]
     },
     "execution_count": 75,
     "metadata": {},
     "output_type": "execute_result"
    }
   ],
   "source": [
    "print(arr)\n",
    "np.min(arr)"
   ]
  },
  {
   "cell_type": "code",
   "execution_count": 76,
   "id": "dcd3c1e0-3182-4969-b780-8abe57d5480a",
   "metadata": {},
   "outputs": [
    {
     "name": "stdout",
     "output_type": "stream",
     "text": [
      "[[0.58865165 0.51041616 0.07230188]\n",
      " [0.01215995 0.82169288 0.15798052]\n",
      " [0.78424011 0.96057457 0.96073106]]\n"
     ]
    },
    {
     "data": {
      "text/plain": [
       "array([0.07230188, 0.01215995, 0.78424011])"
      ]
     },
     "execution_count": 76,
     "metadata": {},
     "output_type": "execute_result"
    }
   ],
   "source": [
    "print(arr)\n",
    "np.min(arr, axis = 0)\n",
    "np.min(arr, axis = 1)"
   ]
  },
  {
   "cell_type": "markdown",
   "id": "be0f3f76-1c04-4694-b8c8-5194a1a8ec98",
   "metadata": {},
   "source": [
    "<div class=\"alert alert-block alert-warning\">\n",
    "<b>Task:</b> create a function that takes an array in and uses np.min and np.max to generate the range of the array"
   ]
  },
  {
   "cell_type": "code",
   "execution_count": 77,
   "id": "60b274cd-aa86-4d85-938b-f441734655fc",
   "metadata": {},
   "outputs": [
    {
     "data": {
      "text/plain": [
       "0.9485711129120525"
      ]
     },
     "execution_count": 77,
     "metadata": {},
     "output_type": "execute_result"
    }
   ],
   "source": [
    "def range_array(arr):\n",
    "    return np.subtract(np.max(arr), np.min(arr))\n",
    "\n",
    "range_array(arr)\n",
    "    \n"
   ]
  },
  {
   "cell_type": "markdown",
   "id": "c96985db-49d2-4173-bd8b-d5cbc7d0c1af",
   "metadata": {},
   "source": [
    "Sometimes we do not want to know the value of the minimum or the maximum value in an array however we want to know the index where the minimum or the maximum appears in the array. Numpy has a function called arg.. that will return the index of the respective min or maximum function . Lets see below"
   ]
  },
  {
   "cell_type": "code",
   "execution_count": 78,
   "id": "44907313-67d9-4469-95b6-d131babb2472",
   "metadata": {},
   "outputs": [
    {
     "name": "stdout",
     "output_type": "stream",
     "text": [
      "[[0.58865165 0.51041616 0.07230188]\n",
      " [0.01215995 0.82169288 0.15798052]\n",
      " [0.78424011 0.96057457 0.96073106]]\n"
     ]
    },
    {
     "data": {
      "text/plain": [
       "3"
      ]
     },
     "execution_count": 78,
     "metadata": {},
     "output_type": "execute_result"
    }
   ],
   "source": [
    "print(arr)\n",
    "np.argmin(arr)"
   ]
  },
  {
   "cell_type": "code",
   "execution_count": 79,
   "id": "256931a3-f892-4797-a421-2b255ef7547e",
   "metadata": {},
   "outputs": [
    {
     "name": "stdout",
     "output_type": "stream",
     "text": [
      "[[0.58865165 0.51041616 0.07230188]\n",
      " [0.01215995 0.82169288 0.15798052]\n",
      " [0.78424011 0.96057457 0.96073106]]\n"
     ]
    },
    {
     "data": {
      "text/plain": [
       "array([0, 1, 2], dtype=int64)"
      ]
     },
     "execution_count": 79,
     "metadata": {},
     "output_type": "execute_result"
    }
   ],
   "source": [
    "print(arr)\n",
    "np.argmax(arr, axis = 1) # returns the position of the maximum value down the 1st axis"
   ]
  },
  {
   "cell_type": "markdown",
   "id": "42ac1597-a2db-4bc5-aa4c-d6ef191188df",
   "metadata": {},
   "source": [
    "Mean median standard deviation, and variance are important metrics in many areas of statistics. These can be calculated, similar to max and min, either on the array as a whole or down the specific axis. See below"
   ]
  },
  {
   "cell_type": "code",
   "execution_count": 80,
   "id": "acd2e8df-6d55-438e-955f-dd3b025169f1",
   "metadata": {},
   "outputs": [
    {
     "name": "stdout",
     "output_type": "stream",
     "text": [
      "[[0.58865165 0.51041616 0.07230188]\n",
      " [0.01215995 0.82169288 0.15798052]\n",
      " [0.78424011 0.96057457 0.96073106]]\n"
     ]
    },
    {
     "data": {
      "text/plain": [
       "(0.5409720861985177, array([0.4616839 , 0.76422787, 0.39700449]))"
      ]
     },
     "execution_count": 80,
     "metadata": {},
     "output_type": "execute_result"
    }
   ],
   "source": [
    "print(arr)\n",
    "np.mean(arr), np.mean(arr, axis = 0) #  calculate the mean of the entire array or down a specific axis"
   ]
  },
  {
   "cell_type": "code",
   "execution_count": 81,
   "id": "c4bd760e-12ed-44f0-9f0a-1a66be03d73e",
   "metadata": {},
   "outputs": [
    {
     "name": "stdout",
     "output_type": "stream",
     "text": [
      "[[0.58865165 0.51041616 0.07230188]\n",
      " [0.01215995 0.82169288 0.15798052]\n",
      " [0.78424011 0.96057457 0.96073106]]\n"
     ]
    },
    {
     "data": {
      "text/plain": [
       "(0.5886516536425561, array([0.58865165, 0.82169288, 0.15798052]))"
      ]
     },
     "execution_count": 81,
     "metadata": {},
     "output_type": "execute_result"
    }
   ],
   "source": [
    "print(arr)\n",
    "np.median(arr), np.median(arr, axis = 0) #  calculate the median of the entire array or down a specific axis"
   ]
  },
  {
   "cell_type": "code",
   "execution_count": 82,
   "id": "a8e2abcb-c3a7-42aa-9672-59065ba99252",
   "metadata": {},
   "outputs": [
    {
     "name": "stdout",
     "output_type": "stream",
     "text": [
      "[[0.58865165 0.51041616 0.07230188]\n",
      " [0.01215995 0.82169288 0.15798052]\n",
      " [0.78424011 0.96057457 0.96073106]]\n"
     ]
    },
    {
     "data": {
      "text/plain": [
       "(0.35581376480896254, array([0.32773724, 0.18821498, 0.4001466 ]))"
      ]
     },
     "execution_count": 82,
     "metadata": {},
     "output_type": "execute_result"
    }
   ],
   "source": [
    "print(arr)\n",
    "np.std(arr), np.std(arr, axis = 0) #  calculate the standard deviation of the entire array or down a specific axis"
   ]
  },
  {
   "cell_type": "code",
   "execution_count": 83,
   "id": "84922f6d-108a-43db-bb30-f8868ae4bdb8",
   "metadata": {},
   "outputs": [
    {
     "name": "stdout",
     "output_type": "stream",
     "text": [
      "[[0.58865165 0.51041616 0.07230188]\n",
      " [0.01215995 0.82169288 0.15798052]\n",
      " [0.78424011 0.96057457 0.96073106]]\n"
     ]
    },
    {
     "data": {
      "text/plain": [
       "(0.1266034352275277, array([0.1074117 , 0.03542488, 0.1601173 ]))"
      ]
     },
     "execution_count": 83,
     "metadata": {},
     "output_type": "execute_result"
    }
   ],
   "source": [
    "print(arr)\n",
    "np.var(arr), np.var(arr, axis = 0) #  calculate the variance of the entire array or down a specific axis"
   ]
  },
  {
   "cell_type": "markdown",
   "id": "6987252a-3b79-4a21-930d-8e6de8527d13",
   "metadata": {},
   "source": [
    "We can also caluclate the specific percentile of the data by passing a list of the perencetile values that we wish to be calculated\n"
   ]
  },
  {
   "cell_type": "code",
   "execution_count": 84,
   "id": "d7a11bc2-0abd-488d-8ee2-b7ac988f2cb6",
   "metadata": {},
   "outputs": [
    {
     "name": "stdout",
     "output_type": "stream",
     "text": [
      "[0.01668328 0.6334844  0.92601655]\n"
     ]
    }
   ],
   "source": [
    "arr1 = np.random.rand(100)\n",
    "print(np.percentile(arr1, [5, 65, 95])) #  returns the value of the 5th, y65th and 95th percentile"
   ]
  },
  {
   "cell_type": "markdown",
   "id": "151dbca5-130b-4d9c-9f4a-1ff1ee897061",
   "metadata": {},
   "source": [
    "<a id=\"5\"></a>\n",
    "\n",
    "# 5 Slicing and Indexing \n",
    "[Back to Contents](#Contents)\n",
    "\n",
    "Slicing and indexing in numpy is very similar to that in pandas. To slice means to take a section of an array and to index is to retrieve a particular location of an array.\n",
    "\n",
    "More infomation on slicing and indexing in addition to that below can be found at \n",
    "https://www.pythoninformer.com/python-libraries/numpy/index-and-slice/#:~:text=Slicing%20an%20array,accessed%20in%20a%20different%20order."
   ]
  },
  {
   "cell_type": "code",
   "execution_count": 85,
   "id": "93bdf4bb-f02a-49c5-964b-6093a20674bb",
   "metadata": {},
   "outputs": [
    {
     "data": {
      "text/plain": [
       "(10, 10)"
      ]
     },
     "execution_count": 85,
     "metadata": {},
     "output_type": "execute_result"
    }
   ],
   "source": [
    "arr = np.array(range(100)).reshape((10,10))\n",
    "arr.shape"
   ]
  },
  {
   "cell_type": "code",
   "execution_count": 86,
   "id": "1609bb5c-5407-450b-9b8f-e9a4968ce339",
   "metadata": {},
   "outputs": [
    {
     "data": {
      "text/plain": [
       "55"
      ]
     },
     "execution_count": 86,
     "metadata": {},
     "output_type": "execute_result"
    }
   ],
   "source": [
    "arr[5,5] #  index the element that is in position 5 for both axis"
   ]
  },
  {
   "cell_type": "code",
   "execution_count": 87,
   "id": "14c563e3-43d8-466b-a653-15e930e3e326",
   "metadata": {},
   "outputs": [
    {
     "data": {
      "text/plain": [
       "array([[14, 15],\n",
       "       [24, 25]])"
      ]
     },
     "execution_count": 87,
     "metadata": {},
     "output_type": "execute_result"
    }
   ],
   "source": [
    "arr[1:3, 4:6] #  access the section of the array that is between ids 1 and 3 (not including 3) and 4 and 6 not including 6"
   ]
  },
  {
   "cell_type": "markdown",
   "id": "78a82f42-1881-4dbc-a0f4-e38416fc2032",
   "metadata": {},
   "source": [
    "If you want to change the value of a particular element or an entire slice, then you simply reasing the value or slice with the new value"
   ]
  },
  {
   "cell_type": "code",
   "execution_count": 88,
   "id": "f9e7d184-2679-4f05-82dc-4d16e8d9c2fa",
   "metadata": {},
   "outputs": [
    {
     "data": {
      "text/plain": [
       "array([[  0,   1,   2,   3,   4,   5,   6,   7, 100, 100],\n",
       "       [100, 100, 100, 100, 100, 100, 100, 100, 100, 100],\n",
       "       [100, 100, 100, 100, 100, 100, 100, 100, 100, 100],\n",
       "       [ 30,  31,  32,  33,  34,  35,  36,  37, 100, 100],\n",
       "       [ 40,  41,  42,  43,  44,  45,  46,  47, 100, 100],\n",
       "       [ 50,  51,  52,  53,  54,  55,  56,  57, 100, 100],\n",
       "       [ 60,  61,  62,  63,  64,  65,  66,  67, 100, 100],\n",
       "       [ 70,  71,  72,  73,  74,  75,  76,  77, 100, 100],\n",
       "       [ 80,  81,  82,  83,  84,  85,  86,  87, 100, 100],\n",
       "       [ 90,  91,  92,  93,  94,  95,  96,  97, 100, 100]])"
      ]
     },
     "execution_count": 88,
     "metadata": {},
     "output_type": "execute_result"
    }
   ],
   "source": [
    "arr[1:3,:] = 100    # assign all columns between the row 1 and 3 100\n",
    "arr[:,8:] = 100 #  assing all rows and columns between 8 and then end 100\n",
    "arr"
   ]
  },
  {
   "cell_type": "markdown",
   "id": "702d393d-9905-4023-a318-258e36ac4d56",
   "metadata": {},
   "source": [
    "We can also select specific values rather than a slice"
   ]
  },
  {
   "cell_type": "code",
   "execution_count": 89,
   "id": "a673c49f-a796-4d69-a867-6b2dcdc299d3",
   "metadata": {},
   "outputs": [
    {
     "name": "stdout",
     "output_type": "stream",
     "text": [
      "[[0.51325808 0.62078753 0.95958195 0.03177242 0.45766185]\n",
      " [0.7766822  0.27351435 0.96886486 0.25302854 0.42824282]\n",
      " [0.07615317 0.10865662 0.37726417 0.8439409  0.85043288]\n",
      " [0.11569911 0.87108675 0.37342621 0.26158074 0.39639049]\n",
      " [0.76504294 0.23974857 0.85581285 0.230306   0.45384167]]\n",
      "[0.26158074 0.96886486 0.10865662]\n"
     ]
    }
   ],
   "source": [
    "arr = np.random.rand(5,5)\n",
    "print(arr)\n",
    "print(arr[[3,1,2], [3,2,1]])  # we take the elements from the position 3,3     1,2   and 2, 1 . Convince youself of this. "
   ]
  },
  {
   "cell_type": "markdown",
   "id": "fe039ca5-bce7-4f3b-b8ed-b14af975ea54",
   "metadata": {},
   "source": [
    "#### Finding elements of your array under certain conditons\n",
    "\n",
    "This works very similar to the syntax we saw in pandas"
   ]
  },
  {
   "cell_type": "code",
   "execution_count": 90,
   "id": "e18a4e5c-da62-47b2-8e57-f532e6be3731",
   "metadata": {},
   "outputs": [],
   "source": [
    "arr = np.arange(25).reshape(5,5)"
   ]
  },
  {
   "cell_type": "code",
   "execution_count": 91,
   "id": "70fc1c62-4022-4e1f-96ed-059e139beb10",
   "metadata": {},
   "outputs": [
    {
     "data": {
      "text/plain": [
       "array([[False, False, False, False, False],\n",
       "       [False,  True,  True,  True,  True],\n",
       "       [ True,  True,  True,  True,  True],\n",
       "       [ True,  True,  True,  True,  True],\n",
       "       [ True,  True,  True,  True,  True]])"
      ]
     },
     "execution_count": 91,
     "metadata": {},
     "output_type": "execute_result"
    }
   ],
   "source": [
    "arr>5 #  this returns an array of booleans where the condition has been met"
   ]
  },
  {
   "cell_type": "code",
   "execution_count": 92,
   "id": "89e03011-2f10-4dc5-bbcc-8362fda9a55c",
   "metadata": {},
   "outputs": [
    {
     "data": {
      "text/plain": [
       "array([ 6,  7,  8,  9, 10, 11, 12, 13, 14, 15, 16, 17, 18, 19, 20, 21, 22,\n",
       "       23, 24])"
      ]
     },
     "execution_count": 92,
     "metadata": {},
     "output_type": "execute_result"
    }
   ],
   "source": [
    "arr[arr>5] #  Wehn we insert this boolean array inside the orignal array it will return only the values where the conditon is true"
   ]
  },
  {
   "cell_type": "markdown",
   "id": "70372ddf-8a5d-442d-8ce6-a2a5d23c9e56",
   "metadata": {},
   "source": [
    "The numpy the where function is similar to the if statement in microsoft. The np.where allows you to first set a conditon and then set the options for a replacement if the conditon is true or if it is false"
   ]
  },
  {
   "cell_type": "code",
   "execution_count": 93,
   "id": "e264214d-cd4c-4709-9027-4f591b25879a",
   "metadata": {},
   "outputs": [
    {
     "name": "stdout",
     "output_type": "stream",
     "text": [
      "[[10 10 10 10 10]\n",
      " [10 -1 -1 -1 -1]\n",
      " [-1 -1 -1 -1 -1]\n",
      " [-1 -1 -1 -1 -1]\n",
      " [-1 -1 -1 -1 -1]]\n"
     ]
    }
   ],
   "source": [
    "# np.where(condition, true_return, false_return)\n",
    "print(np.where(arr>5, -1, 10)) #  We see here that all values where the arr was greater than 5 have been set to -1 and all other values have been set to 10"
   ]
  },
  {
   "cell_type": "markdown",
   "id": "a0c0863c-a153-4090-b83d-5e5f712121f6",
   "metadata": {},
   "source": [
    "<div class=\"alert alert-block alert-warning\">\n",
    "<b>Task:</b> Create an array of random numbers between -0.5 and 0.5 . Then replace all numbers that are negative set them to 0"
   ]
  },
  {
   "cell_type": "code",
   "execution_count": 94,
   "id": "498f9b79-fbbc-41e0-b9b3-5a529b3f00fa",
   "metadata": {},
   "outputs": [
    {
     "data": {
      "text/plain": [
       "array([[0.43474102, 0.49346177, 0.08875689, 0.26329987, 0.45594584],\n",
       "       [0.31632728, 0.2201974 , 0.29863913, 0.43252694, 0.        ],\n",
       "       [0.        , 0.32878026, 0.17485353, 0.06362403, 0.        ],\n",
       "       [0.09782743, 0.31277124, 0.        , 0.05977064, 0.        ],\n",
       "       [0.        , 0.38212693, 0.20169919, 0.448721  , 0.        ]])"
      ]
     },
     "execution_count": 94,
     "metadata": {},
     "output_type": "execute_result"
    }
   ],
   "source": [
    "arr_10 = np.random.rand(5,5) - 0.5\n",
    "np.where(arr_10 < 0, 0, arr_10)"
   ]
  },
  {
   "cell_type": "markdown",
   "id": "332baf2a-17df-4eb1-9479-a5817daea133",
   "metadata": {},
   "source": [
    "More infomation on using np.where can be found at \n",
    "\n",
    "https://www.w3schools.com/python/numpy/numpy_array_search.asp"
   ]
  },
  {
   "cell_type": "code",
   "execution_count": 95,
   "id": "699c1e12-8b81-466d-8a82-adac7fb99691",
   "metadata": {},
   "outputs": [
    {
     "name": "stdout",
     "output_type": "stream",
     "text": [
      "[[1 1]\n",
      " [1 2]\n",
      " [1 3]\n",
      " [1 4]\n",
      " [2 0]\n",
      " [2 1]\n",
      " [2 2]\n",
      " [2 3]\n",
      " [2 4]\n",
      " [3 0]\n",
      " [3 1]\n",
      " [3 2]\n",
      " [3 3]\n",
      " [3 4]\n",
      " [4 0]\n",
      " [4 1]\n",
      " [4 2]\n",
      " [4 3]\n",
      " [4 4]]\n"
     ]
    }
   ],
   "source": [
    "# Instead of knowing the values where a conditon is met we may want to know the position in the array where the conditon is true\n",
    "# In this case we use the argwhere function\n",
    "print(np.argwhere(arr>5))"
   ]
  },
  {
   "cell_type": "code",
   "execution_count": null,
   "id": "1894142f-7fef-42e2-a86e-819835adb70c",
   "metadata": {},
   "outputs": [],
   "source": []
  },
  {
   "cell_type": "markdown",
   "id": "e47843ef-2325-46a8-9d90-481fe31f5fc8",
   "metadata": {},
   "source": [
    "# 5 Sorting an array\n",
    "[Back to Contents](#Contents)\n",
    "\n",
    "Sorting an array in numpy is similar to pandas and order by in SQL"
   ]
  },
  {
   "cell_type": "code",
   "execution_count": 96,
   "id": "ad4d3094-e4c3-45e1-acf9-ac42e2967e3e",
   "metadata": {},
   "outputs": [
    {
     "name": "stdout",
     "output_type": "stream",
     "text": [
      "[[0.19897485 0.44229745 0.12985152 0.03122966 0.02433695]\n",
      " [0.32297382 0.53024209 0.36214397 0.07102489 0.24478117]\n",
      " [0.33403554 0.72365295 0.37246217 0.32921997 0.65437723]\n",
      " [0.44919357 0.84338249 0.48137672 0.56780719 0.84810442]\n",
      " [0.83714628 0.88884051 0.78901184 0.98959012 0.88146357]]\n"
     ]
    }
   ],
   "source": [
    "# np.sort(array, axis = x)\n",
    "arr = np.random.rand(5,5)\n",
    "print(np.sort(arr, axis=0)) #  we can see that in the first dimension (looking down) the array has been sorted low to high  "
   ]
  },
  {
   "cell_type": "code",
   "execution_count": 97,
   "id": "8a71327a-3067-4494-b2b4-c60f5a616351",
   "metadata": {},
   "outputs": [
    {
     "name": "stdout",
     "output_type": "stream",
     "text": [
      "[[0.37246217 0.44919357 0.88146357 0.88884051 0.98959012]\n",
      " [0.02433695 0.32921997 0.33403554 0.44229745 0.48137672]\n",
      " [0.07102489 0.19897485 0.36214397 0.72365295 0.84810442]\n",
      " [0.03122966 0.12985152 0.24478117 0.83714628 0.84338249]\n",
      " [0.32297382 0.53024209 0.56780719 0.65437723 0.78901184]]\n"
     ]
    }
   ],
   "source": [
    "print(np.sort(arr)) #  if we do not specify an axis np.sort will sort along the last axis "
   ]
  },
  {
   "cell_type": "code",
   "execution_count": 98,
   "id": "17d42276-4a67-426c-a141-4f377f4b5cbf",
   "metadata": {},
   "outputs": [
    {
     "name": "stdout",
     "output_type": "stream",
     "text": [
      "[[0.02433695 0.03122966 0.07102489 0.12985152 0.19897485]\n",
      " [0.24478117 0.32297382 0.32921997 0.33403554 0.36214397]\n",
      " [0.37246217 0.44229745 0.44919357 0.48137672 0.53024209]\n",
      " [0.56780719 0.65437723 0.72365295 0.78901184 0.83714628]\n",
      " [0.84338249 0.84810442 0.88146357 0.88884051 0.98959012]]\n"
     ]
    }
   ],
   "source": [
    "print(np.sort(arr, axis = None).reshape(5,5)) # setting axis to 0 will flaten the array and then sort it. We can use reshape after to get the shape back"
   ]
  },
  {
   "cell_type": "code",
   "execution_count": null,
   "id": "0b6cfdc4-c0fb-4e2f-8b21-850523af5c32",
   "metadata": {},
   "outputs": [],
   "source": [
    "print(arr) # note how the array has not been overwritten"
   ]
  },
  {
   "cell_type": "code",
   "execution_count": null,
   "id": "fdc6b85a-87dc-4812-9edf-7837873c4231",
   "metadata": {},
   "outputs": [],
   "source": [
    "arr.sort(axis = 0) #  similar to pandas syntax. This will by default overwrite arr\n",
    "arr"
   ]
  },
  {
   "cell_type": "code",
   "execution_count": null,
   "id": "aefdbd89-76b0-4939-895e-23081ff95e64",
   "metadata": {},
   "outputs": [],
   "source": [
    "arr = np.array(range(25)).reshape(5,5)\n",
    "# you may not want to sort the array however know the indexes of the sorted array whilst leaving the array untouched. \n",
    "# As with previous sections we use ther arg.... function to do this"
   ]
  },
  {
   "cell_type": "code",
   "execution_count": null,
   "id": "3e3e83e1-6c79-4bed-a2ef-7734c218f32b",
   "metadata": {},
   "outputs": [],
   "source": [
    "print(arr)\n",
    "print(np.argsort(arr, axis=0)) #  along a specificed axis"
   ]
  },
  {
   "cell_type": "code",
   "execution_count": null,
   "id": "32603e67-b2ec-477b-9295-c8601c8c1152",
   "metadata": {},
   "outputs": [],
   "source": [
    "print(arr)\n",
    "print(np.argsort(arr)) # the entire array\n"
   ]
  },
  {
   "cell_type": "markdown",
   "id": "da277772-a542-4d8f-b359-447bc752aa89",
   "metadata": {},
   "source": [
    "<div class=\"alert alert-block alert-warning\">\n",
    "<b>Task:</b> Numpy has no option to sort in descending order. Thinking of the use of a negative how could you change you array and sort it in descending order making use of multilying your exisiting array by negative 1 "
   ]
  },
  {
   "cell_type": "code",
   "execution_count": 100,
   "id": "baceffd4-d303-4dca-b435-36a2d7e02fcd",
   "metadata": {},
   "outputs": [
    {
     "name": "stdout",
     "output_type": "stream",
     "text": [
      "[[0.44919357 0.88884051 0.37246217 0.98959012 0.88146357]\n",
      " [0.33403554 0.44229745 0.48137672 0.32921997 0.02433695]\n",
      " [0.19897485 0.72365295 0.36214397 0.07102489 0.84810442]\n",
      " [0.83714628 0.84338249 0.12985152 0.03122966 0.24478117]\n",
      " [0.32297382 0.53024209 0.78901184 0.56780719 0.65437723]]\n"
     ]
    },
    {
     "data": {
      "text/plain": [
       "array([0.98959012, 0.88884051, 0.88146357, 0.84810442, 0.84338249,\n",
       "       0.83714628, 0.78901184, 0.72365295, 0.65437723, 0.56780719,\n",
       "       0.53024209, 0.48137672, 0.44919357, 0.44229745, 0.37246217,\n",
       "       0.36214397, 0.33403554, 0.32921997, 0.32297382, 0.24478117,\n",
       "       0.19897485, 0.12985152, 0.07102489, 0.03122966, 0.02433695])"
      ]
     },
     "execution_count": 100,
     "metadata": {},
     "output_type": "execute_result"
    }
   ],
   "source": [
    "print(arr)\n",
    "-np.sort(-arr, axis = None)\n"
   ]
  },
  {
   "cell_type": "markdown",
   "id": "5dc50f9f-f981-49fa-b812-9b64f73589ca",
   "metadata": {},
   "source": [
    "<a id=\"6\"></a>\n",
    "\n",
    "# 6 Manipulating Arrays\n",
    "[Back to Contents](#Contents)\n",
    "\n",
    "In this section we will look at\n",
    "- transpose\n",
    "- change array shape\n",
    "- flaten an array\n",
    "- append elements to an array\n",
    "- insert element to an array\n",
    "- deleting array elements\n",
    "\n",
    "\n"
   ]
  },
  {
   "cell_type": "markdown",
   "id": "444c7955-6a7f-416d-b226-7b3789b9b231",
   "metadata": {},
   "source": [
    "The transpose columns turns all rows to columns and all columns to rows. Lets look. "
   ]
  },
  {
   "cell_type": "code",
   "execution_count": 101,
   "id": "256c8caf-2419-470a-b857-32c5e915d927",
   "metadata": {},
   "outputs": [
    {
     "name": "stdout",
     "output_type": "stream",
     "text": [
      "[[0.72625512 0.4839824  0.38484627 0.56022486 0.17369182]\n",
      " [0.96731375 0.97710532 0.90830803 0.34596158 0.03982599]]\n",
      "(2, 5)\n"
     ]
    }
   ],
   "source": [
    "arr1 = np.random.rand(2,5)\n",
    "print(arr1)\n",
    "print(arr1.shape)"
   ]
  },
  {
   "cell_type": "code",
   "execution_count": 102,
   "id": "ce7d3742-56f2-4724-93c5-8d33e6241741",
   "metadata": {},
   "outputs": [
    {
     "data": {
      "text/plain": [
       "array([[0.72625512, 0.96731375],\n",
       "       [0.4839824 , 0.97710532],\n",
       "       [0.38484627, 0.90830803],\n",
       "       [0.56022486, 0.34596158],\n",
       "       [0.17369182, 0.03982599]])"
      ]
     },
     "execution_count": 102,
     "metadata": {},
     "output_type": "execute_result"
    }
   ],
   "source": [
    "np.transpose(arr1) #  transpose function , Rows to columns and columns to rows."
   ]
  },
  {
   "cell_type": "markdown",
   "id": "c83dc58c-0257-4561-8f93-887bbed624df",
   "metadata": {},
   "source": [
    "More infomation on numpy transpose can be found here https://www.digitalocean.com/community/tutorials/numpy-matrix-transpose-array"
   ]
  },
  {
   "cell_type": "code",
   "execution_count": 103,
   "id": "a8bd63a1-39ec-45ea-ab23-d04738a98fc8",
   "metadata": {},
   "outputs": [
    {
     "data": {
      "text/plain": [
       "array([[0.78427156, 0.51785284, 0.62868439, 0.28533915],\n",
       "       [0.04832071, 0.54658143, 0.58749336, 0.44343976],\n",
       "       [0.18058961, 0.55110761, 0.2258644 , 0.94070983]])"
      ]
     },
     "execution_count": 103,
     "metadata": {},
     "output_type": "execute_result"
    }
   ],
   "source": [
    "arr1 = np.random.rand(3, 4)\n",
    "arr1"
   ]
  },
  {
   "cell_type": "code",
   "execution_count": 104,
   "id": "2c75692e-4ab2-4c58-ba61-d5bd1c0c001f",
   "metadata": {},
   "outputs": [
    {
     "data": {
      "text/plain": [
       "array([[0.78427156, 0.51785284, 0.62868439, 0.28533915, 0.04832071,\n",
       "        0.54658143],\n",
       "       [0.58749336, 0.44343976, 0.18058961, 0.55110761, 0.2258644 ,\n",
       "        0.94070983]])"
      ]
     },
     "execution_count": 104,
     "metadata": {},
     "output_type": "execute_result"
    }
   ],
   "source": [
    "arr1.reshape(2, 6) #  reshape the array that has 12 elements (3 * 4) and reshape it to an array of 2 by 6"
   ]
  },
  {
   "cell_type": "code",
   "execution_count": 105,
   "id": "b4160965-6fb0-4b9a-ac53-cab6d1dcd202",
   "metadata": {},
   "outputs": [
    {
     "data": {
      "text/plain": [
       "((3, 4), (2, 6))"
      ]
     },
     "execution_count": 105,
     "metadata": {},
     "output_type": "execute_result"
    }
   ],
   "source": [
    "arr1.shape, arr1.reshape(2, 6).shape #  notice the difference in the shape of the 2 arrays "
   ]
  },
  {
   "cell_type": "markdown",
   "id": "758400b8-1d13-4be3-b2e3-f80cb8ffe1ae",
   "metadata": {},
   "source": [
    "There is a method that is very similar to **np.reshape** which is **np.resize**. The only difference between the two is np.reshape does not perminately change the array where as np.resize does. Lets look"
   ]
  },
  {
   "cell_type": "code",
   "execution_count": 106,
   "id": "709014ad-ac50-4e9c-bb67-78e055e9fdc0",
   "metadata": {},
   "outputs": [
    {
     "name": "stdout",
     "output_type": "stream",
     "text": [
      "[[0.08881606 0.62326253 0.5536119  0.46513246]\n",
      " [0.24479686 0.38264464 0.48156903 0.853365  ]\n",
      " [0.65099206 0.35357034 0.71027    0.35793369]]\n",
      " \n",
      " Using reshape below \n",
      "\n",
      "[[0.08881606 0.62326253 0.5536119  0.46513246 0.24479686 0.38264464\n",
      "  0.48156903 0.853365   0.65099206 0.35357034 0.71027    0.35793369]]\n",
      " \n",
      " Original arrray below  \n",
      "\n",
      "[[0.08881606 0.62326253 0.5536119  0.46513246]\n",
      " [0.24479686 0.38264464 0.48156903 0.853365  ]\n",
      " [0.65099206 0.35357034 0.71027    0.35793369]]\n",
      " \n",
      " Array has been perminately changed below \n",
      "\n",
      "[[0.08881606 0.62326253 0.5536119  0.46513246 0.24479686 0.38264464\n",
      "  0.48156903 0.853365   0.65099206 0.35357034 0.71027    0.35793369]]\n"
     ]
    }
   ],
   "source": [
    "arr1 = np.random.rand(3, 4)\n",
    "print(arr1)\n",
    "print(' \\n Using reshape below \\n')\n",
    "print(arr1.reshape(1,12))\n",
    "print(' \\n Original arrray below  \\n')\n",
    "print(arr1)\n",
    "arr1.resize(1,12)\n",
    "print(' \\n Array has been perminately changed below \\n')\n",
    "print(arr1)"
   ]
  },
  {
   "cell_type": "markdown",
   "id": "7834fdde-1c5e-47bb-a290-cf9810de0118",
   "metadata": {},
   "source": [
    "Flattening an array is the process of taking a higher dimension array and compressing it down to one dimension. This is used commonly in linear algenbra and Machine learning"
   ]
  },
  {
   "cell_type": "code",
   "execution_count": 107,
   "id": "0d3b9aa7-5acd-48c4-8ec8-36b898bcaa1d",
   "metadata": {},
   "outputs": [
    {
     "name": "stdout",
     "output_type": "stream",
     "text": [
      "[0.08881606 0.62326253 0.5536119  0.46513246 0.24479686 0.38264464\n",
      " 0.48156903 0.853365   0.65099206 0.35357034 0.71027    0.35793369]\n",
      "(12,)\n"
     ]
    }
   ],
   "source": [
    "arr1.resize(3, 4)\n",
    "print(arr1.flatten())\n",
    "print(arr1.flatten().shape)"
   ]
  },
  {
   "cell_type": "markdown",
   "id": "59fe9bb8-8f6f-46c6-a761-ae37c3b5375e",
   "metadata": {},
   "source": [
    "<div class=\"alert alert-block alert-warning\">\n",
    "<b>Task:</b> make an array of numbers 0 to 100 using range. Rehsape the array to become 10 by 10. Call this array img. Then use the code below to allow matplotlib to plot tour array as an image"
   ]
  },
  {
   "cell_type": "code",
   "execution_count": 110,
   "id": "336c5ae6-9a46-4538-b5a2-4d2fdcbacb42",
   "metadata": {},
   "outputs": [
    {
     "data": {
      "image/png": "[encoded data removed]",
      "text/plain": [
       "<Figure size 432x288 with 2 Axes>"
      ]
     },
     "metadata": {
      "needs_background": "light"
     },
     "output_type": "display_data"
    }
   ],
   "source": [
    "#........write your code on this line and delete me and run the cell ...#\n",
    "img = np.array(range(100)).reshape(10,10)\n",
    "\n",
    "\n",
    "\n",
    "import matplotlib.pyplot as plt\n",
    "plt.imshow(img)\n",
    "plt.title('2D image')\n",
    "plt.colorbar()\n",
    "plt.show()"
   ]
  },
  {
   "cell_type": "markdown",
   "id": "77957240-2914-4914-8923-be5590df7f76",
   "metadata": {},
   "source": [
    "We may wish to add elements on to the end of an array. This is known as appening. We often append to lists. We can also append to numpy arrays \n",
    "\n",
    "More resources on append can be found at \n",
    "\n",
    "https://w3resource.com/numpy/manipulation/append.php"
   ]
  },
  {
   "cell_type": "code",
   "execution_count": 111,
   "id": "0cb1fb07-9291-4c98-babe-f393f053f3c1",
   "metadata": {},
   "outputs": [
    {
     "name": "stdout",
     "output_type": "stream",
     "text": [
      "[1 2 3 4]\n"
     ]
    }
   ],
   "source": [
    "arr = np.array([1,2,3])\n",
    "arr1 = np.append(arr, 4)     # we have appended the integet 4 to the array\n",
    "print(arr1)"
   ]
  },
  {
   "cell_type": "code",
   "execution_count": 112,
   "id": "d4b8ed06-04b0-4439-a24d-4a710ed0fa35",
   "metadata": {},
   "outputs": [
    {
     "name": "stdout",
     "output_type": "stream",
     "text": [
      "[1 2 3 4 5 6]\n"
     ]
    }
   ],
   "source": [
    "arr2 = np.append(arr, [4,5,6])   # we can append a list of numbers to an existing array also \n",
    "print(arr2)"
   ]
  },
  {
   "cell_type": "code",
   "execution_count": 113,
   "id": "004e993c-7f23-4c0b-bf17-a008553b42bb",
   "metadata": {},
   "outputs": [
    {
     "name": "stdout",
     "output_type": "stream",
     "text": [
      "[100   1   2   3]\n"
     ]
    }
   ],
   "source": [
    "# np.insert(array, position, element)\n",
    "\n",
    "# insert a scalar at a certain position\n",
    "arr3 = np.insert(arr, 0, 100)    \n",
    "print(arr3)"
   ]
  },
  {
   "cell_type": "markdown",
   "id": "02601de4-9bd2-4d26-a1fa-ff2fa47ef684",
   "metadata": {},
   "source": [
    "More resources on inserting values into numpy arrays can be found at\n",
    "\n",
    "https://www.w3resource.com/numpy/manipulation/insert.php"
   ]
  },
  {
   "cell_type": "code",
   "execution_count": 114,
   "id": "f441f627-dce7-4617-8275-777e68775b27",
   "metadata": {},
   "outputs": [
    {
     "name": "stdout",
     "output_type": "stream",
     "text": [
      "[2 3]\n"
     ]
    }
   ],
   "source": [
    "# remove the element at position 0\n",
    "arr4 = np.delete(arr, 0)    \n",
    "print(arr4)"
   ]
  },
  {
   "cell_type": "markdown",
   "id": "3cd743d2-873d-4a03-a718-8054f46c8437",
   "metadata": {},
   "source": [
    "More resources on deleting elements can be found at \n",
    "\n",
    "https://www.w3resource.com/numpy/manipulation/delete.php"
   ]
  },
  {
   "cell_type": "code",
   "execution_count": 115,
   "id": "366033f0-a08e-43eb-b00b-c5c21b19edb4",
   "metadata": {},
   "outputs": [
    {
     "name": "stdout",
     "output_type": "stream",
     "text": [
      "[2]\n"
     ]
    }
   ],
   "source": [
    "# remove the element at multiple positions\n",
    "arr4 = np.delete(arr, [0,2])    \n",
    "print(arr4)"
   ]
  },
  {
   "cell_type": "markdown",
   "id": "35277de3-bb29-4635-91c1-4d1a1ab9f3e4",
   "metadata": {},
   "source": [
    "<a id=\"8\"></a>\n",
    "\n",
    "# 8 Combine and Split an Array\n",
    "[Back to Contents](#Contents)\n",
    "\n",
    "In this section we will look at\n",
    "- concatenate arrays : https://www.w3resource.com/numpy/manipulation/concatenate.php\n",
    "- vertical and horrizonal stacking : https://www.w3resource.com/numpy/manipulation/vstack.php    https://www.w3resource.com/numpy/manipulation/hstack.php   \n",
    "- splitting an array : https://www.w3resource.com/numpy/manipulation/split.php hsplit https://www.w3resource.com/numpy/manipulation/hsplit.php vsplit https://www.w3resource.com/numpy/manipulation/vsplit.php\n",
    "\n"
   ]
  },
  {
   "cell_type": "code",
   "execution_count": 116,
   "id": "126d3f4c-9bd2-48f5-8172-a39d9cb43821",
   "metadata": {},
   "outputs": [
    {
     "data": {
      "text/plain": [
       "(array([[1, 2, 3, 4],\n",
       "        [1, 2, 3, 4]]),\n",
       " array([[5, 6, 7, 8],\n",
       "        [5, 6, 7, 8]]))"
      ]
     },
     "execution_count": 116,
     "metadata": {},
     "output_type": "execute_result"
    }
   ],
   "source": [
    "# start off with 2 arrays\n",
    "arr1 = np.array([[1,2,3,4], [1,2,3,4]])\n",
    "arr2 = np.array([[5,6,7,8], [5,6,7,8]])\n",
    "arr1, arr2"
   ]
  },
  {
   "cell_type": "markdown",
   "id": "36eb94b1-22ac-4bf3-b66a-440ade70a1e9",
   "metadata": {},
   "source": [
    "THe functions below look at methods of joining together arrays. They all work in similar ways to achieve fundermentally the same goal; joining the array along the correct axis. There is no significant use case to use either method over the other however you will notice people favour using one method over the other. \n",
    "\n",
    "The methods we will cover are :\n",
    "\n",
    "- **np.concatenate((a, b), axis=0)**\n",
    "- **np.vstack((a, b))**\n",
    "- **np.hstack((a, b))**"
   ]
  },
  {
   "cell_type": "code",
   "execution_count": 117,
   "id": "8d06f4e9-4519-4d35-b204-3d2591631aae",
   "metadata": {},
   "outputs": [
    {
     "data": {
      "text/plain": [
       "array([[1, 2, 3, 4],\n",
       "       [1, 2, 3, 4],\n",
       "       [5, 6, 7, 8],\n",
       "       [5, 6, 7, 8]])"
      ]
     },
     "execution_count": 117,
     "metadata": {},
     "output_type": "execute_result"
    }
   ],
   "source": [
    "combined_array= np.concatenate((arr1, arr2), axis=0)        # join arr1 and arr2 down axis = 0 , the row axis\n",
    "combined_array"
   ]
  },
  {
   "cell_type": "code",
   "execution_count": 118,
   "id": "c1323f6f-2944-4334-866c-c69883fa1953",
   "metadata": {},
   "outputs": [
    {
     "data": {
      "text/plain": [
       "array([[1, 2, 3, 4, 5, 6, 7, 8],\n",
       "       [1, 2, 3, 4, 5, 6, 7, 8]])"
      ]
     },
     "execution_count": 118,
     "metadata": {},
     "output_type": "execute_result"
    }
   ],
   "source": [
    "combined_array= np.concatenate((arr1, arr2), axis=1) #join arr1 and arr2 down the column axis, axis 1\n",
    "combined_array"
   ]
  },
  {
   "cell_type": "code",
   "execution_count": 119,
   "id": "7ef475dc-c151-4e4a-8f07-f41a1d220559",
   "metadata": {},
   "outputs": [
    {
     "data": {
      "text/plain": [
       "array([[1, 2, 3, 4, 5, 6, 7, 8],\n",
       "       [1, 2, 3, 4, 5, 6, 7, 8]])"
      ]
     },
     "execution_count": 119,
     "metadata": {},
     "output_type": "execute_result"
    }
   ],
   "source": [
    "combined_array = np.hstack((arr1, arr2)) # join arrays down the column using hstack \n",
    "combined_array"
   ]
  },
  {
   "cell_type": "code",
   "execution_count": 120,
   "id": "af5c1cbc-8dbb-4fd0-bc5e-ed589c174fab",
   "metadata": {},
   "outputs": [
    {
     "data": {
      "text/plain": [
       "array([[1, 2, 3, 4],\n",
       "       [1, 2, 3, 4],\n",
       "       [5, 6, 7, 8],\n",
       "       [5, 6, 7, 8]])"
      ]
     },
     "execution_count": 120,
     "metadata": {},
     "output_type": "execute_result"
    }
   ],
   "source": [
    "combined_array = np.vstack((arr1, arr2)) # join arrays down the row using vstack \n",
    "combined_array"
   ]
  },
  {
   "cell_type": "markdown",
   "id": "64413e0b-2944-4d34-808e-d554791cfca4",
   "metadata": {},
   "source": [
    "<div class=\"alert alert-block alert-warning\">\n",
    "<b>Task:</b> Using arr1 and arr2 show that hstack  is the same as concatenate using axis 1"
   ]
  },
  {
   "cell_type": "code",
   "execution_count": 124,
   "id": "e2f2ae4d-c32b-4705-8650-aa052fc9747a",
   "metadata": {},
   "outputs": [
    {
     "data": {
      "text/plain": [
       "array([[ True,  True,  True,  True,  True,  True,  True,  True],\n",
       "       [ True,  True,  True,  True,  True,  True,  True,  True]])"
      ]
     },
     "execution_count": 124,
     "metadata": {},
     "output_type": "execute_result"
    }
   ],
   "source": [
    "np.hstack((arr1, arr2)) == np.concatenate((arr1, arr2), axis = 1)"
   ]
  },
  {
   "cell_type": "markdown",
   "id": "282d88e2-70e8-40cc-a1a7-5fc40d971b41",
   "metadata": {},
   "source": [
    " To split an array we use the function **vsplit** or **hsplit** depending on how we want to split up our array"
   ]
  },
  {
   "cell_type": "code",
   "execution_count": 125,
   "id": "6e967e86-a03a-4811-b4e1-32ee6ba4cfcf",
   "metadata": {},
   "outputs": [],
   "source": [
    "arr = np.random.rand(8, 8)\n",
    "# split an array horrizontally into n equal chunks\n",
    "arr2 = np.hsplit(arr, 2)\n"
   ]
  },
  {
   "cell_type": "code",
   "execution_count": 126,
   "id": "5173a4a4-9ec6-4d0d-a3bc-820706513236",
   "metadata": {},
   "outputs": [
    {
     "data": {
      "text/plain": [
       "2"
      ]
     },
     "execution_count": 126,
     "metadata": {},
     "output_type": "execute_result"
    }
   ],
   "source": [
    "# notice the output is a list of len 2 for 2 equal chunks\n",
    "len(arr2)"
   ]
  },
  {
   "cell_type": "code",
   "execution_count": 127,
   "id": "53ed0ab3-792c-4925-96d3-4e0639cfef57",
   "metadata": {},
   "outputs": [
    {
     "data": {
      "text/plain": [
       "((8, 4), (8, 4))"
      ]
     },
     "execution_count": 127,
     "metadata": {},
     "output_type": "execute_result"
    }
   ],
   "source": [
    "# notice how the shape of each element is 8 by 4 . We have split the array horrizontally. \n",
    "arr2[0].shape, arr2[1].shape"
   ]
  },
  {
   "cell_type": "code",
   "execution_count": 128,
   "id": "dbddaca8-aa5a-4101-9fb3-c6f0330f8ea8",
   "metadata": {},
   "outputs": [
    {
     "data": {
      "text/plain": [
       "4"
      ]
     },
     "execution_count": 128,
     "metadata": {},
     "output_type": "execute_result"
    }
   ],
   "source": [
    "arr2 = np.hsplit(arr, 4) #  split into 4 equal chunks\n",
    "len(arr2) # notice the length of the list will be 4 that will contain 4 equal sized arrays\n"
   ]
  },
  {
   "cell_type": "code",
   "execution_count": 129,
   "id": "b5573bd3-e5bd-4204-901b-b3f36020d546",
   "metadata": {},
   "outputs": [],
   "source": [
    "arr2 = np.vsplit(arr, 2) #  split the array into 2 equal chunks vertically "
   ]
  },
  {
   "cell_type": "code",
   "execution_count": 130,
   "id": "fc037f38-0ed7-4528-bb15-5f70ce0ad931",
   "metadata": {},
   "outputs": [
    {
     "data": {
      "text/plain": [
       "(2, (4, 8), (4, 8))"
      ]
     },
     "execution_count": 130,
     "metadata": {},
     "output_type": "execute_result"
    }
   ],
   "source": [
    "len(arr2), arr2[0].shape, arr2[1].shape # notice the length of the list and the shape of the 2 element of the list"
   ]
  },
  {
   "cell_type": "markdown",
   "id": "d04e8d67-8b93-4dd9-9c35-71057b131688",
   "metadata": {},
   "source": [
    "<a id=\"9\"></a>\n",
    "\n",
    "# 9 Set Operations\n",
    "[Back to Contents](#Contents)\n",
    "\n",
    "In this section we will look at\n",
    "- unique elements\n",
    "- intersection and union\n",
    "\n",
    "Note that python does has an inbuilt type of data container that can be called used set. This inbuilt python function can perform much of what numpys set operations are also doing .\n",
    "https://www.w3schools.com/python/python_sets.asp"
   ]
  },
  {
   "cell_type": "code",
   "execution_count": 131,
   "id": "09a4ed83-842a-4cfe-b58e-3fcd57a5e1a5",
   "metadata": {},
   "outputs": [
    {
     "data": {
      "text/plain": [
       "array([1, 2, 3, 4, 5, 6])"
      ]
     },
     "execution_count": 131,
     "metadata": {},
     "output_type": "execute_result"
    }
   ],
   "source": [
    "arr = np.array([1,1,2,2,3,3,4,5,6])\n",
    "np.unique(arr) #  returns the uniuqe elements of the array "
   ]
  },
  {
   "cell_type": "code",
   "execution_count": 132,
   "id": "1c91f172-6f45-476a-9e5e-f634b5ce3449",
   "metadata": {},
   "outputs": [],
   "source": [
    "arr1 = np.array([1,2,3,4,5])\n",
    "arr2 = np.array([3,4,5,6,7])"
   ]
  },
  {
   "cell_type": "markdown",
   "id": "d3163173-53b5-4e81-8543-2a904c1aeea8",
   "metadata": {},
   "source": [
    "The intersection 2 arrays can be represented as in the venn diagram below. The intersection is the region of values that are present in both array 1 and array 2"
   ]
  },
  {
   "cell_type": "markdown",
   "id": "6bc12532-2c8b-411f-aedc-7e63818804dc",
   "metadata": {},
   "source": [
    "![Image of intersection](https://www.onlinemathlearning.com/image-files/venn-diagram.png)"
   ]
  },
  {
   "cell_type": "code",
   "execution_count": 133,
   "id": "257f6964-75f9-4abb-8f3e-895abdfb6121",
   "metadata": {},
   "outputs": [
    {
     "data": {
      "text/plain": [
       "array([3, 4, 5])"
      ]
     },
     "execution_count": 133,
     "metadata": {},
     "output_type": "execute_result"
    }
   ],
   "source": [
    "np.intersect1d(arr1, arr2) # we should see 3 4 and 5 are common in both arrays"
   ]
  },
  {
   "cell_type": "markdown",
   "id": "2e72d451-1be4-43c3-9adb-2bca7eab6901",
   "metadata": {},
   "source": [
    "The union operator looks to display all of the unique values between both sets of array 1 and array 2. "
   ]
  },
  {
   "cell_type": "code",
   "execution_count": 134,
   "id": "14b40006-ce37-4c18-a913-e1f4782f59d8",
   "metadata": {},
   "outputs": [
    {
     "data": {
      "text/plain": [
       "array([1, 2, 3, 4, 5, 6, 7])"
      ]
     },
     "execution_count": 134,
     "metadata": {},
     "output_type": "execute_result"
    }
   ],
   "source": [
    "np.union1d(arr1, arr2) "
   ]
  },
  {
   "cell_type": "markdown",
   "id": "1b69270f-49ed-4236-b805-07884be2e83e",
   "metadata": {},
   "source": [
    "If you want to check whether elements of array 2 are present in array 1 then the **in1d** function can be used "
   ]
  },
  {
   "cell_type": "code",
   "execution_count": 135,
   "id": "c86b5ba5-df29-40c4-89a5-05e9a846e6a9",
   "metadata": {},
   "outputs": [
    {
     "data": {
      "text/plain": [
       "array([False, False,  True,  True,  True])"
      ]
     },
     "execution_count": 135,
     "metadata": {},
     "output_type": "execute_result"
    }
   ],
   "source": [
    "np.in1d(arr1, arr2) "
   ]
  },
  {
   "cell_type": "markdown",
   "id": "f6c2193d-00a2-4b4c-b11d-cd772cff272f",
   "metadata": {},
   "source": [
    "Above we see that of the elements present in array 1 [1,2,3,4,5] that the last 3 elements [3,4,5] are present in array 2"
   ]
  },
  {
   "cell_type": "markdown",
   "id": "b3c4dbfd-b245-4923-9517-b17749d78f49",
   "metadata": {},
   "source": [
    "If we want to know what elements are present in one array but not in another array we can use the **setdiff1d** command"
   ]
  },
  {
   "cell_type": "code",
   "execution_count": 136,
   "id": "ff4ac610-26d4-4bac-bc46-724aeb4c419a",
   "metadata": {},
   "outputs": [
    {
     "data": {
      "text/plain": [
       "array([1, 2])"
      ]
     },
     "execution_count": 136,
     "metadata": {},
     "output_type": "execute_result"
    }
   ],
   "source": [
    "np.setdiff1d(arr1, arr2)"
   ]
  },
  {
   "cell_type": "markdown",
   "id": "c57d44c6-f27b-4add-98f1-d4754f5f221f",
   "metadata": {},
   "source": [
    "Above is telling us that only values 1 and 2 are unique to array 1 that are not present in array 2"
   ]
  },
  {
   "cell_type": "markdown",
   "id": "b8544838-b28e-4b41-a932-d2a14ba7e68f",
   "metadata": {},
   "source": [
    "If we want to know what elements are present independantly in both arrays however are not present in both we can use the **setxor1d** command "
   ]
  },
  {
   "cell_type": "code",
   "execution_count": 137,
   "id": "1240bdf5-1a18-45e1-a512-f89488976b6e",
   "metadata": {},
   "outputs": [
    {
     "data": {
      "text/plain": [
       "array([1, 2, 6, 7])"
      ]
     },
     "execution_count": 137,
     "metadata": {},
     "output_type": "execute_result"
    }
   ],
   "source": [
    "np.setxor1d(arr1, arr2)"
   ]
  },
  {
   "cell_type": "markdown",
   "id": "2706f36b-4d1b-4c23-a0c9-6d07c4a3b185",
   "metadata": {},
   "source": [
    "Above is telling us that the values 1 2 6 and 7 are the values that are independent to their own set"
   ]
  },
  {
   "cell_type": "markdown",
   "id": "321ee5b9-4021-4f32-8dd0-dfafe5233ddd",
   "metadata": {},
   "source": [
    "<div class=\"alert alert-block alert-warning\">\n",
    "<b>Task:</b> Below arr4 and arr5 are defined. Find which values are common to both sets between these arrays"
   ]
  },
  {
   "cell_type": "code",
   "execution_count": 138,
   "id": "76544ad9-fe4e-48c0-89aa-cd97861bcf11",
   "metadata": {},
   "outputs": [
    {
     "data": {
      "text/plain": [
       "array([2, 3, 6])"
      ]
     },
     "execution_count": 138,
     "metadata": {},
     "output_type": "execute_result"
    }
   ],
   "source": [
    "arr4 = np.array([10, 2, 3, 5, 2, 45, 2, 5, 6, ])\n",
    "arr5 = np.array([7, 4, 3, 6, 32, 3, 52, 2, 4, 3, 2 ])\n",
    "\n",
    "np.intersect1d(arr4, arr5)"
   ]
  },
  {
   "cell_type": "markdown",
   "id": "7440ab5d-ca96-4299-aa70-badd94f98944",
   "metadata": {},
   "source": [
    "<a id=\"10\"></a>\n",
    "\n",
    "# 10 Linear Algebra\n",
    "[Back to Contents](#Contents)\n",
    "\n",
    "In this section we will just look at matrix multiplcation since we do not want to go into the maths behind linear algebra transformations however for more infomation on applyin glinear algebra with Python the following link talks through relevent commands\n",
    "\n"
   ]
  },
  {
   "cell_type": "code",
   "execution_count": null,
   "id": "21a8af11-8674-4a49-b68a-c493a77a1ef3",
   "metadata": {},
   "outputs": [],
   "source": [
    "arr1 = np.array([[1,2,3], [4, 5, 6]])\n",
    "arr2 = np.array([[2,2,2], [1, 1, 1]])\n",
    "\n",
    "arr1, arr2"
   ]
  },
  {
   "cell_type": "markdown",
   "id": "75c90196-50c0-49f6-8f22-1bf1398a0f3a",
   "metadata": {},
   "source": [
    "When the * command is used for multiplcation it is performing element wise multiplcation. For this to work then the the two arrays must be equal in size or one of the arrays must contain a singular value. See below "
   ]
  },
  {
   "cell_type": "code",
   "execution_count": null,
   "id": "1cdc1831-fd01-4c5f-8fd6-4d5237f0a513",
   "metadata": {},
   "outputs": [],
   "source": [
    "arr1 * arr2 #  notice each element is multiplied by its respective pair"
   ]
  },
  {
   "cell_type": "code",
   "execution_count": null,
   "id": "284b2e53-0e55-498e-b0fd-982806c32e13",
   "metadata": {},
   "outputs": [],
   "source": [
    "arr1 * 2 #  notice that each element is multiplied by the single value"
   ]
  },
  {
   "cell_type": "markdown",
   "id": "845880f1-b2f6-4660-a847-2443c5629379",
   "metadata": {},
   "source": [
    "matrix multiplication is not the same as element wise multiplcation. \n",
    "The following link explains how matrixes are mutliplied\n",
    "https://www.mathsisfun.com/algebra/matrix-multiplying.html\n",
    "In order to apply matrix multiplcation in Python we use the .dot function. The following links dicuses more detail of matrix multiplcaiton in Python \n",
    "https://towardsdatascience.com/linear-algebra-basics-dot-product-and-matrix-multiplication-2a7624942810#:~:text=Multiplication%20of%20two%20matrices%20involves%20dot%20products%20between%20rows%20of,first%20row%2C%20first%20column)."
   ]
  },
  {
   "cell_type": "code",
   "execution_count": null,
   "id": "a237c11a-b8dd-47c3-aa7d-2330614efc0d",
   "metadata": {},
   "outputs": [],
   "source": [
    "arr1 = np.array([[1,2,3], [4,5,6]])\n",
    "arr2 = np.array([[1,2] ,[3, 4],  [5, 6], [7, 8]])\n",
    "arr1, arr2\n"
   ]
  },
  {
   "cell_type": "code",
   "execution_count": null,
   "id": "e315d05f-e5dd-4d93-b9c1-dab0eddcf9ad",
   "metadata": {},
   "outputs": [],
   "source": [
    "# notice the shape of the two arrays \n",
    "arr1.shape, arr2.shape"
   ]
  },
  {
   "cell_type": "markdown",
   "id": "3baf53d7-899f-4b0a-a9e4-a29fac995377",
   "metadata": {},
   "source": [
    "in order to apply matrix multiplcation the inner dimension of the two arrays must match up. In this case we can multiply arr1 by arr2 however not arr2 by arr1 as shwon below"
   ]
  },
  {
   "cell_type": "code",
   "execution_count": null,
   "id": "27664228-bd43-489c-ae68-a3c548265b77",
   "metadata": {},
   "outputs": [],
   "source": [
    "np.dot(arr2, arr1)\n"
   ]
  },
  {
   "cell_type": "code",
   "execution_count": null,
   "id": "5f3c447a-1f57-4314-87e1-3a7b3b8f2155",
   "metadata": {},
   "outputs": [],
   "source": [
    "np.dot(arr1, arr1)\n",
    "arr2.shape, arr1.shape"
   ]
  },
  {
   "cell_type": "markdown",
   "id": "39b06818-83cd-4804-94e1-26fb5e745632",
   "metadata": {},
   "source": [
    "## Summary\n",
    "\n",
    "We have looked at an overview of some of the common funcitons of the numpy python package. The complete numpy manual can be found here :\n",
    "\n",
    "https://numpy.org/doc/\n",
    "\n",
    "Numpy user guide can be found here\n",
    "https://numpy.org/doc/stable/user/index.html#user\n",
    "\n"
   ]
  }
 ],
 "metadata": {
  "deepnote": {},
  "deepnote_execution_queue": [],
  "deepnote_notebook_id": "39acaa71-6514-4ebf-8bcd-bc50c9a618e1",
  "kernelspec": {
   "display_name": "Python 3 (ipykernel)",
   "language": "python",
   "name": "python3"
  },
  "language_info": {
   "codemirror_mode": {
    "name": "ipython",
    "version": 3
   },
   "file_extension": ".py",
   "mimetype": "text/x-python",
   "name": "python",
   "nbconvert_exporter": "python",
   "pygments_lexer": "ipython3",
   "version": "3.9.12"
  },
  "vscode": {
   "interpreter": {
    "hash": "9200d94d0b9e3a1454bc02bed7fdc05676586a1ffc37a686f92c91974d76799e"
   }
  }
 },
 "nbformat": 4,
 "nbformat_minor": 5
}
