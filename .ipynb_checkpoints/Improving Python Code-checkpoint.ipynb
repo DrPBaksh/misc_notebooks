{
 "cells": [
  {
   "cell_type": "markdown",
   "id": "b21df48a",
   "metadata": {},
   "source": [
    "<img src=\"https://github.com/CorndelDataAnalyticsDiploma/workshop/blob/master/Corndel%20Digital%20Logo%20Centre.png?raw=true\" alt=\"Corndel\" width =\"301.5\" height=216>"
   ]
  },
  {
   "cell_type": "markdown",
   "id": "b0369e42",
   "metadata": {},
   "source": []
  },
  {
   "cell_type": "markdown",
   "id": "599fb5dd",
   "metadata": {},
   "source": [
    "# Symptom Table"
   ]
  },
  {
   "cell_type": "code",
   "execution_count": 1,
   "id": "db2e3594",
   "metadata": {},
   "outputs": [
    {
     "data": {
      "text/html": [
       "<div>\n",
       "<style scoped>\n",
       "    .dataframe tbody tr th:only-of-type {\n",
       "        vertical-align: middle;\n",
       "    }\n",
       "\n",
       "    .dataframe tbody tr th {\n",
       "        vertical-align: top;\n",
       "    }\n",
       "\n",
       "    .dataframe thead th {\n",
       "        text-align: right;\n",
       "    }\n",
       "</style>\n",
       "<table border=\"1\" class=\"dataframe\">\n",
       "  <thead>\n",
       "    <tr style=\"text-align: right;\">\n",
       "      <th></th>\n",
       "      <th>What to look for  / Sympton</th>\n",
       "      <th>How can it be improved</th>\n",
       "      <th>Explanation / links</th>\n",
       "    </tr>\n",
       "  </thead>\n",
       "  <tbody>\n",
       "    <tr>\n",
       "      <th>0</th>\n",
       "      <td>Use of the os package for paths . Especially if you see glob and os</td>\n",
       "      <td>Use the pathlib module</td>\n",
       "      <td>•https://towardsdatascience.com/why-you-should-start-using-pathlib-as-an-alternative-to-the-os-module-d9eccd994745\\n• https://twitter.com/treyhunner/status/1527393465344081920?s=12&amp;t=3PFPPcMJvAJfXJnFFL5HWg\\n</td>\n",
       "    </tr>\n",
       "    <tr>\n",
       "      <th>1</th>\n",
       "      <td>A calulation being repeated in a for loop. Example\\nfor I in list:\\n    square = I * I\\n    print(square)</td>\n",
       "      <td>Use the map function</td>\n",
       "      <td>Map in Python :\\n\\nMap is used to compute a function for different values ‘in a single line of code ‘ .\\nIt takes two arguments, first is function name, that is defined already and the other is list, tuple or any other iterables .\\nIt is a way of applying same function for multiple numbers .\\nIt generates a map object at a particular location .\\nIt works fast when we call an already defined function on the elements</td>\n",
       "    </tr>\n",
       "    <tr>\n",
       "      <th>2</th>\n",
       "      <td>A filter is being applied in a for loop\\ne.g \\nnumbers = [1,2,3,4,5]\\neven_list = []\\nfor num in numbers:\\n     if num % 2 ==0:\\n          even_list.append(num)\\n</td>\n",
       "      <td>Use the filter functions</td>\n",
       "      <td>The filter() function extracts elements from an iterable (list, tuple etc.) for which a function returns True.</td>\n",
       "    </tr>\n",
       "    <tr>\n",
       "      <th>3</th>\n",
       "      <td>Values are being sequentully calculated and combined within a for loop\\ne.g\\nnumbers = [1,2,3,4]\\ncum_sum = 0\\nfor num in numbers:\\n    cum_sum += num</td>\n",
       "      <td>use of reduce from functools</td>\n",
       "      <td>https://realpython.com/python-reduce-function/#:~:text=In%20general%2C%20Python's%20reduce(),still%20is%20in%20Python%202.</td>\n",
       "    </tr>\n",
       "    <tr>\n",
       "      <th>4</th>\n",
       "      <td>Can a function be simplifed using a lambda function?</td>\n",
       "      <td>lambda function</td>\n",
       "      <td>https://realpython.com/python-lambda/\\nGenerally more conside way or writing a function</td>\n",
       "    </tr>\n",
       "    <tr>\n",
       "      <th>5</th>\n",
       "      <td>Has a custome function been applied that may be available in an optimised package like numpy or pandas</td>\n",
       "      <td>numpy /pandas packages</td>\n",
       "      <td>Speed / scalability / test coverage</td>\n",
       "    </tr>\n",
       "    <tr>\n",
       "      <th>6</th>\n",
       "      <td>Can enumerate be used if a number is being iterated through a loop\\ne.g\\nlist = ['egg', 'spam', 'ham']\\nfor i in range(len(list)):\\n     print( i, list[i])</td>\n",
       "      <td>enumerate()</td>\n",
       "      <td>readability</td>\n",
       "    </tr>\n",
       "    <tr>\n",
       "      <th>7</th>\n",
       "      <td>Can appending to a loop be simplied using a list comprehension</td>\n",
       "      <td>list comprehension</td>\n",
       "      <td>https://towardsdatascience.com/all-about-python-list-comprehension-14dd979ec0d1</td>\n",
       "    </tr>\n",
       "    <tr>\n",
       "      <th>8</th>\n",
       "      <td>Comparing two similar strings in a clunky manor</td>\n",
       "      <td>fuzzy matching</td>\n",
       "      <td>https://towardsdatascience.com/fuzzy-string-matching-in-python-68f240d910fe</td>\n",
       "    </tr>\n",
       "    <tr>\n",
       "      <th>9</th>\n",
       "      <td>Does a line of code need a comment?</td>\n",
       "      <td>comment</td>\n",
       "      <td>NaN</td>\n",
       "    </tr>\n",
       "    <tr>\n",
       "      <th>10</th>\n",
       "      <td>Are there too many comments</td>\n",
       "      <td>Would a doc string be more appropriate</td>\n",
       "      <td>NaN</td>\n",
       "    </tr>\n",
       "    <tr>\n",
       "      <th>11</th>\n",
       "      <td>Can you make a guess at what the function does from the name?</td>\n",
       "      <td>Would it be appropriate to rename the function to a human readable name</td>\n",
       "      <td>old name = threshold\\nnew_name =  threshold_currency_by_value\\napplication\\nthresolded_values = threshold_currency_by_value(currency, value = 50)</td>\n",
       "    </tr>\n",
       "    <tr>\n",
       "      <th>12</th>\n",
       "      <td>Does a variable name make sense without a comment?</td>\n",
       "      <td>Can the variable take a human readable name</td>\n",
       "      <td>a = 20, b = 50\\nthreshold_for_purchashing = 20\\nthreshold_for_selling = 50</td>\n",
       "    </tr>\n",
       "    <tr>\n",
       "      <th>13</th>\n",
       "      <td>Is a big function solving more than one problem at a time</td>\n",
       "      <td>Break the function down into smaller functions each that does one thing. Then combine these smaller functions together</td>\n",
       "      <td>NaN</td>\n",
       "    </tr>\n",
       "    <tr>\n",
       "      <th>14</th>\n",
       "      <td>Is there version control on this code?</td>\n",
       "      <td>NaN</td>\n",
       "      <td>• If not, can we comment out old version (beginner)\\n•If not can we have a naming convention to keep older code(beginner)\\n• Can we use git to store incramental changes to our code(advanced)</td>\n",
       "    </tr>\n",
       "    <tr>\n",
       "      <th>15</th>\n",
       "      <td>Are lists and dictionaries being manually unpacked?</td>\n",
       "      <td>Use * or **</td>\n",
       "      <td>https://treyhunner.com/2018/10/asterisks-in-python-what-they-are-and-how-to-use-them/</td>\n",
       "    </tr>\n",
       "    <tr>\n",
       "      <th>16</th>\n",
       "      <td>Are you iterating through multiple lists</td>\n",
       "      <td>Use a zip function</td>\n",
       "      <td>NaN</td>\n",
       "    </tr>\n",
       "    <tr>\n",
       "      <th>17</th>\n",
       "      <td>Is there a clunky implimentation of finding common elements</td>\n",
       "      <td>use set</td>\n",
       "      <td>NaN</td>\n",
       "    </tr>\n",
       "    <tr>\n",
       "      <th>18</th>\n",
       "      <td>Unpacking a</td>\n",
       "      <td>NaN</td>\n",
       "      <td>NaN</td>\n",
       "    </tr>\n",
       "    <tr>\n",
       "      <th>19</th>\n",
       "      <td>Does the formatting of the code look correct?\\nIs there sensible use of white space?\\nAre packages coming in in the correct order?</td>\n",
       "      <td>Introduce learner to PEP 8</td>\n",
       "      <td>Suggest they look at auto linters for their IDE or study PEP 8 guidance</td>\n",
       "    </tr>\n",
       "    <tr>\n",
       "      <th>20</th>\n",
       "      <td>Type hints -&gt;</td>\n",
       "      <td>NaN</td>\n",
       "      <td>NaN</td>\n",
       "    </tr>\n",
       "    <tr>\n",
       "      <th>21</th>\n",
       "      <td>Integration or Unit tests</td>\n",
       "      <td>NaN</td>\n",
       "      <td>NaN</td>\n",
       "    </tr>\n",
       "    <tr>\n",
       "      <th>22</th>\n",
       "      <td>Add a class?</td>\n",
       "      <td>returning a function</td>\n",
       "      <td>NaN</td>\n",
       "    </tr>\n",
       "  </tbody>\n",
       "</table>\n",
       "</div>"
      ],
      "text/plain": [
       "                                                                                                                                                     What to look for  / Sympton  \\\n",
       "0   Use of the os package for paths . Especially if you see glob and os                                                                                                            \n",
       "1   A calulation being repeated in a for loop. Example\\nfor I in list:\\n    square = I * I\\n    print(square)                                                                      \n",
       "2   A filter is being applied in a for loop\\ne.g \\nnumbers = [1,2,3,4,5]\\neven_list = []\\nfor num in numbers:\\n     if num % 2 ==0:\\n          even_list.append(num)\\n             \n",
       "3   Values are being sequentully calculated and combined within a for loop\\ne.g\\nnumbers = [1,2,3,4]\\ncum_sum = 0\\nfor num in numbers:\\n    cum_sum += num                         \n",
       "4   Can a function be simplifed using a lambda function?                                                                                                                           \n",
       "5   Has a custome function been applied that may be available in an optimised package like numpy or pandas                                                                         \n",
       "6   Can enumerate be used if a number is being iterated through a loop\\ne.g\\nlist = ['egg', 'spam', 'ham']\\nfor i in range(len(list)):\\n     print( i, list[i])                    \n",
       "7   Can appending to a loop be simplied using a list comprehension                                                                                                                 \n",
       "8   Comparing two similar strings in a clunky manor                                                                                                                                \n",
       "9   Does a line of code need a comment?                                                                                                                                            \n",
       "10  Are there too many comments                                                                                                                                                    \n",
       "11  Can you make a guess at what the function does from the name?                                                                                                                  \n",
       "12  Does a variable name make sense without a comment?                                                                                                                             \n",
       "13  Is a big function solving more than one problem at a time                                                                                                                      \n",
       "14  Is there version control on this code?                                                                                                                                         \n",
       "15  Are lists and dictionaries being manually unpacked?                                                                                                                            \n",
       "16  Are you iterating through multiple lists                                                                                                                                       \n",
       "17  Is there a clunky implimentation of finding common elements                                                                                                                    \n",
       "18  Unpacking a                                                                                                                                                                    \n",
       "19  Does the formatting of the code look correct?\\nIs there sensible use of white space?\\nAre packages coming in in the correct order?                                             \n",
       "20  Type hints ->                                                                                                                                                                  \n",
       "21  Integration or Unit tests                                                                                                                                                      \n",
       "22  Add a class?                                                                                                                                                                   \n",
       "\n",
       "                                                                                                    How can it be improved  \\\n",
       "0   Use the pathlib module                                                                                                   \n",
       "1   Use the map function                                                                                                     \n",
       "2   Use the filter functions                                                                                                 \n",
       "3   use of reduce from functools                                                                                             \n",
       "4   lambda function                                                                                                          \n",
       "5   numpy /pandas packages                                                                                                   \n",
       "6   enumerate()                                                                                                              \n",
       "7   list comprehension                                                                                                       \n",
       "8   fuzzy matching                                                                                                           \n",
       "9   comment                                                                                                                  \n",
       "10  Would a doc string be more appropriate                                                                                   \n",
       "11  Would it be appropriate to rename the function to a human readable name                                                  \n",
       "12  Can the variable take a human readable name                                                                              \n",
       "13  Break the function down into smaller functions each that does one thing. Then combine these smaller functions together   \n",
       "14  NaN                                                                                                                      \n",
       "15  Use * or **                                                                                                              \n",
       "16  Use a zip function                                                                                                       \n",
       "17  use set                                                                                                                  \n",
       "18  NaN                                                                                                                      \n",
       "19  Introduce learner to PEP 8                                                                                               \n",
       "20  NaN                                                                                                                      \n",
       "21  NaN                                                                                                                      \n",
       "22  returning a function                                                                                                     \n",
       "\n",
       "                                                                                                                                                                                                                                                                                                                                                                                                                  Explanation / links   \n",
       "0   •https://towardsdatascience.com/why-you-should-start-using-pathlib-as-an-alternative-to-the-os-module-d9eccd994745\\n• https://twitter.com/treyhunner/status/1527393465344081920?s=12&t=3PFPPcMJvAJfXJnFFL5HWg\\n                                                                                                                                                                                                                     \n",
       "1   Map in Python :\\n\\nMap is used to compute a function for different values ‘in a single line of code ‘ .\\nIt takes two arguments, first is function name, that is defined already and the other is list, tuple or any other iterables .\\nIt is a way of applying same function for multiple numbers .\\nIt generates a map object at a particular location .\\nIt works fast when we call an already defined function on the elements  \n",
       "2   The filter() function extracts elements from an iterable (list, tuple etc.) for which a function returns True.                                                                                                                                                                                                                                                                                                                      \n",
       "3   https://realpython.com/python-reduce-function/#:~:text=In%20general%2C%20Python's%20reduce(),still%20is%20in%20Python%202.                                                                                                                                                                                                                                                                                                          \n",
       "4   https://realpython.com/python-lambda/\\nGenerally more conside way or writing a function                                                                                                                                                                                                                                                                                                                                             \n",
       "5   Speed / scalability / test coverage                                                                                                                                                                                                                                                                                                                                                                                                 \n",
       "6   readability                                                                                                                                                                                                                                                                                                                                                                                                                         \n",
       "7   https://towardsdatascience.com/all-about-python-list-comprehension-14dd979ec0d1                                                                                                                                                                                                                                                                                                                                                     \n",
       "8   https://towardsdatascience.com/fuzzy-string-matching-in-python-68f240d910fe                                                                                                                                                                                                                                                                                                                                                         \n",
       "9   NaN                                                                                                                                                                                                                                                                                                                                                                                                                                 \n",
       "10  NaN                                                                                                                                                                                                                                                                                                                                                                                                                                 \n",
       "11  old name = threshold\\nnew_name =  threshold_currency_by_value\\napplication\\nthresolded_values = threshold_currency_by_value(currency, value = 50)                                                                                                                                                                                                                                                                                   \n",
       "12  a = 20, b = 50\\nthreshold_for_purchashing = 20\\nthreshold_for_selling = 50                                                                                                                                                                                                                                                                                                                                                          \n",
       "13  NaN                                                                                                                                                                                                                                                                                                                                                                                                                                 \n",
       "14  • If not, can we comment out old version (beginner)\\n•If not can we have a naming convention to keep older code(beginner)\\n• Can we use git to store incramental changes to our code(advanced)                                                                                                                                                                                                                                      \n",
       "15  https://treyhunner.com/2018/10/asterisks-in-python-what-they-are-and-how-to-use-them/                                                                                                                                                                                                                                                                                                                                               \n",
       "16  NaN                                                                                                                                                                                                                                                                                                                                                                                                                                 \n",
       "17  NaN                                                                                                                                                                                                                                                                                                                                                                                                                                 \n",
       "18  NaN                                                                                                                                                                                                                                                                                                                                                                                                                                 \n",
       "19  Suggest they look at auto linters for their IDE or study PEP 8 guidance                                                                                                                                                                                                                                                                                                                                                             \n",
       "20  NaN                                                                                                                                                                                                                                                                                                                                                                                                                                 \n",
       "21  NaN                                                                                                                                                                                                                                                                                                                                                                                                                                 \n",
       "22  NaN                                                                                                                                                                                                                                                                                                                                                                                                                                 "
      ]
     },
     "execution_count": 1,
     "metadata": {},
     "output_type": "execute_result"
    }
   ],
   "source": [
    "import pandas as pd\n",
    "pd.set_option('display.max_colwidth', 0)\n",
    "data = pd.read_excel('Improving_python_scripts.xlsx')\n",
    "data.drop(columns = ['Jupyter notebook'])"
   ]
  },
  {
   "cell_type": "markdown",
   "id": "54232615",
   "metadata": {},
   "source": [
    "<a id='Contents'></a>\n",
    "# Contents\n",
    "\n",
    "- [1 Python: Pathlib V OS Package](#pathlib_os)\n",
    "- [2 Python: Using Map funciton instead of a for loop](#map)\n",
    "- [3 Python: Reduce function Instead of  forloop](#reduce)\n",
    "- [4 Python: Lambda Function](#lambda)\n",
    "- [5 Python: Enumerate Function](#enumerate)\n",
    "- [6 Python: List Comprehension](#list_comp)\n",
    "- [7 Python: Fuzzy Matching](#fuzzy)\n",
    "- [8 Python: Unpacking Lists](#unpack)\n",
    "- [9 Python: Zip](#unpack)\n",
    "- [10 Python: Sets](#unpack)\n",
    "\n",
    "</b>"
   ]
  },
  {
   "cell_type": "markdown",
   "id": "95ac893b",
   "metadata": {},
   "source": [
    "<a id=\"pathlib_os\"></a>\n",
    "# 1 Python: Pathlib V OS Package\n",
    "[Back to Contents](#Contents)\n",
    "\n"
   ]
  },
  {
   "cell_type": "code",
   "execution_count": null,
   "id": "d0ca650e",
   "metadata": {},
   "outputs": [],
   "source": []
  },
  {
   "cell_type": "markdown",
   "id": "e49a2691",
   "metadata": {},
   "source": [
    "Creating a folder "
   ]
  },
  {
   "cell_type": "code",
   "execution_count": 1,
   "id": "a7599a2b",
   "metadata": {},
   "outputs": [
    {
     "data": {
      "text/plain": [
       "True"
      ]
     },
     "execution_count": 1,
     "metadata": {},
     "output_type": "execute_result"
    }
   ],
   "source": [
    "from pathlib import Path\n",
    "\n",
    "random_folder = Path(\"random_folder\")\n",
    "\n",
    "random_folder.exists()\n",
    "# False\n",
    "\n",
    "random_folder.mkdir(exist_ok=True)\n",
    "\n",
    "random_folder.exists()\n",
    "# True"
   ]
  },
  {
   "cell_type": "markdown",
   "id": "38a0bf4b",
   "metadata": {},
   "source": [
    "Creating a file"
   ]
  },
  {
   "cell_type": "code",
   "execution_count": 2,
   "id": "ff7cbcbd",
   "metadata": {},
   "outputs": [
    {
     "data": {
      "text/plain": [
       "True"
      ]
     },
     "execution_count": 2,
     "metadata": {},
     "output_type": "execute_result"
    }
   ],
   "source": [
    "from pathlib import Path\n",
    "\n",
    "random_file = Path(\"random_file.txt\")\n",
    "\n",
    "random_file.exists()\n",
    "# False\n",
    "\n",
    "random_file.touch()\n",
    "\n",
    "random_file.exists()\n",
    "\n",
    "# True"
   ]
  },
  {
   "cell_type": "markdown",
   "id": "b368ffdc",
   "metadata": {},
   "source": [
    "OS alternative"
   ]
  },
  {
   "cell_type": "code",
   "execution_count": 3,
   "id": "40c67ba1",
   "metadata": {},
   "outputs": [],
   "source": [
    "import os\n",
    "\n",
    "random_folder = os.path.join(\"random_folder\")\n",
    "\n",
    "os.makedirs(random_folder, exist_ok=True)"
   ]
  },
  {
   "cell_type": "markdown",
   "id": "14fdc67a",
   "metadata": {},
   "source": [
    "Pathlib navigates hierarchy "
   ]
  },
  {
   "cell_type": "code",
   "execution_count": 4,
   "id": "d7df7338",
   "metadata": {},
   "outputs": [
    {
     "data": {
      "text/plain": [
       "WindowsPath('/')"
      ]
     },
     "execution_count": 4,
     "metadata": {},
     "output_type": "execute_result"
    }
   ],
   "source": [
    "from pathlib import Path\n",
    "\n",
    "path = Path(\"/Users/ahmed.besbes/Downloads/\")\n",
    "\n",
    "path\n",
    "# PosixPath('/Users/ahmed.besbes/Downloads')\n",
    "\n",
    "path.parent\n",
    "# PosixPath('/Users/ahmed.besbes')\n",
    "\n",
    "path.parent.parent\n",
    "# PosixPath('/Users')\n",
    "\n",
    "path.parent.parent.parent\n",
    "# PosixPath('/')"
   ]
  },
  {
   "cell_type": "markdown",
   "id": "40d9fa3c",
   "metadata": {},
   "source": [
    "Path has an import glob method that previously you had to import along with os"
   ]
  },
  {
   "cell_type": "code",
   "execution_count": 5,
   "id": "b7cc759d",
   "metadata": {},
   "outputs": [
    {
     "data": {
      "text/plain": [
       "35"
      ]
     },
     "execution_count": 5,
     "metadata": {},
     "output_type": "execute_result"
    }
   ],
   "source": [
    "from pathlib import Path\n",
    "\n",
    "# A quite large folder indeed!\n",
    "path = Path(r\"C:\\Users\\PeterBaksh\\OneDrive - Corndel Ltd\\Documents\\Python Scripts\")\n",
    "\n",
    "python_files = path.rglob(\"**/*.py\")\n",
    "\n",
    "next(python_files)\n",
    "# PosixPath('/Users/ahmed.besbes/anaconda3/bin/rst2xetex.py')\n",
    "\n",
    "next(python_files)\n",
    "# PosixPath('/Users/ahmed.besbes/anaconda3/bin/rst2latex.py')\n",
    "\n",
    "next(python_files)\n",
    "# PosixPath('/Users/ahmed.besbes/anaconda3/bin/rst2odt_prepstyles.py')\n",
    "\n",
    "...\n",
    "\n",
    "len(list(python_files))\n",
    "# 67481"
   ]
  },
  {
   "cell_type": "markdown",
   "id": "7fd7c85d",
   "metadata": {},
   "source": [
    "Methods using Pathlib \n",
    "\n",
    ".exists() : To check if the path really exists on the filesystem\n",
    "\n",
    ".is_dir() : To check if the path corresponds to a directory\n",
    "\n",
    ".is_file() : To check if the path corresponds to a file\n",
    "\n",
    ".is_absolute() : To check if the path is absolute\n",
    "\n",
    ".chmod() : To change the file mode and permissions\n",
    "\n",
    "is_mount() : To check if the path is a mount point\n",
    "\n",
    ".suffix : Get the extension of a file"
   ]
  },
  {
   "cell_type": "markdown",
   "id": "250b8463",
   "metadata": {},
   "source": [
    "\n",
    "<a id=\"map\"></a>\n",
    "# 2 Python: Using Map funciton instead of a for loop\n",
    "[Back to Contents](#Contents)"
   ]
  },
  {
   "cell_type": "markdown",
   "id": "202e810f",
   "metadata": {},
   "source": [
    "Syntax = map(function name, iterable )"
   ]
  },
  {
   "cell_type": "code",
   "execution_count": 11,
   "id": "75b713d0",
   "metadata": {},
   "outputs": [
    {
     "name": "stdout",
     "output_type": "stream",
     "text": [
      "303 ns ± 9.09 ns per loop (mean ± std. dev. of 7 runs, 1000000 loops each)\n"
     ]
    }
   ],
   "source": [
    "%%timeit\n",
    "listt = [0, -1, 3, 4.5, 99, .08]\n",
    "for i in listt :\n",
    "    square = i * i"
   ]
  },
  {
   "cell_type": "code",
   "execution_count": 9,
   "id": "f4d091f6",
   "metadata": {},
   "outputs": [],
   "source": [
    "def squareNum (a) :\n",
    "    return a * a  "
   ]
  },
  {
   "cell_type": "code",
   "execution_count": 13,
   "id": "6eb94502",
   "metadata": {},
   "outputs": [
    {
     "name": "stdout",
     "output_type": "stream",
     "text": [
      "208 ns ± 6.98 ns per loop (mean ± std. dev. of 7 runs, 1000000 loops each)\n"
     ]
    }
   ],
   "source": [
    "%%timeit\n",
    "listt = [0, -1, 3, 4.5, 99, .08]\n",
    "x = map(squareNum, listt)  "
   ]
  },
  {
   "cell_type": "markdown",
   "id": "78d6f56d",
   "metadata": {},
   "source": [
    "## Filter function instead of for loop "
   ]
  },
  {
   "cell_type": "markdown",
   "id": "c1243f14",
   "metadata": {},
   "source": [
    "Use a for loop to filter out even numbers"
   ]
  },
  {
   "cell_type": "code",
   "execution_count": 2,
   "id": "40f37079",
   "metadata": {},
   "outputs": [],
   "source": [
    "numbers = range(10000)"
   ]
  },
  {
   "cell_type": "code",
   "execution_count": 3,
   "id": "545e01ff",
   "metadata": {},
   "outputs": [
    {
     "name": "stdout",
     "output_type": "stream",
     "text": [
      "547 µs ± 21.7 µs per loop (mean ± std. dev. of 7 runs, 1,000 loops each)\n"
     ]
    }
   ],
   "source": [
    "%%timeit\n",
    "even = []\n",
    "for num in numbers:\n",
    "    if num % 2 == 0:\n",
    "        even.append(num)"
   ]
  },
  {
   "cell_type": "code",
   "execution_count": 4,
   "id": "913922af",
   "metadata": {},
   "outputs": [
    {
     "name": "stdout",
     "output_type": "stream",
     "text": [
      "180 ns ± 12.4 ns per loop (mean ± std. dev. of 7 runs, 1,000,000 loops each)\n"
     ]
    }
   ],
   "source": [
    "%%timeit\n",
    "\n",
    "def even_numbers(num):\n",
    "    if num % 2 == 0:\n",
    "        return True\n",
    "even = filter(even_numbers, numbers)\n"
   ]
  },
  {
   "cell_type": "markdown",
   "id": "53ef8cc5",
   "metadata": {},
   "source": [
    "\n",
    "<a id=\"reduce\"></a>\n",
    "# 3 Python: Reduce function Instead of  forloop\n",
    "[Back to Contents](#Contents)"
   ]
  },
  {
   "cell_type": "markdown",
   "id": "03bffc74",
   "metadata": {},
   "source": [
    "Reduce takes a function whose value is applied cummulatively in an interative manor. It negates the need for a for loop\n",
    "\n"
   ]
  },
  {
   "cell_type": "code",
   "execution_count": 5,
   "id": "e4c3e9b0",
   "metadata": {},
   "outputs": [],
   "source": [
    "from functools import reduce\n",
    "original_numbers = [1, 1, 3, 6]\n"
   ]
  },
  {
   "cell_type": "code",
   "execution_count": 6,
   "id": "50252683",
   "metadata": {},
   "outputs": [],
   "source": [
    "def add_numbers(a, b):\n",
    "    return a + b\n",
    "\n",
    "def multiply_numbers(a, b):\n",
    "    return a*b"
   ]
  },
  {
   "cell_type": "code",
   "execution_count": 7,
   "id": "ef1b4665",
   "metadata": {},
   "outputs": [
    {
     "name": "stdout",
     "output_type": "stream",
     "text": [
      "11\n"
     ]
    }
   ],
   "source": [
    "cum_sum = 0\n",
    "for num in original_numbers:\n",
    "    cum_sum += num\n",
    "print(cum_sum) #  result of applying a transformation and adding it to the previous result"
   ]
  },
  {
   "cell_type": "code",
   "execution_count": 8,
   "id": "03aa6115",
   "metadata": {},
   "outputs": [
    {
     "data": {
      "text/plain": [
       "11"
      ]
     },
     "execution_count": 8,
     "metadata": {},
     "output_type": "execute_result"
    }
   ],
   "source": [
    "cum_sum_reduce = reduce(add_numbers, original_numbers) # using the reduce function\n",
    "cum_sum_reduce"
   ]
  },
  {
   "cell_type": "markdown",
   "id": "d1d70d1c",
   "metadata": {},
   "source": [
    "Second example"
   ]
  },
  {
   "cell_type": "code",
   "execution_count": 9,
   "id": "ccb61fc7",
   "metadata": {},
   "outputs": [
    {
     "data": {
      "text/plain": [
       "18"
      ]
     },
     "execution_count": 9,
     "metadata": {},
     "output_type": "execute_result"
    }
   ],
   "source": [
    "from operator import mul\n",
    "reduce(mul, original_numbers)"
   ]
  },
  {
   "cell_type": "code",
   "execution_count": 10,
   "id": "e394e218",
   "metadata": {},
   "outputs": [
    {
     "data": {
      "text/plain": [
       "18"
      ]
     },
     "execution_count": 10,
     "metadata": {},
     "output_type": "execute_result"
    }
   ],
   "source": [
    "# the alternative loop would be\n",
    "\n",
    "for i in range(len(original_numbers)):\n",
    "    if i == 0 :\n",
    "        new_num = original_numbers[i]\n",
    "    else:\n",
    "        new_num = new_num * original_numbers[i]\n",
    "new_num    "
   ]
  },
  {
   "cell_type": "markdown",
   "id": "f036b8ad",
   "metadata": {},
   "source": [
    "Third Example"
   ]
  },
  {
   "cell_type": "code",
   "execution_count": 13,
   "id": "012769d5",
   "metadata": {},
   "outputs": [],
   "source": [
    "numbers = [3, 5, 2, 4, 7, 1]"
   ]
  },
  {
   "cell_type": "code",
   "execution_count": 15,
   "id": "aa7a7b37",
   "metadata": {},
   "outputs": [
    {
     "data": {
      "text/plain": [
       "1"
      ]
     },
     "execution_count": 15,
     "metadata": {},
     "output_type": "execute_result"
    }
   ],
   "source": [
    "min_value, *rest = numbers # rest collects all the values in a llist apart from the first one \"the rest of \"\n",
    "for num in rest:\n",
    "    if num < min_value:\n",
    "        min_value = num\n",
    "min_value"
   ]
  },
  {
   "cell_type": "code",
   "execution_count": 16,
   "id": "2c2e684f",
   "metadata": {},
   "outputs": [],
   "source": [
    "# Minimum\n",
    "def my_min_func(a, b):\n",
    "    return a if a < b else b\n",
    "\n",
    "min_value_reduce = reduce(my_min_func, numbers)\n"
   ]
  },
  {
   "cell_type": "markdown",
   "id": "e4f4ba5c",
   "metadata": {},
   "source": [
    "\n",
    "<a id=\"lambda\"></a>\n",
    "# 4 Python: Lambda Function \n",
    "[Back to Contents](#Contents)"
   ]
  },
  {
   "cell_type": "code",
   "execution_count": 17,
   "id": "37522751",
   "metadata": {},
   "outputs": [
    {
     "data": {
      "text/plain": [
       "11"
      ]
     },
     "execution_count": 17,
     "metadata": {},
     "output_type": "execute_result"
    }
   ],
   "source": [
    "# traditional function approach\n",
    "def add_one(x):\n",
    "    return x +1\n",
    "\n",
    "add_one(10)"
   ]
  },
  {
   "cell_type": "code",
   "execution_count": 18,
   "id": "9ef24702",
   "metadata": {},
   "outputs": [
    {
     "data": {
      "text/plain": [
       "11"
      ]
     },
     "execution_count": 18,
     "metadata": {},
     "output_type": "execute_result"
    }
   ],
   "source": [
    "# lambda format\n",
    "add_one_lambda = lambda x: x+1\n",
    "add_one_lambda(10)"
   ]
  },
  {
   "cell_type": "code",
   "execution_count": 19,
   "id": "b172b1b7",
   "metadata": {},
   "outputs": [
    {
     "data": {
      "text/plain": [
       "20"
      ]
     },
     "execution_count": 19,
     "metadata": {},
     "output_type": "execute_result"
    }
   ],
   "source": [
    "# traditional format\n",
    "def multiply(x, y):\n",
    "    return x * y\n",
    "\n",
    "multiply (5 , 4)"
   ]
  },
  {
   "cell_type": "code",
   "execution_count": 20,
   "id": "3f3f2206",
   "metadata": {},
   "outputs": [
    {
     "data": {
      "text/plain": [
       "20"
      ]
     },
     "execution_count": 20,
     "metadata": {},
     "output_type": "execute_result"
    }
   ],
   "source": [
    "# lambda format\n",
    "multiply_lambda = lambda x, y : x * y\n",
    "multiply_lambda(4, 5)"
   ]
  },
  {
   "cell_type": "markdown",
   "id": "9b9c51db",
   "metadata": {},
   "source": [
    "Invoke a Lambda function immediately\n"
   ]
  },
  {
   "cell_type": "code",
   "execution_count": 21,
   "id": "50a334c3",
   "metadata": {},
   "outputs": [
    {
     "data": {
      "text/plain": [
       "20"
      ]
     },
     "execution_count": 21,
     "metadata": {},
     "output_type": "execute_result"
    }
   ],
   "source": [
    "(lambda x, y: x * y) (4, 5)"
   ]
  },
  {
   "cell_type": "code",
   "execution_count": 22,
   "id": "b4a1cd5f",
   "metadata": {},
   "outputs": [
    {
     "data": {
      "text/plain": [
       "6"
      ]
     },
     "execution_count": 22,
     "metadata": {},
     "output_type": "execute_result"
    }
   ],
   "source": [
    "(lambda x, y, z: x + y + z)(1, 2, 3)"
   ]
  },
  {
   "cell_type": "markdown",
   "id": "eab869a2",
   "metadata": {},
   "source": [
    "Use with args and kwargs"
   ]
  },
  {
   "cell_type": "code",
   "execution_count": 23,
   "id": "3e01d27c",
   "metadata": {},
   "outputs": [
    {
     "data": {
      "text/plain": [
       "6"
      ]
     },
     "execution_count": 23,
     "metadata": {},
     "output_type": "execute_result"
    }
   ],
   "source": [
    "(lambda x, y, z=3: x + y + z)(1, y=2)\n",
    "\n",
    "(lambda *args: sum(args))(1,2,3)\n",
    "\n",
    "(lambda **kwargs: sum(kwargs.values()))(one=1, two=2, three=3)\n",
    "\n",
    "(lambda x, *, y=0, z=0: x + y + z)(1, y=2, z=3)"
   ]
  },
  {
   "cell_type": "markdown",
   "id": "1050ed95",
   "metadata": {},
   "source": [
    " Applying lambda function with a decorator \n",
    " \n",
    " The function trace takes in a funciton and applies a wrapper around that function where it prints the funciton name, takes the arguments provided to the function and any kwargs\n",
    " \n",
    " "
   ]
  },
  {
   "cell_type": "code",
   "execution_count": 27,
   "id": "e103fe1e",
   "metadata": {},
   "outputs": [
    {
     "name": "stdout",
     "output_type": "stream",
     "text": [
      "[TRACE] func: add_two, args: (3,), kwargs: {'test': 9}\n"
     ]
    },
    {
     "data": {
      "text/plain": [
       "5"
      ]
     },
     "execution_count": 27,
     "metadata": {},
     "output_type": "execute_result"
    }
   ],
   "source": [
    "# Defining a decorator\n",
    "def trace(f):\n",
    "    def wrap(*args, **kwargs):\n",
    "        print(f\"[TRACE] func: {f.__name__}, args: {args}, kwargs: {kwargs}\")\n",
    "        return f(*args, **kwargs)\n",
    "\n",
    "    return wrap\n",
    "# Applying decorator to a function\n",
    "@trace\n",
    "def add_two(x, test = 10):\n",
    "    return x + 2\n",
    "\n",
    "# Calling the decorated function\n",
    "add_two(3, test = 9)\n"
   ]
  },
  {
   "cell_type": "code",
   "execution_count": 28,
   "id": "fb2ac528",
   "metadata": {},
   "outputs": [
    {
     "name": "stdout",
     "output_type": "stream",
     "text": [
      "[TRACE] func: <lambda>, args: (3,), kwargs: {}\n",
      "9\n"
     ]
    }
   ],
   "source": [
    "print((trace(lambda x: x ** 2))(3))"
   ]
  },
  {
   "cell_type": "markdown",
   "id": "46f1f285",
   "metadata": {},
   "source": [
    "<a id=\"enummerate\"></a>\n",
    "# 5 Python: Enumerate () \n",
    "[Back to Contents](#Contents)"
   ]
  },
  {
   "cell_type": "code",
   "execution_count": 29,
   "id": "04b86ccf",
   "metadata": {},
   "outputs": [
    {
     "name": "stdout",
     "output_type": "stream",
     "text": [
      "first_element: 0, value: i\n",
      "first_element: 1, value: work\n",
      "first_element: 2, value: forcorndel\n"
     ]
    }
   ],
   "source": [
    "example_list = ['i', 'work', 'for' 'corndel']\n",
    "for i in range(len(example_list)):\n",
    "    print('first_element: {}, value: {}'.format(i, example_list[i]))"
   ]
  },
  {
   "cell_type": "code",
   "execution_count": 30,
   "id": "cc57c7c6",
   "metadata": {},
   "outputs": [
    {
     "name": "stdout",
     "output_type": "stream",
     "text": [
      "first_element: 0, value: i\n",
      "first_element: 1, value: work\n",
      "first_element: 2, value: forcorndel\n"
     ]
    }
   ],
   "source": [
    "for i, value in enumerate(example_list):\n",
    "    print('first_element: {}, value: {}'.format(i, value))"
   ]
  },
  {
   "cell_type": "markdown",
   "id": "6bd58529",
   "metadata": {},
   "source": [
    "<a id=\"list_comp\"></a>\n",
    "# 6 Python: List Comprehension \n",
    "[Back to Contents](#Contents)"
   ]
  },
  {
   "cell_type": "code",
   "execution_count": 31,
   "id": "e49016a5",
   "metadata": {},
   "outputs": [],
   "source": [
    "import numpy as np\n",
    "data = np.arange(-100, 100)\n"
   ]
  },
  {
   "cell_type": "code",
   "execution_count": 32,
   "id": "bbbf1248",
   "metadata": {},
   "outputs": [],
   "source": [
    "#  using a for loop \n",
    "result = []\n",
    "for num in data:\n",
    "    if (num > 50) and (num < 70):\n",
    "        result.append(num **2)"
   ]
  },
  {
   "cell_type": "code",
   "execution_count": 33,
   "id": "aee0d5dd",
   "metadata": {},
   "outputs": [],
   "source": [
    "# using a list comprhenesion\n",
    "result_list = [ num ** 2 for num in data if (num > 50) and (num < 70)]"
   ]
  },
  {
   "cell_type": "code",
   "execution_count": 35,
   "id": "254e6420",
   "metadata": {},
   "outputs": [
    {
     "data": {
      "text/plain": [
       "True"
      ]
     },
     "execution_count": 35,
     "metadata": {},
     "output_type": "execute_result"
    }
   ],
   "source": [
    "result == result_list"
   ]
  },
  {
   "cell_type": "markdown",
   "id": "d07359b8",
   "metadata": {},
   "source": [
    "<a id=\"fuzzy\"></a>\n",
    "# 7 Python: Fuzzy matching\n",
    "[Back to Contents](#Contents)"
   ]
  },
  {
   "cell_type": "code",
   "execution_count": 1,
   "id": "c10b96c2",
   "metadata": {},
   "outputs": [
    {
     "name": "stdout",
     "output_type": "stream",
     "text": [
      "Requirement already satisfied: fuzzywuzzy in c:\\users\\peterbaksh\\anaconda3\\lib\\site-packages (0.18.0)\n"
     ]
    },
    {
     "name": "stderr",
     "output_type": "stream",
     "text": [
      "WARNING: Ignoring invalid distribution -illow (c:\\users\\peterbaksh\\anaconda3\\lib\\site-packages)\n",
      "WARNING: Ignoring invalid distribution -atplotlib (c:\\users\\peterbaksh\\anaconda3\\lib\\site-packages)\n",
      "WARNING: Ignoring invalid distribution -illow (c:\\users\\peterbaksh\\anaconda3\\lib\\site-packages)\n",
      "WARNING: Ignoring invalid distribution -atplotlib (c:\\users\\peterbaksh\\anaconda3\\lib\\site-packages)\n",
      "WARNING: Ignoring invalid distribution -illow (c:\\users\\peterbaksh\\anaconda3\\lib\\site-packages)\n",
      "WARNING: Ignoring invalid distribution -atplotlib (c:\\users\\peterbaksh\\anaconda3\\lib\\site-packages)\n",
      "WARNING: Ignoring invalid distribution -illow (c:\\users\\peterbaksh\\anaconda3\\lib\\site-packages)\n",
      "WARNING: Ignoring invalid distribution -atplotlib (c:\\users\\peterbaksh\\anaconda3\\lib\\site-packages)\n",
      "WARNING: Ignoring invalid distribution -illow (c:\\users\\peterbaksh\\anaconda3\\lib\\site-packages)\n",
      "WARNING: Ignoring invalid distribution -atplotlib (c:\\users\\peterbaksh\\anaconda3\\lib\\site-packages)\n",
      "WARNING: Ignoring invalid distribution -illow (c:\\users\\peterbaksh\\anaconda3\\lib\\site-packages)\n",
      "WARNING: Ignoring invalid distribution -atplotlib (c:\\users\\peterbaksh\\anaconda3\\lib\\site-packages)\n"
     ]
    }
   ],
   "source": [
    "!pip3 install fuzzywuzzy"
   ]
  },
  {
   "cell_type": "code",
   "execution_count": 4,
   "id": "b53bbeb0",
   "metadata": {},
   "outputs": [
    {
     "data": {
      "text/plain": [
       "80"
      ]
     },
     "execution_count": 4,
     "metadata": {},
     "output_type": "execute_result"
    }
   ],
   "source": [
    "from fuzzywuzzy import fuzz\n",
    "fuzz.ratio(\"Catherine M Gitau\",\"Catherine Gitau\")\n",
    "fuzz.partial_ratio(\"Catherine M. Gitau\",\"Catherine Gitau\")\n"
   ]
  },
  {
   "cell_type": "code",
   "execution_count": 3,
   "id": "7fdf0490",
   "metadata": {},
   "outputs": [
    {
     "name": "stdout",
     "output_type": "stream",
     "text": [
      "Target word :london \n",
      "Similar Words\n",
      "London LONDON Lndon Landon ldndon\n"
     ]
    }
   ],
   "source": [
    "city_version = ['London', 'LONDON', 'Lndon', 'Landon', 'ldndon', 'france', 'auz']\n",
    "global target  \n",
    "target = 'london'\n",
    "def apply_fuzz( trial):\n",
    "    if fuzz.ratio(target, trial.lower()) > 50:\n",
    "        return True\n",
    "\n",
    "similar_words = list(filter(apply_fuzz, city_version) )\n",
    "print('Target word :{} '.format(target))\n",
    "print('Similar Words')\n",
    "print(*similar_words)"
   ]
  },
  {
   "cell_type": "markdown",
   "id": "497e2bf9",
   "metadata": {},
   "source": [
    "<a id=\"unpack\"></a>\n",
    "# 8 Python: Unpacking lists and dictionaries\n",
    "[Back to Contents](#Contents) "
   ]
  },
  {
   "cell_type": "code",
   "execution_count": 5,
   "id": "9316e3d2",
   "metadata": {},
   "outputs": [],
   "source": [
    "list_1 = [1, 2, 3, 4, 5, 6 ]\n",
    "list_2 = ['apple']*5\n",
    "# unpacking using *\n",
    "new_list = [*list_1, *list_2]\n"
   ]
  },
  {
   "cell_type": "code",
   "execution_count": 6,
   "id": "f3b50a8a",
   "metadata": {},
   "outputs": [
    {
     "data": {
      "text/plain": [
       "[1, 2, 3, 4, 5, 6, 'apple', 'apple', 'apple', 'apple', 'apple']"
      ]
     },
     "execution_count": 6,
     "metadata": {},
     "output_type": "execute_result"
    }
   ],
   "source": [
    "new_list"
   ]
  },
  {
   "cell_type": "markdown",
   "id": "5db737e7",
   "metadata": {},
   "source": [
    "Unpacking a dictionary\n"
   ]
  },
  {
   "cell_type": "code",
   "execution_count": 7,
   "id": "7427ece6",
   "metadata": {},
   "outputs": [
    {
     "data": {
      "text/plain": [
       "'2020-01-01-Beethoven-Symphony No 5.txt'"
      ]
     },
     "execution_count": 7,
     "metadata": {},
     "output_type": "execute_result"
    }
   ],
   "source": [
    "date_info = {'year': \"2020\", 'month': \"01\", 'day': \"01\"}\n",
    "track_info = {'artist': \"Beethoven\", 'title': 'Symphony No 5'}\n",
    "filename = \"{year}-{month}-{day}-{artist}-{title}.txt\".format(**date_info,**track_info,)\n",
    "\n",
    "filename\n",
    "'2020-01-01-Beethoven-Symphony No 5.txt'"
   ]
  },
  {
   "cell_type": "markdown",
   "id": "6cf9de5f",
   "metadata": {},
   "source": [
    "<a id=\"zip\"></a>\n",
    "# 9 Python: Zip \n",
    "[Back to Contents](#Contents)"
   ]
  },
  {
   "cell_type": "code",
   "execution_count": 9,
   "id": "cb6db156",
   "metadata": {},
   "outputs": [
    {
     "data": {
      "text/plain": [
       "[(1, 'apple'), (2, 'apple'), (3, 'apple'), (4, 'apple'), (5, 'apple')]"
      ]
     },
     "execution_count": 9,
     "metadata": {},
     "output_type": "execute_result"
    }
   ],
   "source": [
    "# combine two lists together element wise\n",
    "\n",
    "list(zip(list_1, list_2))"
   ]
  },
  {
   "cell_type": "code",
   "execution_count": 13,
   "id": "ee1bcbdc",
   "metadata": {},
   "outputs": [
    {
     "name": "stdout",
     "output_type": "stream",
     "text": [
      "1 apple\n",
      "2 apple\n",
      "3 apple\n",
      "4 apple\n",
      "5 apple\n"
     ]
    }
   ],
   "source": [
    "# list in a for loop\n",
    "\n",
    "for i, j in zip(list_1, list_2):\n",
    "    print(i, j)"
   ]
  },
  {
   "cell_type": "markdown",
   "id": "de58975e",
   "metadata": {},
   "source": [
    "<a id=\"set\"></a>\n",
    "# 10 Python: Sets\n",
    "[Back to Contents](#Contents)"
   ]
  },
  {
   "cell_type": "code",
   "execution_count": 52,
   "id": "ee606fdf",
   "metadata": {},
   "outputs": [],
   "source": [
    "my_set_1 = {1, 2, 3} #  this is a set\n",
    "my_set_2 = {1, 1, 3} #  this is a set tthis will be stred as {1, 3} -- no duplicates in sets\n",
    "my_set_3 = {1, 5, 3} #  this is a set\n"
   ]
  },
  {
   "cell_type": "code",
   "execution_count": 56,
   "id": "dd884756",
   "metadata": {},
   "outputs": [],
   "source": [
    "my_set_2.add(12) # add to a set\n",
    "my_set_2.remove(12) # remove from a set"
   ]
  },
  {
   "cell_type": "code",
   "execution_count": 64,
   "id": "3f4d8b6a",
   "metadata": {},
   "outputs": [
    {
     "data": {
      "text/plain": [
       "{1, 2, 3}"
      ]
     },
     "execution_count": 64,
     "metadata": {},
     "output_type": "execute_result"
    }
   ],
   "source": [
    "my_set_5 = my_set_1.union( my_set_2)\n",
    "my_set_5 # retunrs only common elements"
   ]
  },
  {
   "cell_type": "markdown",
   "id": "f4430dbe",
   "metadata": {},
   "source": [
    "Method\tDescription \n",
    "\n",
    "\n",
    "add()\tAdds an element to the set\n",
    "\n",
    "\n",
    "clear()\tRemoves all the elements from the set\n",
    "\n",
    "\n",
    "copy()\tReturns a copy of the set\n",
    "\n",
    "\n",
    "difference()\tReturns a set containing the difference between two or more sets\n",
    "\n",
    "\n",
    "difference_update()\tRemoves the items in this set that are also included in another, specified set\n",
    "\n",
    "\n",
    "discard()\tRemove the specified item\n",
    "\n",
    "\n",
    "intersection()\tReturns a set, that is the intersection of two other sets\n",
    "\n",
    "\n",
    "intersection_update()\tRemoves the items in this set that are not present in other, specified set(s)\n",
    "\n",
    "\n",
    "isdisjoint()\tReturns whether two sets have a intersection or not\n",
    "\n",
    "\n",
    "issubset()\tReturns whether another set contains this set or not\n",
    "\n",
    "\n",
    "issuperset()\tReturns whether this set contains another set or not\n",
    "\n",
    "\n",
    "pop()\tRemoves an element from the set\n",
    "\n",
    "\n",
    "remove()\tRemoves the specified element\n",
    "\n",
    "\n",
    "symmetric_difference()\tReturns a set with the symmetric differences of two sets\n",
    "\n",
    "\n",
    "symmetric_difference_update()\tinserts the symmetric differences from this set and another\n",
    "\n",
    "\n",
    "union()\tReturn a set containing the union of sets\n",
    "\n",
    "\n",
    "update()\tUpdate the set with the union of this set and others"
   ]
  },
  {
   "cell_type": "code",
   "execution_count": 68,
   "id": "71bcddff",
   "metadata": {},
   "outputs": [],
   "source": []
  },
  {
   "cell_type": "code",
   "execution_count": 71,
   "id": "3b9ac4f4",
   "metadata": {},
   "outputs": [
    {
     "data": {
      "text/plain": [
       "{1, 23}"
      ]
     },
     "execution_count": 71,
     "metadata": {},
     "output_type": "execute_result"
    }
   ],
   "source": []
  },
  {
   "cell_type": "code",
   "execution_count": null,
   "id": "4bd8c135",
   "metadata": {},
   "outputs": [],
   "source": []
  }
 ],
 "metadata": {
  "interpreter": {
   "hash": "4f0c07b8eab0735ce321584a68bab2d1535fa05b90573eb7e0054ff8055aedd7"
  },
  "kernelspec": {
   "display_name": "Python 3 (ipykernel)",
   "language": "python",
   "name": "python3"
  },
  "language_info": {
   "codemirror_mode": {
    "name": "ipython",
    "version": 3
   },
   "file_extension": ".py",
   "mimetype": "text/x-python",
   "name": "python",
   "nbconvert_exporter": "python",
   "pygments_lexer": "ipython3",
   "version": "3.9.12"
  }
 },
 "nbformat": 4,
 "nbformat_minor": 5
}
