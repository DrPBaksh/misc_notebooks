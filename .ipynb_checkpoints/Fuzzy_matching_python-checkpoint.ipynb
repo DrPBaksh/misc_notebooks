{
 "cells": [
  {
   "cell_type": "markdown",
   "id": "07e06ed1-747a-49ad-988e-30db10a9ce1c",
   "metadata": {},
   "source": [
    "###  Python: Fuzzy matching"
   ]
  },
  {
   "cell_type": "markdown",
   "id": "789f0694-f0d0-4462-81e1-cfec698bdf5d",
   "metadata": {},
   "source": [
    "Fuzzy matching is used to match strings that do not exactly match\n"
   ]
  },
  {
   "cell_type": "code",
   "execution_count": 1,
   "id": "f1a56936-b718-42d7-9061-a69323b9b905",
   "metadata": {},
   "outputs": [
    {
     "name": "stdout",
     "output_type": "stream",
     "text": [
      "Requirement already satisfied: fuzzywuzzy in c:\\users\\peterbaksh\\anaconda3\\lib\\site-packages (0.18.0)\n"
     ]
    },
    {
     "name": "stderr",
     "output_type": "stream",
     "text": [
      "WARNING: Ignoring invalid distribution -illow (c:\\users\\peterbaksh\\anaconda3\\lib\\site-packages)\n",
      "WARNING: Ignoring invalid distribution -atplotlib (c:\\users\\peterbaksh\\anaconda3\\lib\\site-packages)\n",
      "WARNING: Ignoring invalid distribution -illow (c:\\users\\peterbaksh\\anaconda3\\lib\\site-packages)\n",
      "WARNING: Ignoring invalid distribution -atplotlib (c:\\users\\peterbaksh\\anaconda3\\lib\\site-packages)\n",
      "WARNING: Ignoring invalid distribution -illow (c:\\users\\peterbaksh\\anaconda3\\lib\\site-packages)\n",
      "WARNING: Ignoring invalid distribution -atplotlib (c:\\users\\peterbaksh\\anaconda3\\lib\\site-packages)\n",
      "WARNING: Ignoring invalid distribution -illow (c:\\users\\peterbaksh\\anaconda3\\lib\\site-packages)\n",
      "WARNING: Ignoring invalid distribution -atplotlib (c:\\users\\peterbaksh\\anaconda3\\lib\\site-packages)\n",
      "WARNING: Ignoring invalid distribution -illow (c:\\users\\peterbaksh\\anaconda3\\lib\\site-packages)\n",
      "WARNING: Ignoring invalid distribution -atplotlib (c:\\users\\peterbaksh\\anaconda3\\lib\\site-packages)\n",
      "WARNING: Ignoring invalid distribution -illow (c:\\users\\peterbaksh\\anaconda3\\lib\\site-packages)\n",
      "WARNING: Ignoring invalid distribution -atplotlib (c:\\users\\peterbaksh\\anaconda3\\lib\\site-packages)\n"
     ]
    }
   ],
   "source": [
    "!pip3 install fuzzywuzzy #  you may need to run this to install the package \n",
    "!pip3 install pyenchant #  for calculation levenstein distance"
   ]
  },
  {
   "cell_type": "markdown",
   "id": "8359270e-7544-44f3-8719-432d9baf06ef",
   "metadata": {},
   "source": [
    "The following links explain fuzzy matching in Python well\n",
    "\n",
    "https://www.jashds.com/blog/2019/05/13/fuzzy-stringmatching-python#:~:text='.,differences%20existing%20between%20both%20strings.\n",
    "\n",
    "https://towardsdatascience.com/fuzzy-string-matching-in-python-68f240d910fe\n"
   ]
  },
  {
   "cell_type": "code",
   "execution_count": 23,
   "id": "c7947556-eb29-41c3-bf52-8d45185a1cbc",
   "metadata": {},
   "outputs": [
    {
     "name": "stdout",
     "output_type": "stream",
     "text": [
      "50\n"
     ]
    }
   ],
   "source": [
    "from fuzzywuzzy import fuzz\n",
    "Str1 = \"Back\"\n",
    "Str2 = \"Book\"\n",
    "Ratio = fuzz.ratio(Str1.lower(),Str2.lower())\n",
    "print(Ratio)"
   ]
  },
  {
   "cell_type": "markdown",
   "id": "c8807e2c-fbeb-437b-a5f0-957bde65b4d3",
   "metadata": {},
   "source": [
    "A metric known as the Levenshtein distance is the amount of changes you would have to make to one string to get to the other. In this case we can work it out with the code below. First we calculate the distance and the ratio is calculated by dividing this distance by the length of the longest string"
   ]
  },
  {
   "cell_type": "code",
   "execution_count": 24,
   "id": "19205d51-b6fb-49d8-b06c-241ddc4ee495",
   "metadata": {},
   "outputs": [
    {
     "name": "stdout",
     "output_type": "stream",
     "text": [
      "2\n",
      "0.5\n"
     ]
    }
   ],
   "source": [
    "\n",
    "print(enchant.utils.levenshtein(Str1, Str2))  # levenstein distance\n",
    "print(enchant.utils.levenshtein(Str1, Str2) / len(max([Str1, Str2])))  # levenstein distance divided by len of maximum string\n",
    "\n"
   ]
  },
  {
   "cell_type": "markdown",
   "id": "f7e95582-775e-4a8a-9c7f-8f4203ca754e",
   "metadata": {},
   "source": [
    "We can use a substring to check if one string is a sub string of another string"
   ]
  },
  {
   "cell_type": "code",
   "execution_count": 25,
   "id": "d72aab0e-83f2-4672-82c0-9bbdc47c3945",
   "metadata": {},
   "outputs": [
    {
     "name": "stdout",
     "output_type": "stream",
     "text": [
      "100\n"
     ]
    }
   ],
   "source": [
    "Str1 = \"My name is Ali\"\n",
    "Str2 = \"My name is Ali Abdaal\"\n",
    "print(fuzz.partial_ratio(Str1.lower(),Str2.lower()))"
   ]
  },
  {
   "cell_type": "markdown",
   "id": "0152bdca-bf11-4f22-bae5-9ae596ecd09d",
   "metadata": {},
   "source": [
    "100 here indicates that 100% of one string is contained within another string"
   ]
  },
  {
   "cell_type": "markdown",
   "id": "51459e10-252e-47f7-b121-7130c046e104",
   "metadata": {},
   "source": [
    "We can try to apply our fuzzy matching in a example below"
   ]
  },
  {
   "cell_type": "code",
   "execution_count": 26,
   "id": "8d6b9e70-684e-4d5c-80b0-caf56463e5ea",
   "metadata": {},
   "outputs": [
    {
     "name": "stdout",
     "output_type": "stream",
     "text": [
      "Target word :london \n",
      "Similar Words\n",
      "London LONDON Lndon Landon ldndon\n"
     ]
    }
   ],
   "source": [
    "city_version = ['London', 'LONDON', 'Lndon', 'Landon', 'ldndon', 'france', 'auz']\n",
    "global target  \n",
    "target = 'london'\n",
    "def apply_fuzz( trial):\n",
    "    if fuzz.ratio(target, trial.lower()) > 50:\n",
    "        return True\n",
    "\n",
    "similar_words = list(filter(apply_fuzz, city_version) )\n",
    "print('Target word :{} '.format(target))\n",
    "print('Similar Words')\n",
    "print(*similar_words)"
   ]
  },
  {
   "cell_type": "markdown",
   "id": "6c4295c7-939b-406a-9653-794202f583ee",
   "metadata": {},
   "source": [
    "Here we first look at a list of cities with various spelling mistake. We then create a variable that will be a global variable (accessed inside and outside functions) called target. This will be the correct spelling of the string. We then look to filter our data by the fuzzy ratio. list(filter(apply_fuzz, city_version) ), this line of code applies the apply fuzz filter to the list called city_version. It will only return the elements of city version where the fuzzy ratio is true. We then print out the similar words"
   ]
  },
  {
   "cell_type": "code",
   "execution_count": null,
   "id": "9623cecb-0fa4-4149-80b6-c4ac4054f75a",
   "metadata": {},
   "outputs": [],
   "source": []
  }
 ],
 "metadata": {
  "kernelspec": {
   "display_name": "Python 3 (ipykernel)",
   "language": "python",
   "name": "python3"
  },
  "language_info": {
   "codemirror_mode": {
    "name": "ipython",
    "version": 3
   },
   "file_extension": ".py",
   "mimetype": "text/x-python",
   "name": "python",
   "nbconvert_exporter": "python",
   "pygments_lexer": "ipython3",
   "version": "3.9.12"
  }
 },
 "nbformat": 4,
 "nbformat_minor": 5
}
