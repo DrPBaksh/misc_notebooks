{
 "cells": [
  {
   "cell_type": "markdown",
   "id": "f9b5df45-0614-48c2-88c2-3a2b0ff4e87a",
   "metadata": {},
   "source": [
    "# Cleaning dates in pandas"
   ]
  },
  {
   "cell_type": "markdown",
   "id": "0ade7369-5ec8-4f50-9d9f-ceca09b2ee46",
   "metadata": {},
   "source": [
    "Often we encounter dates in different formats. Pandas has a helpful method called pd.to_datetime which can be good for converting dates in their string format to a datetime format. It is good to get dates in their date time format since it makes them far easier to work with. \n",
    "\n",
    "https://pandas.pydata.org/docs/reference/api/pandas.to_datetime.html\n",
    "\n",
    "A further resource on pd.to_datetime can be found here\n",
    "\n",
    "https://pandas.pydata.org/docs/reference/api/pandas.to_datetime.html\n",
    "\n"
   ]
  },
  {
   "cell_type": "markdown",
   "id": "ec9c6d72-e262-41b6-989c-80268cf0e0c6",
   "metadata": {},
   "source": [
    "Lets look at a few examples of using pd.to_datetime since it could be what you need early on and do not need very customised functions. THe codes below will help us\n",
    "\n",
    "- %Y: Four-digit year\n",
    "- %y: Two-digit year\n",
    "- %m: Two-digit month [01, 12]\n",
    "- %d: Two-digit day [01, 31]\n",
    "- %H: Hour (24-hour clock) [00, 23]\n",
    "- %I: Hour (12-hour clock) [01, 12]\n",
    "- %M: Two-digit minute [00, 59]\n",
    "- %S: Second [00, 61]\n",
    "- %f: Microsecond [000000, 999999]\n",
    "\n",
    "This link gives us even more\n",
    "https://dataindependent.com/pandas/pandas-to-datetime-string-to-date-pd-to_datetime/\n",
    "\n"
   ]
  },
  {
   "cell_type": "code",
   "execution_count": 2,
   "id": "9aba34a5-e605-4b70-80bb-8feb3cd6aa3a",
   "metadata": {},
   "outputs": [
    {
     "data": {
      "text/plain": [
       "Timestamp('2018-03-01 00:00:00')"
      ]
     },
     "execution_count": 2,
     "metadata": {},
     "output_type": "execute_result"
    }
   ],
   "source": [
    "import pandas as pd\n",
    "date_1 = \"01-03-18\"\n",
    "pd.to_datetime(date_1, format = \"%d-%m-%y\")"
   ]
  },
  {
   "cell_type": "markdown",
   "id": "96a03c09-0da8-4d74-9484-951f6e18b058",
   "metadata": {},
   "source": [
    "Notice if i put the format in wrong it throws an error"
   ]
  },
  {
   "cell_type": "code",
   "execution_count": 3,
   "id": "908d0ee8-8cbb-4d73-b851-3f0430d38407",
   "metadata": {},
   "outputs": [
    {
     "ename": "ValueError",
     "evalue": "time data '01-03-18' does not match format '%d-%m-%Y' (match)",
     "output_type": "error",
     "traceback": [
      "\u001b[1;31m---------------------------------------------------------------------------\u001b[0m",
      "\u001b[1;31mTypeError\u001b[0m                                 Traceback (most recent call last)",
      "File \u001b[1;32m~\\anaconda3\\lib\\site-packages\\pandas\\core\\tools\\datetimes.py:510\u001b[0m, in \u001b[0;36m_to_datetime_with_format\u001b[1;34m(arg, orig_arg, name, tz, fmt, exact, errors, infer_datetime_format)\u001b[0m\n\u001b[0;32m    509\u001b[0m \u001b[38;5;28;01mtry\u001b[39;00m:\n\u001b[1;32m--> 510\u001b[0m     values, tz \u001b[38;5;241m=\u001b[39m \u001b[43mconversion\u001b[49m\u001b[38;5;241;43m.\u001b[39;49m\u001b[43mdatetime_to_datetime64\u001b[49m\u001b[43m(\u001b[49m\u001b[43marg\u001b[49m\u001b[43m)\u001b[49m\n\u001b[0;32m    511\u001b[0m     dta \u001b[38;5;241m=\u001b[39m DatetimeArray(values, dtype\u001b[38;5;241m=\u001b[39mtz_to_dtype(tz))\n",
      "File \u001b[1;32m~\\anaconda3\\lib\\site-packages\\pandas\\_libs\\tslibs\\conversion.pyx:360\u001b[0m, in \u001b[0;36mpandas._libs.tslibs.conversion.datetime_to_datetime64\u001b[1;34m()\u001b[0m\n",
      "\u001b[1;31mTypeError\u001b[0m: Unrecognized value type: <class 'str'>",
      "\nDuring handling of the above exception, another exception occurred:\n",
      "\u001b[1;31mValueError\u001b[0m                                Traceback (most recent call last)",
      "Input \u001b[1;32mIn [3]\u001b[0m, in \u001b[0;36m<cell line: 1>\u001b[1;34m()\u001b[0m\n\u001b[1;32m----> 1\u001b[0m \u001b[43mpd\u001b[49m\u001b[38;5;241;43m.\u001b[39;49m\u001b[43mto_datetime\u001b[49m\u001b[43m(\u001b[49m\u001b[43mdate_1\u001b[49m\u001b[43m,\u001b[49m\u001b[43m \u001b[49m\u001b[38;5;28;43mformat\u001b[39;49m\u001b[43m \u001b[49m\u001b[38;5;241;43m=\u001b[39;49m\u001b[43m \u001b[49m\u001b[38;5;124;43m\"\u001b[39;49m\u001b[38;5;132;43;01m%d\u001b[39;49;00m\u001b[38;5;124;43m-\u001b[39;49m\u001b[38;5;124;43m%\u001b[39;49m\u001b[38;5;124;43mm-\u001b[39;49m\u001b[38;5;124;43m%\u001b[39;49m\u001b[38;5;124;43mY\u001b[39;49m\u001b[38;5;124;43m\"\u001b[39;49m\u001b[43m)\u001b[49m\n",
      "File \u001b[1;32m~\\anaconda3\\lib\\site-packages\\pandas\\core\\tools\\datetimes.py:1078\u001b[0m, in \u001b[0;36mto_datetime\u001b[1;34m(arg, errors, dayfirst, yearfirst, utc, format, exact, unit, infer_datetime_format, origin, cache)\u001b[0m\n\u001b[0;32m   1076\u001b[0m         result \u001b[38;5;241m=\u001b[39m convert_listlike(arg, \u001b[38;5;28mformat\u001b[39m)\n\u001b[0;32m   1077\u001b[0m \u001b[38;5;28;01melse\u001b[39;00m:\n\u001b[1;32m-> 1078\u001b[0m     result \u001b[38;5;241m=\u001b[39m \u001b[43mconvert_listlike\u001b[49m\u001b[43m(\u001b[49m\u001b[43mnp\u001b[49m\u001b[38;5;241;43m.\u001b[39;49m\u001b[43marray\u001b[49m\u001b[43m(\u001b[49m\u001b[43m[\u001b[49m\u001b[43marg\u001b[49m\u001b[43m]\u001b[49m\u001b[43m)\u001b[49m\u001b[43m,\u001b[49m\u001b[43m \u001b[49m\u001b[38;5;28;43mformat\u001b[39;49m\u001b[43m)\u001b[49m[\u001b[38;5;241m0\u001b[39m]\n\u001b[0;32m   1080\u001b[0m \u001b[38;5;66;03m#  error: Incompatible return value type (got \"Union[Timestamp, NaTType,\u001b[39;00m\n\u001b[0;32m   1081\u001b[0m \u001b[38;5;66;03m# Series, Index]\", expected \"Union[DatetimeIndex, Series, float, str,\u001b[39;00m\n\u001b[0;32m   1082\u001b[0m \u001b[38;5;66;03m# NaTType, None]\")\u001b[39;00m\n\u001b[0;32m   1083\u001b[0m \u001b[38;5;28;01mreturn\u001b[39;00m result\n",
      "File \u001b[1;32m~\\anaconda3\\lib\\site-packages\\pandas\\core\\tools\\datetimes.py:394\u001b[0m, in \u001b[0;36m_convert_listlike_datetimes\u001b[1;34m(arg, format, name, tz, unit, errors, infer_datetime_format, dayfirst, yearfirst, exact)\u001b[0m\n\u001b[0;32m    391\u001b[0m         \u001b[38;5;28mformat\u001b[39m \u001b[38;5;241m=\u001b[39m \u001b[38;5;28;01mNone\u001b[39;00m\n\u001b[0;32m    393\u001b[0m \u001b[38;5;28;01mif\u001b[39;00m \u001b[38;5;28mformat\u001b[39m \u001b[38;5;129;01mis\u001b[39;00m \u001b[38;5;129;01mnot\u001b[39;00m \u001b[38;5;28;01mNone\u001b[39;00m:\n\u001b[1;32m--> 394\u001b[0m     res \u001b[38;5;241m=\u001b[39m \u001b[43m_to_datetime_with_format\u001b[49m\u001b[43m(\u001b[49m\n\u001b[0;32m    395\u001b[0m \u001b[43m        \u001b[49m\u001b[43marg\u001b[49m\u001b[43m,\u001b[49m\u001b[43m \u001b[49m\u001b[43morig_arg\u001b[49m\u001b[43m,\u001b[49m\u001b[43m \u001b[49m\u001b[43mname\u001b[49m\u001b[43m,\u001b[49m\u001b[43m \u001b[49m\u001b[43mtz\u001b[49m\u001b[43m,\u001b[49m\u001b[43m \u001b[49m\u001b[38;5;28;43mformat\u001b[39;49m\u001b[43m,\u001b[49m\u001b[43m \u001b[49m\u001b[43mexact\u001b[49m\u001b[43m,\u001b[49m\u001b[43m \u001b[49m\u001b[43merrors\u001b[49m\u001b[43m,\u001b[49m\u001b[43m \u001b[49m\u001b[43minfer_datetime_format\u001b[49m\n\u001b[0;32m    396\u001b[0m \u001b[43m    \u001b[49m\u001b[43m)\u001b[49m\n\u001b[0;32m    397\u001b[0m     \u001b[38;5;28;01mif\u001b[39;00m res \u001b[38;5;129;01mis\u001b[39;00m \u001b[38;5;129;01mnot\u001b[39;00m \u001b[38;5;28;01mNone\u001b[39;00m:\n\u001b[0;32m    398\u001b[0m         \u001b[38;5;28;01mreturn\u001b[39;00m res\n",
      "File \u001b[1;32m~\\anaconda3\\lib\\site-packages\\pandas\\core\\tools\\datetimes.py:514\u001b[0m, in \u001b[0;36m_to_datetime_with_format\u001b[1;34m(arg, orig_arg, name, tz, fmt, exact, errors, infer_datetime_format)\u001b[0m\n\u001b[0;32m    512\u001b[0m     \u001b[38;5;28;01mreturn\u001b[39;00m DatetimeIndex\u001b[38;5;241m.\u001b[39m_simple_new(dta, name\u001b[38;5;241m=\u001b[39mname)\n\u001b[0;32m    513\u001b[0m \u001b[38;5;28;01mexcept\u001b[39;00m (\u001b[38;5;167;01mValueError\u001b[39;00m, \u001b[38;5;167;01mTypeError\u001b[39;00m):\n\u001b[1;32m--> 514\u001b[0m     \u001b[38;5;28;01mraise\u001b[39;00m err\n",
      "File \u001b[1;32m~\\anaconda3\\lib\\site-packages\\pandas\\core\\tools\\datetimes.py:501\u001b[0m, in \u001b[0;36m_to_datetime_with_format\u001b[1;34m(arg, orig_arg, name, tz, fmt, exact, errors, infer_datetime_format)\u001b[0m\n\u001b[0;32m    498\u001b[0m             \u001b[38;5;28;01mreturn\u001b[39;00m _box_as_indexlike(result, utc\u001b[38;5;241m=\u001b[39mutc, name\u001b[38;5;241m=\u001b[39mname)\n\u001b[0;32m    500\u001b[0m     \u001b[38;5;66;03m# fallback\u001b[39;00m\n\u001b[1;32m--> 501\u001b[0m     res \u001b[38;5;241m=\u001b[39m \u001b[43m_array_strptime_with_fallback\u001b[49m\u001b[43m(\u001b[49m\n\u001b[0;32m    502\u001b[0m \u001b[43m        \u001b[49m\u001b[43marg\u001b[49m\u001b[43m,\u001b[49m\u001b[43m \u001b[49m\u001b[43mname\u001b[49m\u001b[43m,\u001b[49m\u001b[43m \u001b[49m\u001b[43mtz\u001b[49m\u001b[43m,\u001b[49m\u001b[43m \u001b[49m\u001b[43mfmt\u001b[49m\u001b[43m,\u001b[49m\u001b[43m \u001b[49m\u001b[43mexact\u001b[49m\u001b[43m,\u001b[49m\u001b[43m \u001b[49m\u001b[43merrors\u001b[49m\u001b[43m,\u001b[49m\u001b[43m \u001b[49m\u001b[43minfer_datetime_format\u001b[49m\n\u001b[0;32m    503\u001b[0m \u001b[43m    \u001b[49m\u001b[43m)\u001b[49m\n\u001b[0;32m    504\u001b[0m     \u001b[38;5;28;01mreturn\u001b[39;00m res\n\u001b[0;32m    506\u001b[0m \u001b[38;5;28;01mexcept\u001b[39;00m \u001b[38;5;167;01mValueError\u001b[39;00m \u001b[38;5;28;01mas\u001b[39;00m err:\n\u001b[0;32m    507\u001b[0m     \u001b[38;5;66;03m# Fallback to try to convert datetime objects if timezone-aware\u001b[39;00m\n\u001b[0;32m    508\u001b[0m     \u001b[38;5;66;03m#  datetime objects are found without passing `utc=True`\u001b[39;00m\n",
      "File \u001b[1;32m~\\anaconda3\\lib\\site-packages\\pandas\\core\\tools\\datetimes.py:437\u001b[0m, in \u001b[0;36m_array_strptime_with_fallback\u001b[1;34m(arg, name, tz, fmt, exact, errors, infer_datetime_format)\u001b[0m\n\u001b[0;32m    434\u001b[0m utc \u001b[38;5;241m=\u001b[39m tz \u001b[38;5;241m==\u001b[39m \u001b[38;5;124m\"\u001b[39m\u001b[38;5;124mutc\u001b[39m\u001b[38;5;124m\"\u001b[39m\n\u001b[0;32m    436\u001b[0m \u001b[38;5;28;01mtry\u001b[39;00m:\n\u001b[1;32m--> 437\u001b[0m     result, timezones \u001b[38;5;241m=\u001b[39m \u001b[43marray_strptime\u001b[49m\u001b[43m(\u001b[49m\u001b[43marg\u001b[49m\u001b[43m,\u001b[49m\u001b[43m \u001b[49m\u001b[43mfmt\u001b[49m\u001b[43m,\u001b[49m\u001b[43m \u001b[49m\u001b[43mexact\u001b[49m\u001b[38;5;241;43m=\u001b[39;49m\u001b[43mexact\u001b[49m\u001b[43m,\u001b[49m\u001b[43m \u001b[49m\u001b[43merrors\u001b[49m\u001b[38;5;241;43m=\u001b[39;49m\u001b[43merrors\u001b[49m\u001b[43m)\u001b[49m\n\u001b[0;32m    438\u001b[0m     \u001b[38;5;28;01mif\u001b[39;00m \u001b[38;5;124m\"\u001b[39m\u001b[38;5;124m%\u001b[39m\u001b[38;5;124mZ\u001b[39m\u001b[38;5;124m\"\u001b[39m \u001b[38;5;129;01min\u001b[39;00m fmt \u001b[38;5;129;01mor\u001b[39;00m \u001b[38;5;124m\"\u001b[39m\u001b[38;5;124m%\u001b[39m\u001b[38;5;124mz\u001b[39m\u001b[38;5;124m\"\u001b[39m \u001b[38;5;129;01min\u001b[39;00m fmt:\n\u001b[0;32m    439\u001b[0m         \u001b[38;5;28;01mreturn\u001b[39;00m _return_parsed_timezone_results(result, timezones, tz, name)\n",
      "File \u001b[1;32m~\\anaconda3\\lib\\site-packages\\pandas\\_libs\\tslibs\\strptime.pyx:150\u001b[0m, in \u001b[0;36mpandas._libs.tslibs.strptime.array_strptime\u001b[1;34m()\u001b[0m\n",
      "\u001b[1;31mValueError\u001b[0m: time data '01-03-18' does not match format '%d-%m-%Y' (match)"
     ]
    }
   ],
   "source": [
    "pd.to_datetime(date_1, format = \"%d-%m-%Y\") # this will error"
   ]
  },
  {
   "cell_type": "markdown",
   "id": "e4e1469c-b24d-4183-9d5d-ff55ddca2ae8",
   "metadata": {},
   "source": [
    "Example 2"
   ]
  },
  {
   "cell_type": "code",
   "execution_count": null,
   "id": "676efd72-3a85-42ae-bf0d-12d58a1ae091",
   "metadata": {},
   "outputs": [],
   "source": [
    "date_2 = \"15/Jan/2020\"\n",
    "pd.to_datetime(date_2, format = \"%d/%b/%Y\")"
   ]
  },
  {
   "cell_type": "markdown",
   "id": "af048d0f-7748-4e0e-9f6d-c67e6646f19b",
   "metadata": {},
   "source": [
    "Example 3"
   ]
  },
  {
   "cell_type": "code",
   "execution_count": null,
   "id": "b8a2c6bf-1f8e-4162-b6b6-1215877fd4bf",
   "metadata": {},
   "outputs": [],
   "source": [
    "date_3 = \"1/March/2020\"\n",
    "pd.to_datetime(date_3, format = \"%d/%B/%Y\")"
   ]
  },
  {
   "cell_type": "markdown",
   "id": "d5d7ca09-90dd-4ae1-bb39-253c7fabd086",
   "metadata": {},
   "source": [
    "Example 4"
   ]
  },
  {
   "cell_type": "code",
   "execution_count": null,
   "id": "1ad825af-abef-4e10-a649-fb7245fdbcf0",
   "metadata": {},
   "outputs": [],
   "source": [
    "date_3 = \"3rd april 1954\"\n",
    "pd.to_datetime(date_3, format = \"%drd %B %Y\")"
   ]
  },
  {
   "cell_type": "markdown",
   "id": "07a2b297-1513-418e-84c7-a7f38ba2eb1b",
   "metadata": {},
   "source": [
    "### Real date data\n",
    "\n",
    "Often the problem with real data is that date format comes in in a variety of formats and often in a complete mess. Below we are going to walk through a process (and by no doubt the most efficient) that I have gone through to clean some date time data. In the analysis below using pd.datetime could have simplified thi"
   ]
  },
  {
   "cell_type": "code",
   "execution_count": 4,
   "id": "35f344de-488b-40dd-8908-6b966d71edf1",
   "metadata": {},
   "outputs": [],
   "source": [
    "import pandas as pd\n",
    "from  datetime import datetime"
   ]
  },
  {
   "cell_type": "markdown",
   "id": "ab9ca32f-161a-4226-a8e3-dc63ea2b9fa9",
   "metadata": {},
   "source": [
    "Only Dates is a spreadhseet that has had all the other data removed and just the date columns. We are going to use this spreadsheet to explore the data in the date columns"
   ]
  },
  {
   "cell_type": "code",
   "execution_count": 5,
   "id": "93ed9927-09a8-493e-9b8e-60c4f7c9a7e6",
   "metadata": {},
   "outputs": [
    {
     "data": {
      "text/plain": [
       "dict_keys(['2021', '2019', '2018', '2017', '2016', '2015', '2014', '2013', '2012'])"
      ]
     },
     "execution_count": 5,
     "metadata": {},
     "output_type": "execute_result"
    }
   ],
   "source": [
    "xl= pd.read_excel('OnlyDates.xlsx', sheet_name = None)\n",
    "\n",
    "sheet_names = xl.keys() \n",
    "sheet_names"
   ]
  },
  {
   "cell_type": "code",
   "execution_count": 6,
   "id": "ea8f86b6-bfe6-499d-ad67-7df2aafa0925",
   "metadata": {},
   "outputs": [],
   "source": [
    "column_of_dates = []\n",
    "years = []\n",
    "for name in sheet_names:\n",
    "    df = pd.read_excel('OnlyDates.xlsx', sheet_name = name)\n",
    "    for i in range(len(df)):\n",
    "        column_of_dates.append(df.values[i][0])\n",
    "        years.append(int(name))\n",
    "    "
   ]
  },
  {
   "cell_type": "markdown",
   "id": "166bf130-9ab9-46e7-81d3-59c1861bded2",
   "metadata": {},
   "source": [
    "I now have two lists. One that contains a list of all the dates across the various sheets. The other is making use of the sheet name so I have a list of years that I have got from the sheet name. I will then make a dataframe from this"
   ]
  },
  {
   "cell_type": "code",
   "execution_count": 7,
   "id": "731f3103-ce64-4400-ad81-ac9eb5dc1830",
   "metadata": {},
   "outputs": [
    {
     "data": {
      "text/html": [
       "<div>\n",
       "<style scoped>\n",
       "    .dataframe tbody tr th:only-of-type {\n",
       "        vertical-align: middle;\n",
       "    }\n",
       "\n",
       "    .dataframe tbody tr th {\n",
       "        vertical-align: top;\n",
       "    }\n",
       "\n",
       "    .dataframe thead th {\n",
       "        text-align: right;\n",
       "    }\n",
       "</style>\n",
       "<table border=\"1\" class=\"dataframe\">\n",
       "  <thead>\n",
       "    <tr style=\"text-align: right;\">\n",
       "      <th></th>\n",
       "      <th>raw_date</th>\n",
       "      <th>year</th>\n",
       "    </tr>\n",
       "  </thead>\n",
       "  <tbody>\n",
       "    <tr>\n",
       "      <th>0</th>\n",
       "      <td>12th Jan 2021</td>\n",
       "      <td>2021</td>\n",
       "    </tr>\n",
       "    <tr>\n",
       "      <th>1</th>\n",
       "      <td>13th Jan 2021</td>\n",
       "      <td>2021</td>\n",
       "    </tr>\n",
       "    <tr>\n",
       "      <th>2</th>\n",
       "      <td>13th Jan 2021</td>\n",
       "      <td>2021</td>\n",
       "    </tr>\n",
       "    <tr>\n",
       "      <th>3</th>\n",
       "      <td>16th Jan 2021</td>\n",
       "      <td>2021</td>\n",
       "    </tr>\n",
       "    <tr>\n",
       "      <th>4</th>\n",
       "      <td>23rd Jan 2021</td>\n",
       "      <td>2021</td>\n",
       "    </tr>\n",
       "  </tbody>\n",
       "</table>\n",
       "</div>"
      ],
      "text/plain": [
       "        raw_date  year\n",
       "0  12th Jan 2021  2021\n",
       "1  13th Jan 2021  2021\n",
       "2  13th Jan 2021  2021\n",
       "3  16th Jan 2021  2021\n",
       "4  23rd Jan 2021  2021"
      ]
     },
     "execution_count": 7,
     "metadata": {},
     "output_type": "execute_result"
    }
   ],
   "source": [
    "df = pd.DataFrame({'raw_date' : column_of_dates, 'year': years})\n",
    "df.head()"
   ]
  },
  {
   "cell_type": "markdown",
   "id": "39d04667-46bc-499e-beb8-46390f9ca087",
   "metadata": {},
   "source": [
    "In order to get an idea of the tpyes of date formats I have I have used the sample method. CHange the number after random state to get a different sample"
   ]
  },
  {
   "cell_type": "code",
   "execution_count": 8,
   "id": "e8922f32-3f72-4565-8185-13f387d20cea",
   "metadata": {},
   "outputs": [
    {
     "data": {
      "text/html": [
       "<div>\n",
       "<style scoped>\n",
       "    .dataframe tbody tr th:only-of-type {\n",
       "        vertical-align: middle;\n",
       "    }\n",
       "\n",
       "    .dataframe tbody tr th {\n",
       "        vertical-align: top;\n",
       "    }\n",
       "\n",
       "    .dataframe thead th {\n",
       "        text-align: right;\n",
       "    }\n",
       "</style>\n",
       "<table border=\"1\" class=\"dataframe\">\n",
       "  <thead>\n",
       "    <tr style=\"text-align: right;\">\n",
       "      <th></th>\n",
       "      <th>raw_date</th>\n",
       "      <th>year</th>\n",
       "    </tr>\n",
       "  </thead>\n",
       "  <tbody>\n",
       "    <tr>\n",
       "      <th>588</th>\n",
       "      <td>day/month/yr</td>\n",
       "      <td>2016</td>\n",
       "    </tr>\n",
       "    <tr>\n",
       "      <th>896</th>\n",
       "      <td>2015-08-21 00:00:00</td>\n",
       "      <td>2015</td>\n",
       "    </tr>\n",
       "    <tr>\n",
       "      <th>283</th>\n",
       "      <td>NaN</td>\n",
       "      <td>2019</td>\n",
       "    </tr>\n",
       "    <tr>\n",
       "      <th>162</th>\n",
       "      <td>22nd February 2019</td>\n",
       "      <td>2019</td>\n",
       "    </tr>\n",
       "    <tr>\n",
       "      <th>41</th>\n",
       "      <td>12th Apr 2021</td>\n",
       "      <td>2021</td>\n",
       "    </tr>\n",
       "    <tr>\n",
       "      <th>...</th>\n",
       "      <td>...</td>\n",
       "      <td>...</td>\n",
       "    </tr>\n",
       "    <tr>\n",
       "      <th>1191</th>\n",
       "      <td>2013-07-10 00:00:00</td>\n",
       "      <td>2013</td>\n",
       "    </tr>\n",
       "    <tr>\n",
       "      <th>479</th>\n",
       "      <td>2017-03-17 00:00:00</td>\n",
       "      <td>2017</td>\n",
       "    </tr>\n",
       "    <tr>\n",
       "      <th>512</th>\n",
       "      <td>2017-05-23 00:00:00</td>\n",
       "      <td>2017</td>\n",
       "    </tr>\n",
       "    <tr>\n",
       "      <th>570</th>\n",
       "      <td>2017-09-27 00:00:00</td>\n",
       "      <td>2017</td>\n",
       "    </tr>\n",
       "    <tr>\n",
       "      <th>1021</th>\n",
       "      <td>23/9/14</td>\n",
       "      <td>2014</td>\n",
       "    </tr>\n",
       "  </tbody>\n",
       "</table>\n",
       "<p>100 rows × 2 columns</p>\n",
       "</div>"
      ],
      "text/plain": [
       "                 raw_date  year\n",
       "588          day/month/yr  2016\n",
       "896   2015-08-21 00:00:00  2015\n",
       "283                   NaN  2019\n",
       "162    22nd February 2019  2019\n",
       "41          12th Apr 2021  2021\n",
       "...                   ...   ...\n",
       "1191  2013-07-10 00:00:00  2013\n",
       "479   2017-03-17 00:00:00  2017\n",
       "512   2017-05-23 00:00:00  2017\n",
       "570   2017-09-27 00:00:00  2017\n",
       "1021              23/9/14  2014\n",
       "\n",
       "[100 rows x 2 columns]"
      ]
     },
     "execution_count": 8,
     "metadata": {},
     "output_type": "execute_result"
    }
   ],
   "source": [
    "df.sample(100, random_state=4)"
   ]
  },
  {
   "cell_type": "markdown",
   "id": "b515ba1d-f830-4ee9-8e72-f64f22562836",
   "metadata": {},
   "source": [
    "We are now going to write a function that will capture all the date formats we have in this dataset and convert them"
   ]
  },
  {
   "cell_type": "code",
   "execution_count": 9,
   "id": "059b8ece-13e4-46bc-8f1e-318e6e6266ec",
   "metadata": {},
   "outputs": [],
   "source": [
    "def check_date(x):\n",
    "    # print(len(str(x.cleaned_date)))\n",
    "    try:\n",
    "        x.cleaned_date.year\n",
    "        if str(x.cleaned_date.year) != 'nan':\n",
    "            return True\n",
    "        else:\n",
    "            return False\n",
    "    except:\n",
    "        return False\n",
    "\n",
    "def clean_dates(string):\n",
    "    x = string.raw_date\n",
    "    try:\n",
    "        return pd.to_datetime(x, format = \"%dth %B %Y\")\n",
    "    except:\n",
    "        None\n",
    "        \n",
    "    try:\n",
    "        return pd.to_datetime(x, format = \"%dth %b %Y\")\n",
    "    except:\n",
    "        None\n",
    "    try:\n",
    "        return pd.to_datetime(x, format = \"%dnd %B %Y\")\n",
    "    except:\n",
    "        None\n",
    "    try:\n",
    "        return pd.to_datetime(x, format = \"%d/%m/%y\")\n",
    "    except:\n",
    "        None\n",
    "    try:\n",
    "        return pd.to_datetime(x, format = \"%dth %b%Y\")\n",
    "    except:\n",
    "        None\n",
    "    try:\n",
    "        return pd.to_datetime(x, format = \"%drd %B %Y\")\n",
    "    except:\n",
    "        None\n",
    "    try:\n",
    "        return pd.to_datetime(x, format = \"%dth.%b.%Y\")\n",
    "    except:\n",
    "        None\n",
    "    try:\n",
    "        return pd.to_datetime(x, format = \"%drd %b %Y\")\n",
    "    except:\n",
    "        None\n",
    "    try:\n",
    "        return pd.to_datetime(x, format = \"%d.%b.%y\")\n",
    "    except:\n",
    "        None\n",
    "    try:\n",
    "        return pd.to_datetime(x, format = \"%dth  %b.%Y \")\n",
    "    except:\n",
    "        None\n",
    "    try:\n",
    "        return pd.to_datetime(x, format = \"%d.%B %y\")\n",
    "    except:\n",
    "        None\n",
    "    try:\n",
    "        return pd.to_datetime(x + '-' + str(string.year), format = \"%dth %B-%Y\")\n",
    "    except:\n",
    "        None\n",
    "    try:\n",
    "        return pd.to_datetime(x + '-' + str(string.year), format = \"%dth %b-%Y\")\n",
    "    except:\n",
    "        None\n",
    "        \n",
    "    try:\n",
    "        return pd.to_datetime(x + '-' + str(string.year), format = \"%dth %B-%Y\")\n",
    "    except:\n",
    "        None\n",
    "    try:\n",
    "        return pd.to_datetime(x, format = \"%dst %B %Y\")\n",
    "    except:\n",
    "        None\n",
    "    try:\n",
    "        return pd.to_datetime(x + '-' + str(string.year), format = \"%dth %b-%Y\")\n",
    "    except:\n",
    "        None\n",
    "    try:\n",
    "        return pd.to_datetime(x + '-' + str(string.year), format = \"%dnd %B -%Y\")\n",
    "    except:\n",
    "        None\n",
    "    try:\n",
    "        return pd.to_datetime(x + '-' + str(string.year), format = \"%dth %B -%Y\")\n",
    "    except:\n",
    "        None\n",
    "    try:\n",
    "        return pd.to_datetime(x, format = \"%drd %B %Y  \")\n",
    "    except:\n",
    "        None\n",
    "    try:\n",
    "        return pd.to_datetime(x, format = \"%dth %B %Y  \")\n",
    "    except:\n",
    "        None\n",
    "    try:\n",
    "        return pd.to_datetime(x, format = \"%dth %b.%Y\")\n",
    "    except:\n",
    "        None\n",
    "    try:\n",
    "        return pd.to_datetime(x, format = \"%dnd %b.%Y\")\n",
    "    except:\n",
    "        None\n",
    "    try:\n",
    "        return pd.to_datetime(x, format = \"%dnd %b %Y\")\n",
    "    except:\n",
    "        None\n",
    "    try:\n",
    "        return pd.to_datetime(x, format = \"%d-%m-%y\")\n",
    "    except:\n",
    "        None\n",
    "        \n",
    "        \n",
    "        \n",
    "        \n",
    "        \n",
    "\n",
    "\n",
    "\n",
    "# df.iloc[174].raw_date"
   ]
  },
  {
   "cell_type": "code",
   "execution_count": 10,
   "id": "67084914-3c18-4ba2-b8fc-961888c6c3ed",
   "metadata": {},
   "outputs": [
    {
     "name": "stdout",
     "output_type": "stream",
     "text": [
      "78\n"
     ]
    },
    {
     "data": {
      "text/html": [
       "<div>\n",
       "<style scoped>\n",
       "    .dataframe tbody tr th:only-of-type {\n",
       "        vertical-align: middle;\n",
       "    }\n",
       "\n",
       "    .dataframe tbody tr th {\n",
       "        vertical-align: top;\n",
       "    }\n",
       "\n",
       "    .dataframe thead th {\n",
       "        text-align: right;\n",
       "    }\n",
       "</style>\n",
       "<table border=\"1\" class=\"dataframe\">\n",
       "  <thead>\n",
       "    <tr style=\"text-align: right;\">\n",
       "      <th></th>\n",
       "      <th>raw_date</th>\n",
       "      <th>year</th>\n",
       "      <th>cleaned_date</th>\n",
       "      <th>correct_date</th>\n",
       "    </tr>\n",
       "  </thead>\n",
       "  <tbody>\n",
       "    <tr>\n",
       "      <th>1068</th>\n",
       "      <td>(D)</td>\n",
       "      <td>2013</td>\n",
       "      <td>NaT</td>\n",
       "      <td>False</td>\n",
       "    </tr>\n",
       "    <tr>\n",
       "      <th>948</th>\n",
       "      <td>(D)</td>\n",
       "      <td>2014</td>\n",
       "      <td>NaT</td>\n",
       "      <td>False</td>\n",
       "    </tr>\n",
       "    <tr>\n",
       "      <th>1316</th>\n",
       "      <td>NaN</td>\n",
       "      <td>2012</td>\n",
       "      <td>NaT</td>\n",
       "      <td>False</td>\n",
       "    </tr>\n",
       "    <tr>\n",
       "      <th>63</th>\n",
       "      <td>19th 05.2021</td>\n",
       "      <td>2021</td>\n",
       "      <td>NaT</td>\n",
       "      <td>False</td>\n",
       "    </tr>\n",
       "    <tr>\n",
       "      <th>332</th>\n",
       "      <td>31st March</td>\n",
       "      <td>2018</td>\n",
       "      <td>NaT</td>\n",
       "      <td>False</td>\n",
       "    </tr>\n",
       "    <tr>\n",
       "      <th>272</th>\n",
       "      <td>NaN</td>\n",
       "      <td>2019</td>\n",
       "      <td>NaT</td>\n",
       "      <td>False</td>\n",
       "    </tr>\n",
       "    <tr>\n",
       "      <th>1215</th>\n",
       "      <td>(D)</td>\n",
       "      <td>2012</td>\n",
       "      <td>NaT</td>\n",
       "      <td>False</td>\n",
       "    </tr>\n",
       "    <tr>\n",
       "      <th>284</th>\n",
       "      <td>NaN</td>\n",
       "      <td>2019</td>\n",
       "      <td>NaT</td>\n",
       "      <td>False</td>\n",
       "    </tr>\n",
       "    <tr>\n",
       "      <th>700</th>\n",
       "      <td>NaN</td>\n",
       "      <td>2016</td>\n",
       "      <td>NaT</td>\n",
       "      <td>False</td>\n",
       "    </tr>\n",
       "    <tr>\n",
       "      <th>289</th>\n",
       "      <td>NaN</td>\n",
       "      <td>2019</td>\n",
       "      <td>NaT</td>\n",
       "      <td>False</td>\n",
       "    </tr>\n",
       "  </tbody>\n",
       "</table>\n",
       "</div>"
      ],
      "text/plain": [
       "          raw_date  year cleaned_date  correct_date\n",
       "1068           (D)  2013          NaT         False\n",
       "948            (D)  2014          NaT         False\n",
       "1316           NaN  2012          NaT         False\n",
       "63    19th 05.2021  2021          NaT         False\n",
       "332     31st March  2018          NaT         False\n",
       "272            NaN  2019          NaT         False\n",
       "1215           (D)  2012          NaT         False\n",
       "284            NaN  2019          NaT         False\n",
       "700            NaN  2016          NaT         False\n",
       "289            NaN  2019          NaT         False"
      ]
     },
     "execution_count": 10,
     "metadata": {},
     "output_type": "execute_result"
    }
   ],
   "source": [
    "df['cleaned_date'] = df.apply(lambda x: clean_dates(x), axis = 1)\n",
    "df['correct_date'] = df.apply(lambda x : check_date(x), axis = 1)\n",
    "# df.iloc[0].cleaned_date.year\n",
    "print(len(df[df.correct_date== False]))\n",
    "df[df.correct_date== False].sample(10, random_state = 11)\n"
   ]
  },
  {
   "cell_type": "markdown",
   "id": "dd8dcc6f-eef1-42e1-90a8-4c2c8e09df6f",
   "metadata": {},
   "source": [
    "We can keep adding to the clean dates function"
   ]
  },
  {
   "cell_type": "markdown",
   "id": "0467ec6c-1ea0-46a2-98c8-41910c27653c",
   "metadata": {},
   "source": [
    "## Combine to make a function\n",
    "\n",
    "Now we have gone through how to catch most of the date formats we are going to combine our steps in one function that will take in a date column and spit out cleaned dates with a check date column to make it easy to find dates that need manual verification. So lets collect the bits of code together into one function"
   ]
  },
  {
   "cell_type": "markdown",
   "id": "5421c64b-92e5-4cab-ad09-6881188eb429",
   "metadata": {},
   "source": [
    "lets collect the functions we need first in the cell below"
   ]
  },
  {
   "cell_type": "markdown",
   "id": "33ca322b-bc99-4dfd-9287-3a71dbae2be2",
   "metadata": {},
   "source": [
    "### Bring in a sheet with other columns to make the script more usable"
   ]
  },
  {
   "cell_type": "code",
   "execution_count": 18,
   "id": "9b4561a6-977c-42a0-8e5a-479038ab2fe7",
   "metadata": {},
   "outputs": [
    {
     "data": {
      "text/plain": [
       "dict_keys(['2021', '2019', '2018', '2017', '2016', '2015', '2014', '2013', '2012'])"
      ]
     },
     "execution_count": 18,
     "metadata": {},
     "output_type": "execute_result"
    }
   ],
   "source": [
    "import numpy as np\n",
    "book_name = 'dummy_sheet.xlsx'\n",
    "write_name = 'dummy_date_cleaned_4.xlsx'\n",
    "date_column_name = \"Date of injury or onset of illness\"\n",
    "\n",
    "\n",
    "xl= pd.read_excel(book_name, sheet_name = None)\n",
    "sheet_names = xl.keys() \n",
    "sheet_names # change this if you want certain sheets excluded"
   ]
  },
  {
   "cell_type": "markdown",
   "id": "baf46a2f-85ed-48ff-aee7-3a890a704bc6",
   "metadata": {},
   "source": [
    "The cell below combines all of the transformations above and goes across all the sheets"
   ]
  },
  {
   "cell_type": "code",
   "execution_count": 19,
   "id": "9962ab43-f261-46cf-be1e-0383c6bc500b",
   "metadata": {},
   "outputs": [
    {
     "name": "stdout",
     "output_type": "stream",
     "text": [
      "2021\n",
      "2019\n",
      "2018\n",
      "2017\n",
      "2016\n",
      "2015\n",
      "2014\n",
      "2013\n",
      "2012\n"
     ]
    }
   ],
   "source": [
    "# def clean_xls_dates(xls_name, xls_new_name):\n",
    "writer = pd.ExcelWriter(write_name, engine='xlsxwriter')\n",
    "for sheet_name in list(sheet_names):\n",
    "    data = pd.read_excel('dummy_sheet.xlsx', sheet_name = sheet_name)\n",
    "    try:\n",
    "        result = data.applymap(lambda x: True if date_column_name in str(x) else False)\n",
    "        rows_to_skip = np.where(result)[0][0]\n",
    "        data = data.iloc[rows_to_skip:]\n",
    "        data.rename(columns = data.iloc[0], inplace = True)\n",
    "        data = data.iloc[1:]\n",
    "    except:\n",
    "        pass\n",
    "\n",
    "    \n",
    "    months = [\"jan\", \"feb\", \"mar\", \"apr\", \"may\", \"jun\", \"jul\", \"aug\", \"sep\", \"oct\", \"nov\", \"dec\"]\n",
    "    date_series = data[date_column_name]\n",
    "    year_series = [sheet_name]*len(date_series)\n",
    "    df = pd.DataFrame({'raw_date':date_series, 'year': year_series})\n",
    "    df['cleaned_date'] = df.apply(lambda x: clean_dates(x), axis = 1)\n",
    "    df['correct_date'] = df.apply(lambda x : check_date(x), axis = 1)\n",
    "    data['cleaned_date_UK'] = df.cleaned_date\n",
    "    data['date_format_correct'] = df.correct_date\n",
    "    # print(data[data.date_format_correct == False])\n",
    "\n",
    "    data.to_excel(writer, sheet_name = sheet_name, index = False)\n",
    "    print(sheet_name)\n",
    "writer.save()"
   ]
  },
  {
   "cell_type": "markdown",
   "id": "54653c9c-3783-4727-9d79-4bd251016a22",
   "metadata": {},
   "source": [
    "At this point you should open up your new sheet in excel and manauly change the remaining ones using the date format correct column as a flag"
   ]
  },
  {
   "cell_type": "code",
   "execution_count": null,
   "id": "bc724fe0-cb4f-43dd-919c-33a4c048dfac",
   "metadata": {},
   "outputs": [],
   "source": [
    "writer.close()"
   ]
  },
  {
   "cell_type": "code",
   "execution_count": null,
   "id": "26658115-78fd-4510-930e-45e5ea819dba",
   "metadata": {},
   "outputs": [],
   "source": []
  }
 ],
 "metadata": {
  "kernelspec": {
   "display_name": "Python 3 (ipykernel)",
   "language": "python",
   "name": "python3"
  },
  "language_info": {
   "codemirror_mode": {
    "name": "ipython",
    "version": 3
   },
   "file_extension": ".py",
   "mimetype": "text/x-python",
   "name": "python",
   "nbconvert_exporter": "python",
   "pygments_lexer": "ipython3",
   "version": "3.9.12"
  }
 },
 "nbformat": 4,
 "nbformat_minor": 5
}
