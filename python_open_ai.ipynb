{
 "cells": [
  {
   "cell_type": "markdown",
   "id": "ded43258-61fd-49f3-95fd-911fd374a23b",
   "metadata": {},
   "source": [
    "<img src='https://raw.githubusercontent.com/CorndelDataAnalyticsDiploma/workshop/master/Corndel%20Digital%20Logo%20Centre.png' width =\"301.5\" height=216>"
   ]
  },
  {
   "cell_type": "markdown",
   "id": "e10113b3-74aa-47b2-a772-b28e95c365c8",
   "metadata": {},
   "source": [
    "# Chat GPT3 Python API and integration with Sketch \n",
    "\n",
    "- Chat GPT3 in a NLP model with both a web interface that can complete a variety or problems made by Open AI who have many useful algorithms\n",
    "- Sketch is a small Python package that has a function to leaverage Chat GPT3 to enable it to integrate with Pandas"
   ]
  },
  {
   "cell_type": "markdown",
   "id": "8c40b5f7-6b64-4d80-909d-ec684f6f5de6",
   "metadata": {},
   "source": [
    "# OPEN AI \n",
    "\n",
    "Open AI has a variety of models to perform many AI tasks.Whilst not really necasary lets look at a high level how the text GPT algorithm works\n",
    "\n",
    "GPT stands for Generative Pre-trained Transformer. The algorithm has been trained on a common internet crawl of 410 billion tokens, a specific crawl of web text 2 makes up 19 billion tokens Books 1 12 billion, books 2 55 billion and 3 billion from wikipedia. In general each word represents a token. More  complicated works may require more than 1 token to describe them. Due to the size of the training data GPT3 does not need further data to perform specific tasks in language. \n",
    "\n",
    "GPT3 has 175 billion free paramters which is 10 times more than the previous largest NLP network\n",
    "\n",
    "OpenAI GPT3 architecture is based in a whole family of NLP models in the GPT3 family. The largets version of the model used relies on an encoder decoder architecture which is an unsupervised learning approach. The encoder netowrk learns how to encode the most importat part of the sentence and the decoder network learns how to reconstruct a sentence from the most important parts. \n",
    "\n",
    "\n",
    "\n",
    "<img src=\"https://cdn.openai.com/chatgpt/draft-20221129c/ChatGPT_Diagram.svg\" width=\"800\" height=\"400\">\n",
    "\n"
   ]
  },
  {
   "cell_type": "markdown",
   "id": "24624d02-d94f-4a0c-81b1-7fd0027c40df",
   "metadata": {},
   "source": [
    "## Useful links \n",
    "\n",
    "https://www.twilio.com/blog/ultimate-guide-openai-gpt-3-language-model\n",
    "\n",
    "https://www.youtube.com/watch?v=fgFHYZFO8Yo\n",
    "\n",
    "https://www.youtube.com/watch?v=sTeoEFzVNSc\n"
   ]
  },
  {
   "cell_type": "markdown",
   "id": "d3104bc6-6372-431c-a16e-b78b237f8fc1",
   "metadata": {},
   "source": [
    "### Free trial usage\n",
    "\n",
    "https://beta.openai.com/account/usage"
   ]
  },
  {
   "cell_type": "markdown",
   "id": "32365a47-4f61-4cd7-a709-fa355b5541a3",
   "metadata": {},
   "source": [
    "## Installing OpenAI on Python"
   ]
  },
  {
   "cell_type": "code",
   "execution_count": 4,
   "id": "937ae9b2-9e2a-4e5e-9012-3c892a11adb6",
   "metadata": {},
   "outputs": [],
   "source": [
    "# !pip install openai"
   ]
  },
  {
   "cell_type": "code",
   "execution_count": 6,
   "id": "4014285d-a591-4d96-9d95-f4762d95f84e",
   "metadata": {},
   "outputs": [],
   "source": [
    "import openai"
   ]
  },
  {
   "cell_type": "markdown",
   "id": "1f8bec18-91df-419f-bca0-1e5e5d279877",
   "metadata": {},
   "source": [
    "#### API keys\n",
    "\n",
    "Once signed up you will get 18 dollars over the next 3 months for free which for normal use is more than sufficient. You then need to register for an API key which can be done with the following link\n",
    "\n",
    "https://beta.openai.com/account/api-keys\n",
    "\n",
    "Then in python create a variable called api_key"
   ]
  },
  {
   "cell_type": "code",
   "execution_count": 33,
   "id": "a80fc0dc-3c48-4b75-a6c0-3c01d38c6061",
   "metadata": {},
   "outputs": [],
   "source": [
    "api_key = \"....................\"\n",
    "openai.api_key = api_key"
   ]
  },
  {
   "cell_type": "code",
   "execution_count": 17,
   "id": "62a8ac29-dce5-4a6c-b03a-0ee19a81eaa6",
   "metadata": {},
   "outputs": [],
   "source": []
  },
  {
   "cell_type": "markdown",
   "id": "407303c5-8322-48f6-a6e3-3f19dfa0b07c",
   "metadata": {},
   "source": [
    "#### Set up your chat bot settings"
   ]
  },
  {
   "cell_type": "code",
   "execution_count": 18,
   "id": "893123e7-94a1-4f87-b81a-69b4c379761f",
   "metadata": {},
   "outputs": [],
   "source": [
    "\n",
    "engine = \"davinci\"\n",
    "temperature = 0.9\n",
    "max_tokens = 150\n",
    "top_p = 1\n",
    "frequency_penalty = 0.0\n",
    "presence_penalty=0.6\n",
    "stop_words = [\"?\"]\n"
   ]
  },
  {
   "cell_type": "markdown",
   "id": "2369fe06-e8c8-43ca-b926-8e680793b5a0",
   "metadata": {},
   "source": [
    "#### First try "
   ]
  },
  {
   "cell_type": "code",
   "execution_count": 19,
   "id": "ab418e3b-c296-4c5a-b471-90ff1a9a147d",
   "metadata": {},
   "outputs": [
    {
     "name": "stdout",
     "output_type": "stream",
     "text": [
      "\n",
      "\n",
      "OpenAI GPT-3 is a cutting-edge natural language processing (NLP) model developed by OpenAI, a research lab exploring artificial general intelligence (AGI). GPT-3 is a transformer-based language model that uses deep learning to produce human-like text. It is trained on a massive amount of text data from sources such as the internet, books, and other documents. GPT-3 provides context-sensitive word prediction, enabling it to produce human-like text in response to prompts. When given a prompt, GPT-3 first looks at the words in the prompt and then predicts the most likely words that would come next. It then produces a response based on those predictions. GPT-3 also\n"
     ]
    }
   ],
   "source": [
    "your_question = \" How does OpenAI GPT3 Work?\"\n",
    "\n",
    "\n",
    "\n",
    "response = openai.Completion.create(\n",
    "engine=\"text-davinci-003\",\n",
    "# prompt=\"The following is a conversation with an AI assistant. The assistant is helpful, creative, clever, and very friendly.\\n\\nHuman: Hello, who are you?\\nAI: I am an AI created by OpenAI. How can I help you today?\\nHuman: \" + your_question +\"?\\nAI:\",\n",
    "prompt = your_question,\n",
    "temperature=temperature,\n",
    "max_tokens=max_tokens,\n",
    "top_p=top_p,\n",
    "frequency_penalty=frequency_penalty,\n",
    "presence_penalty=presence_penalty,\n",
    "stop=stop_words\n",
    ")\n",
    "\n",
    "answer = response[\"choices\"][0][\"text\"]\n",
    "print(answer)"
   ]
  },
  {
   "cell_type": "markdown",
   "id": "a3e982ba-3cb7-4ae2-a740-163ca00efd28",
   "metadata": {},
   "source": [
    "##### Lets make a function\n",
    "\n",
    "We shall take the code above and convert it into a fuction that is easier to call. You can set your function up how you want . Below is my example. "
   ]
  },
  {
   "cell_type": "code",
   "execution_count": 20,
   "id": "9dbf8758-602b-491c-9c07-ecb543184301",
   "metadata": {},
   "outputs": [],
   "source": [
    "def openai_question(your_question,\n",
    "                    engine = \"davinci\",\n",
    "                    temperature = 0.9,\n",
    "                    max_tokens = 150,\n",
    "                    top_p = 1,\n",
    "                    frequency_penalty = 0.0,\n",
    "                    presence_penalty=0.6,\n",
    "                    stop_words = [\"?\"]):\n",
    "    response = openai.Completion.create(\n",
    "    engine=\"text-davinci-003\",\n",
    "    prompt = your_question,\n",
    "      temperature=temperature,\n",
    "    max_tokens=max_tokens,\n",
    "    top_p=top_p,\n",
    "    frequency_penalty=frequency_penalty,\n",
    "    presence_penalty=presence_penalty,\n",
    "    stop=stop_words\n",
    "    )\n",
    "\n",
    "    answer = response[\"choices\"][0][\"text\"]\n",
    "    return answer\n",
    "                    \n",
    "                    \n",
    "    "
   ]
  },
  {
   "cell_type": "code",
   "execution_count": 21,
   "id": "ec4ea7e1-3ef9-42a0-8d67-c76e1285eb43",
   "metadata": {},
   "outputs": [
    {
     "data": {
      "text/plain": [
       "'\\n\\nCorndel are a UK-based training provider who specialize in providing high quality, accredited qualifications and training courses in the areas of business management, leadership, digital and technology, HR, and health and social care. Corndel work with a range of organisations to provide a tailored approach to learning and development, helping individuals and businesses achieve their goals.'"
      ]
     },
     "execution_count": 21,
     "metadata": {},
     "output_type": "execute_result"
    }
   ],
   "source": [
    "openai_question('Who are the training provider Corndel?')"
   ]
  },
  {
   "cell_type": "markdown",
   "id": "b784909d-b5dc-41bc-b96f-f83bfafc2df1",
   "metadata": {},
   "source": [
    "### Image generation -  for fun (my background is computer vision so I like this !)"
   ]
  },
  {
   "cell_type": "code",
   "execution_count": 27,
   "id": "122c3a94-7dff-4f98-b0c7-a069bc82153f",
   "metadata": {},
   "outputs": [],
   "source": [
    "image_description = \"\"\"\n",
    "A photograph of the rocky mountains in spring. Needs to have a river , watefall in the distance and\n",
    "snow capped mountains. Spring flowers can be seen \"\"\"\n",
    "\n",
    "response = openai.Image.create(\n",
    "  prompt=image_description,\n",
    "  n=1,\n",
    "  size=\"1024x1024\"\n",
    ")\n",
    "image_url = response['data'][0]['url']"
   ]
  },
  {
   "cell_type": "code",
   "execution_count": 28,
   "id": "eaea1464-a2c0-40b6-b4b6-6cc6a647bb30",
   "metadata": {},
   "outputs": [
    {
     "data": {
      "text/plain": [
       "'https://oaidalleapiprodscus.blob.core.windows.net/private/org-vvNpRKeKzeVYR2REvnyMlHPX/user-ZflNNGqhnvKIM2242bIhVS49/img-ndkafmRX1AbEgUlBvFnbqk1C.png?st=2023-01-28T04%3A18%3A37Z&se=2023-01-28T06%3A18%3A37Z&sp=r&sv=2021-08-06&sr=b&rscd=inline&rsct=image/png&skoid=6aaadede-4fb3-4698-a8f6-684d7786b067&sktid=a48cca56-e6da-484e-a814-9c849652bcb3&skt=2023-01-27T23%3A32%3A44Z&ske=2023-01-28T23%3A32%3A44Z&sks=b&skv=2021-08-06&sig=56Lj/gz6ZMhv0T9PJ07ZrzO9B9GBAuwx9AjxPRC5OKw%3D'"
      ]
     },
     "execution_count": 28,
     "metadata": {},
     "output_type": "execute_result"
    }
   ],
   "source": [
    "image_url"
   ]
  },
  {
   "cell_type": "markdown",
   "id": "cb9cf910-4710-4c39-b9bd-cc919b4d53b5",
   "metadata": {},
   "source": [
    "\n",
    "\n",
    "# Sketch\n"
   ]
  },
  {
   "cell_type": "markdown",
   "id": "5d360f03-976d-4147-8e63-376b9b603775",
   "metadata": {},
   "source": [
    "Sketch is a package designed to help analysis in pandas. If you are working with data in a dataframe sketch takes in natural language and makes suggestions for pandas code to answer your data analysis question"
   ]
  },
  {
   "cell_type": "markdown",
   "id": "4a5b03a8-2365-45cb-b258-a3efbee55ace",
   "metadata": {},
   "source": [
    "This notebook is based on https://github.com/approximatelabs/sketch\n",
    "\n",
    "First we install sketch. This can be done from inside jupyter using !pip or it can be done from an external terminal using pip install or conda install"
   ]
  },
  {
   "cell_type": "code",
   "execution_count": 30,
   "id": "8f9aef0a-886f-48a3-ad1b-976675020b73",
   "metadata": {},
   "outputs": [],
   "source": [
    "# !pip install sketch"
   ]
  },
  {
   "cell_type": "code",
   "execution_count": 31,
   "id": "0ece3f47-b4cd-4117-94be-ab962c231d60",
   "metadata": {},
   "outputs": [],
   "source": [
    "import pandas as pd\n",
    "import sketch"
   ]
  },
  {
   "cell_type": "markdown",
   "id": "d2a426a0-5f46-4e87-af2f-0c7eb8951794",
   "metadata": {},
   "source": [
    "Sketch has two useful functions that do not use Chat GPT3 which I encourage you to look at later. Infomation on these functions which are called ask and howto can be found at my notebook here\n",
    "https://github.com/DrPBaksh/sketch\n"
   ]
  },
  {
   "cell_type": "markdown",
   "id": "faddd101-b535-42c1-b852-5cf2c033b930",
   "metadata": {},
   "source": [
    "However for today since we are talking chat GPT3 I would like to focus on setting up sketch with chat GPT3 and using it !"
   ]
  },
  {
   "cell_type": "markdown",
   "id": "6eddb0e0-87c1-4555-8fe9-08033ccb1e82",
   "metadata": {},
   "source": [
    "## The apply function"
   ]
  },
  {
   "cell_type": "markdown",
   "id": "baadb792-5f29-498f-9683-a37c57ff5451",
   "metadata": {},
   "source": [
    "apply is a more advanced prompt that is more useful for data generation. Use it to parse fields, generate new features, and more. This is built directly on lambdaprompt. In order to use this, you will need to set up a free account with OpenAI, and set an environment variable with your API key. OPENAI_API_KEY=YOUR_API_KEY"
   ]
  },
  {
   "cell_type": "code",
   "execution_count": 32,
   "id": "8a6ee08c-93ab-42c8-b366-04953bda0180",
   "metadata": {},
   "outputs": [],
   "source": [
    "# api_key = \"................\" # ignore this if you have it written from earlier"
   ]
  },
  {
   "cell_type": "markdown",
   "id": "6be7f298-c3d8-41cb-be85-a53eb72beeb1",
   "metadata": {},
   "source": [
    "Set the key in our environmental variables"
   ]
  },
  {
   "cell_type": "code",
   "execution_count": 34,
   "id": "b97a05f6-576d-4036-bfa4-918d500a5e8e",
   "metadata": {},
   "outputs": [],
   "source": [
    "import os\n",
    "os.environ[\"SKETCH_USE_REMOTE_LAMBDAPROMPT\"] =  \"False\"\n",
    "os.environ[\"OPENAI_API_KEY\"] =  api_key"
   ]
  },
  {
   "cell_type": "markdown",
   "id": "488d482a-0b20-4340-b247-6f3572cccf00",
   "metadata": {},
   "source": [
    "Create a dataframe\n",
    "- We are first going to create adataframe of US states. I got the list of states below from Chat GPT3 asking for as list of states in quotes separated by commas\n",
    "- We are then going to use sketch to get sporting team infomation about each state"
   ]
  },
  {
   "cell_type": "code",
   "execution_count": 36,
   "id": "32a8421c-cedc-4900-b42d-c2bfc45fb868",
   "metadata": {},
   "outputs": [],
   "source": [
    "states = [\"Alabama\",\"Alaska\",\"Arizona\",\"Arkansas\",\"California\",\"Colorado\",\"Connecticut\",\"Delaware\",\"Florida\",\"Georgia\",\"Hawaii\",\"Idaho\",\"Illinois\",\"Indiana\",\"Iowa\",\"Kansas\",\"Kentucky\",\"Louisiana\",\"Maine\",\"Maryland\",\"Massachusetts\",\"Michigan\",\"Minnesota\",\"Mississippi\",\"Missouri\",\"Montana\",\"Nebraska\",\"Nevada\",\"New Hampshire\",\"New Jersey\",\"New Mexico\",\"New York\",\"North Carolina\",\"North Dakota\",\"Ohio\",\"Oklahoma\",\"Oregon\",\"Pennsylvania\",\"Rhode Island\",\"South Carolina\",\"South Dakota\",\"Tennessee\",\"Texas\",\"Utah\",\"Vermont\",\"Virginia\",\"Washington\",\"West Virginia\",\"Wisconsin\",\"Wyoming\"]\n",
    "\n",
    "state_teams = pd.DataFrame(states, columns = ['states'])"
   ]
  },
  {
   "cell_type": "code",
   "execution_count": 44,
   "id": "90da4ae0-fe7f-4943-8351-6b856b2961f3",
   "metadata": {},
   "outputs": [],
   "source": [
    "state_teams = state_teams.head(3) #  run this to limit use on your account"
   ]
  },
  {
   "cell_type": "code",
   "execution_count": 48,
   "id": "3d31c7e7-118c-4108-b4eb-c8f206516ee2",
   "metadata": {},
   "outputs": [],
   "source": [
    "state_teams['state_football'] = state_teams.sketch.apply(\"What is the most popular American football team of [{{ states }}] Answer should be team name only?\")"
   ]
  },
  {
   "cell_type": "code",
   "execution_count": 49,
   "id": "a6b5453f-6302-4af0-9d36-a4c1d9461745",
   "metadata": {},
   "outputs": [
    {
     "data": {
      "text/html": [
       "<div>\n",
       "<style scoped>\n",
       "    .dataframe tbody tr th:only-of-type {\n",
       "        vertical-align: middle;\n",
       "    }\n",
       "\n",
       "    .dataframe tbody tr th {\n",
       "        vertical-align: top;\n",
       "    }\n",
       "\n",
       "    .dataframe thead th {\n",
       "        text-align: right;\n",
       "    }\n",
       "</style>\n",
       "<table border=\"1\" class=\"dataframe\">\n",
       "  <thead>\n",
       "    <tr style=\"text-align: right;\">\n",
       "      <th></th>\n",
       "      <th>states</th>\n",
       "      <th>state_football</th>\n",
       "    </tr>\n",
       "  </thead>\n",
       "  <tbody>\n",
       "    <tr>\n",
       "      <th>0</th>\n",
       "      <td>Alabama</td>\n",
       "      <td>\\n\\nAlabama Crimson Tide</td>\n",
       "    </tr>\n",
       "    <tr>\n",
       "      <th>1</th>\n",
       "      <td>Alaska</td>\n",
       "      <td>\\n\\nAlaska Wild</td>\n",
       "    </tr>\n",
       "    <tr>\n",
       "      <th>2</th>\n",
       "      <td>Arizona</td>\n",
       "      <td>\\n\\nArizona Cardinals</td>\n",
       "    </tr>\n",
       "  </tbody>\n",
       "</table>\n",
       "</div>"
      ],
      "text/plain": [
       "    states            state_football\n",
       "0  Alabama  \\n\\nAlabama Crimson Tide\n",
       "1   Alaska           \\n\\nAlaska Wild\n",
       "2  Arizona     \\n\\nArizona Cardinals"
      ]
     },
     "execution_count": 49,
     "metadata": {},
     "output_type": "execute_result"
    }
   ],
   "source": [
    "state_teams"
   ]
  },
  {
   "cell_type": "code",
   "execution_count": 50,
   "id": "83b1d8a7-a725-4605-ba6e-1eb9aca8b4ca",
   "metadata": {},
   "outputs": [],
   "source": [
    "state_teams['state_basketball'] = state_teams.sketch.apply(\"What is the most popular basketball team of [{{ states }}] Answer should be team name only?\")"
   ]
  },
  {
   "cell_type": "code",
   "execution_count": 51,
   "id": "0ec9e1d2-8624-45e8-a709-035a53ce4044",
   "metadata": {},
   "outputs": [
    {
     "data": {
      "text/html": [
       "<div>\n",
       "<style scoped>\n",
       "    .dataframe tbody tr th:only-of-type {\n",
       "        vertical-align: middle;\n",
       "    }\n",
       "\n",
       "    .dataframe tbody tr th {\n",
       "        vertical-align: top;\n",
       "    }\n",
       "\n",
       "    .dataframe thead th {\n",
       "        text-align: right;\n",
       "    }\n",
       "</style>\n",
       "<table border=\"1\" class=\"dataframe\">\n",
       "  <thead>\n",
       "    <tr style=\"text-align: right;\">\n",
       "      <th></th>\n",
       "      <th>states</th>\n",
       "      <th>state_football</th>\n",
       "      <th>state_basketball</th>\n",
       "    </tr>\n",
       "  </thead>\n",
       "  <tbody>\n",
       "    <tr>\n",
       "      <th>0</th>\n",
       "      <td>Alabama</td>\n",
       "      <td>\\n\\nAlabama Crimson Tide</td>\n",
       "      <td>\\n\\nBirmingham Iron</td>\n",
       "    </tr>\n",
       "    <tr>\n",
       "      <th>1</th>\n",
       "      <td>Alaska</td>\n",
       "      <td>\\n\\nAlaska Wild</td>\n",
       "      <td>\\n\\nAlaska Sea Monsters</td>\n",
       "    </tr>\n",
       "    <tr>\n",
       "      <th>2</th>\n",
       "      <td>Arizona</td>\n",
       "      <td>\\n\\nArizona Cardinals</td>\n",
       "      <td>\\n\\nPhoenix Suns</td>\n",
       "    </tr>\n",
       "  </tbody>\n",
       "</table>\n",
       "</div>"
      ],
      "text/plain": [
       "    states            state_football         state_basketball\n",
       "0  Alabama  \\n\\nAlabama Crimson Tide      \\n\\nBirmingham Iron\n",
       "1   Alaska           \\n\\nAlaska Wild  \\n\\nAlaska Sea Monsters\n",
       "2  Arizona     \\n\\nArizona Cardinals         \\n\\nPhoenix Suns"
      ]
     },
     "execution_count": 51,
     "metadata": {},
     "output_type": "execute_result"
    }
   ],
   "source": [
    "state_teams"
   ]
  },
  {
   "cell_type": "code",
   "execution_count": 59,
   "id": "62faed4e-34d8-4734-acd5-0601893eaa71",
   "metadata": {},
   "outputs": [],
   "source": [
    "state_teams.state_football = state_teams.state_football.apply(lambda x : x.split('\\n\\n')[1])\n",
    "state_teams.state_basketball = state_teams.state_basketball.apply(lambda x : x.split('\\n\\n')[1])"
   ]
  },
  {
   "cell_type": "code",
   "execution_count": 60,
   "id": "df9b00c2-4980-43f0-8b1a-cd1dedbf1e90",
   "metadata": {},
   "outputs": [
    {
     "data": {
      "text/html": [
       "<div>\n",
       "<style scoped>\n",
       "    .dataframe tbody tr th:only-of-type {\n",
       "        vertical-align: middle;\n",
       "    }\n",
       "\n",
       "    .dataframe tbody tr th {\n",
       "        vertical-align: top;\n",
       "    }\n",
       "\n",
       "    .dataframe thead th {\n",
       "        text-align: right;\n",
       "    }\n",
       "</style>\n",
       "<table border=\"1\" class=\"dataframe\">\n",
       "  <thead>\n",
       "    <tr style=\"text-align: right;\">\n",
       "      <th></th>\n",
       "      <th>states</th>\n",
       "      <th>state_football</th>\n",
       "      <th>state_basketball</th>\n",
       "    </tr>\n",
       "  </thead>\n",
       "  <tbody>\n",
       "    <tr>\n",
       "      <th>0</th>\n",
       "      <td>Alabama</td>\n",
       "      <td>Alabama Crimson Tide</td>\n",
       "      <td>Birmingham Iron</td>\n",
       "    </tr>\n",
       "    <tr>\n",
       "      <th>1</th>\n",
       "      <td>Alaska</td>\n",
       "      <td>Alaska Wild</td>\n",
       "      <td>Alaska Sea Monsters</td>\n",
       "    </tr>\n",
       "    <tr>\n",
       "      <th>2</th>\n",
       "      <td>Arizona</td>\n",
       "      <td>Arizona Cardinals</td>\n",
       "      <td>Phoenix Suns</td>\n",
       "    </tr>\n",
       "  </tbody>\n",
       "</table>\n",
       "</div>"
      ],
      "text/plain": [
       "    states        state_football     state_basketball\n",
       "0  Alabama  Alabama Crimson Tide      Birmingham Iron\n",
       "1   Alaska           Alaska Wild  Alaska Sea Monsters\n",
       "2  Arizona     Arizona Cardinals         Phoenix Suns"
      ]
     },
     "execution_count": 60,
     "metadata": {},
     "output_type": "execute_result"
    }
   ],
   "source": [
    "state_teams"
   ]
  },
  {
   "cell_type": "code",
   "execution_count": null,
   "id": "48a6bf8d-3567-40ed-9b15-e5e893599280",
   "metadata": {},
   "outputs": [],
   "source": []
  }
 ],
 "metadata": {
  "kernelspec": {
   "display_name": "Python 3 (ipykernel)",
   "language": "python",
   "name": "python3"
  },
  "language_info": {
   "codemirror_mode": {
    "name": "ipython",
    "version": 3
   },
   "file_extension": ".py",
   "mimetype": "text/x-python",
   "name": "python",
   "nbconvert_exporter": "python",
   "pygments_lexer": "ipython3",
   "version": "3.9.12"
  }
 },
 "nbformat": 4,
 "nbformat_minor": 5
}
