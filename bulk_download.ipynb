{
 "cells": [
  {
   "cell_type": "code",
   "execution_count": 1,
   "id": "2cf265b4-2883-4225-906c-3d710e1d0ac7",
   "metadata": {},
   "outputs": [],
   "source": [
    "from pytube import YouTube\n",
    "\n",
    "def Download(link):\n",
    "    youtubeObject = YouTube(link)\n",
    "    youtubeObject = youtubeObject.streams.get_highest_resolution()\n",
    "    try:\n",
    "        youtubeObject.download()\n",
    "    except:\n",
    "        print(\"An error has occurred\")\n",
    "    print(\"Download is completed successfully\")\n",
    "\n",
    "\n"
   ]
  },
  {
   "cell_type": "code",
   "execution_count": 2,
   "id": "e36bb830-712f-43de-a0a2-04f9686a03e7",
   "metadata": {},
   "outputs": [],
   "source": [
    "import os\n",
    "links = ['https://www.youtube.com/watch?v=QPJT12-wrCY&t=2s']\n",
    "os.chdir('dir_name')"
   ]
  },
  {
   "cell_type": "code",
   "execution_count": 3,
   "id": "41373047-51ed-433d-9834-5addc6356ce0",
   "metadata": {},
   "outputs": [
    {
     "name": "stdout",
     "output_type": "stream",
     "text": [
      "downloading  0  of  1\n",
      "Download is completed successfully\n"
     ]
    }
   ],
   "source": [
    "\n",
    "         \n",
    "         \n",
    "for i in range(len(links)):\n",
    "    print('downloading ' , i, ' of ' , len(links))\n",
    "    Download(links[i])"
   ]
  },
  {
   "cell_type": "code",
   "execution_count": null,
   "id": "c94ff973-1e00-451b-b288-7fbe94d25490",
   "metadata": {},
   "outputs": [],
   "source": [
    "\n",
    "         "
   ]
  },
  {
   "cell_type": "code",
   "execution_count": 4,
   "id": "2991be72-e955-4659-905b-58bd73fd7ec6",
   "metadata": {},
   "outputs": [
    {
     "data": {
      "text/plain": [
       "['https://www.youtube.com/watch?v=QPJT12-wrCY&t=2s']"
      ]
     },
     "execution_count": 4,
     "metadata": {},
     "output_type": "execute_result"
    }
   ],
   "source": [
    "links"
   ]
  },
  {
   "cell_type": "code",
   "execution_count": null,
   "id": "4f127144-1684-4b89-8c52-785af9996f11",
   "metadata": {},
   "outputs": [],
   "source": []
  }
 ],
 "metadata": {
  "kernelspec": {
   "display_name": "Python 3 (ipykernel)",
   "language": "python",
   "name": "python3"
  },
  "language_info": {
   "codemirror_mode": {
    "name": "ipython",
    "version": 3
   },
   "file_extension": ".py",
   "mimetype": "text/x-python",
   "name": "python",
   "nbconvert_exporter": "python",
   "pygments_lexer": "ipython3",
   "version": "3.10.7"
  }
 },
 "nbformat": 4,
 "nbformat_minor": 5
}
